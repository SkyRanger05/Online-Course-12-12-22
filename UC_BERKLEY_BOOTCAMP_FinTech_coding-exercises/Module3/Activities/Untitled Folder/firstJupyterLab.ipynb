{
 "cells": [
  {
   "cell_type": "code",
   "execution_count": 4,
   "id": "220377c8-a513-407a-b926-7d572c493efb",
   "metadata": {
    "tags": []
   },
   "outputs": [],
   "source": [
    "import pandas as pd\n",
    "from pathlib import Path"
   ]
  },
  {
   "cell_type": "code",
   "execution_count": 9,
   "id": "fd7b80bd-e5e4-422e-9edb-420ac9345324",
   "metadata": {},
   "outputs": [],
   "source": [
    "path_object_p = Path(\"C:/Users/admin/Desktop/FinTech-Workspace/PowerPoint_sample/Module3/01_Import_Data/sales.csv\")"
   ]
  },
  {
   "cell_type": "code",
   "execution_count": 12,
   "id": "4824398e-4bd0-484e-bd75-200d718de5e1",
   "metadata": {},
   "outputs": [
    {
     "data": {
      "text/html": [
       "<div>\n",
       "<style scoped>\n",
       "    .dataframe tbody tr th:only-of-type {\n",
       "        vertical-align: middle;\n",
       "    }\n",
       "\n",
       "    .dataframe tbody tr th {\n",
       "        vertical-align: top;\n",
       "    }\n",
       "\n",
       "    .dataframe thead th {\n",
       "        text-align: right;\n",
       "    }\n",
       "</style>\n",
       "<table border=\"1\" class=\"dataframe\">\n",
       "  <thead>\n",
       "    <tr style=\"text-align: right;\">\n",
       "      <th></th>\n",
       "      <th>FullName</th>\n",
       "      <th>Email</th>\n",
       "      <th>Zip</th>\n",
       "      <th>SalePrice</th>\n",
       "    </tr>\n",
       "  </thead>\n",
       "  <tbody>\n",
       "    <tr>\n",
       "      <th>0</th>\n",
       "      <td>Elwanda White</td>\n",
       "      <td>alyre2036@live.com</td>\n",
       "      <td>9236</td>\n",
       "      <td>84.33</td>\n",
       "    </tr>\n",
       "    <tr>\n",
       "      <th>1</th>\n",
       "      <td>Lyndon Elliott</td>\n",
       "      <td>arrowy1873@outlook.com</td>\n",
       "      <td>1330</td>\n",
       "      <td>879.95</td>\n",
       "    </tr>\n",
       "    <tr>\n",
       "      <th>2</th>\n",
       "      <td>Daisey Sellers</td>\n",
       "      <td>toucan2024@outlook.com</td>\n",
       "      <td>7631</td>\n",
       "      <td>907.58</td>\n",
       "    </tr>\n",
       "    <tr>\n",
       "      <th>3</th>\n",
       "      <td>Issac Reeves</td>\n",
       "      <td>asarin1958@gmail.com</td>\n",
       "      <td>81168</td>\n",
       "      <td>545.88</td>\n",
       "    </tr>\n",
       "    <tr>\n",
       "      <th>4</th>\n",
       "      <td>Bradford Kinney</td>\n",
       "      <td>mibound1801@yandex.com</td>\n",
       "      <td>41721</td>\n",
       "      <td>517.49</td>\n",
       "    </tr>\n",
       "  </tbody>\n",
       "</table>\n",
       "</div>"
      ],
      "text/plain": [
       "          FullName                   Email    Zip  SalePrice\n",
       "0    Elwanda White      alyre2036@live.com   9236      84.33\n",
       "1   Lyndon Elliott  arrowy1873@outlook.com   1330     879.95\n",
       "2   Daisey Sellers  toucan2024@outlook.com   7631     907.58\n",
       "3     Issac Reeves    asarin1958@gmail.com  81168     545.88\n",
       "4  Bradford Kinney  mibound1801@yandex.com  41721     517.49"
      ]
     },
     "execution_count": 12,
     "metadata": {},
     "output_type": "execute_result"
    }
   ],
   "source": [
    "sales_dataframe = pd.read_csv(path_object_p)\n",
    "sales_dataframe.head()"
   ]
  },
  {
   "cell_type": "code",
   "execution_count": 13,
   "id": "dc77015e-89a1-4a3c-a814-d0e0f85217e9",
   "metadata": {},
   "outputs": [
    {
     "data": {
      "text/html": [
       "<div>\n",
       "<style scoped>\n",
       "    .dataframe tbody tr th:only-of-type {\n",
       "        vertical-align: middle;\n",
       "    }\n",
       "\n",
       "    .dataframe tbody tr th {\n",
       "        vertical-align: top;\n",
       "    }\n",
       "\n",
       "    .dataframe thead th {\n",
       "        text-align: right;\n",
       "    }\n",
       "</style>\n",
       "<table border=\"1\" class=\"dataframe\">\n",
       "  <thead>\n",
       "    <tr style=\"text-align: right;\">\n",
       "      <th></th>\n",
       "      <th>FullName</th>\n",
       "      <th>Email</th>\n",
       "      <th>Zip</th>\n",
       "      <th>SalePrice</th>\n",
       "    </tr>\n",
       "  </thead>\n",
       "  <tbody>\n",
       "    <tr>\n",
       "      <th>95</th>\n",
       "      <td>Basil Rios</td>\n",
       "      <td>holloo1814@yahoo.com</td>\n",
       "      <td>8108</td>\n",
       "      <td>937.14</td>\n",
       "    </tr>\n",
       "    <tr>\n",
       "      <th>96</th>\n",
       "      <td>Hipolito Rios</td>\n",
       "      <td>calefacient2049@gmail.com</td>\n",
       "      <td>37077</td>\n",
       "      <td>645.82</td>\n",
       "    </tr>\n",
       "    <tr>\n",
       "      <th>97</th>\n",
       "      <td>Clayton Robertson</td>\n",
       "      <td>coner2015@live.com</td>\n",
       "      <td>57242</td>\n",
       "      <td>128.73</td>\n",
       "    </tr>\n",
       "    <tr>\n",
       "      <th>98</th>\n",
       "      <td>Tony Chandler</td>\n",
       "      <td>sexillion2061@live.com</td>\n",
       "      <td>70135</td>\n",
       "      <td>820.00</td>\n",
       "    </tr>\n",
       "    <tr>\n",
       "      <th>99</th>\n",
       "      <td>Cuc Mcgowan</td>\n",
       "      <td>dispatched1820@gmail.com</td>\n",
       "      <td>70959</td>\n",
       "      <td>764.69</td>\n",
       "    </tr>\n",
       "  </tbody>\n",
       "</table>\n",
       "</div>"
      ],
      "text/plain": [
       "             FullName                      Email    Zip  SalePrice\n",
       "95         Basil Rios       holloo1814@yahoo.com   8108     937.14\n",
       "96      Hipolito Rios  calefacient2049@gmail.com  37077     645.82\n",
       "97  Clayton Robertson         coner2015@live.com  57242     128.73\n",
       "98      Tony Chandler     sexillion2061@live.com  70135     820.00\n",
       "99        Cuc Mcgowan   dispatched1820@gmail.com  70959     764.69"
      ]
     },
     "execution_count": 13,
     "metadata": {},
     "output_type": "execute_result"
    }
   ],
   "source": [
    "sales_dataframe.tail()"
   ]
  },
  {
   "cell_type": "code",
   "execution_count": null,
   "id": "1f8f7516-d7d9-423c-96cd-49d12e966d03",
   "metadata": {},
   "outputs": [],
   "source": []
  }
 ],
 "metadata": {
  "kernelspec": {
   "display_name": "Python (dev)",
   "language": "python",
   "name": "dev"
  },
  "language_info": {
   "codemirror_mode": {
    "name": "ipython",
    "version": 3
   },
   "file_extension": ".py",
   "mimetype": "text/x-python",
   "name": "python",
   "nbconvert_exporter": "python",
   "pygments_lexer": "ipython3",
   "version": "3.9.15"
  },
  "toc-showtags": true
 },
 "nbformat": 4,
 "nbformat_minor": 5
}
