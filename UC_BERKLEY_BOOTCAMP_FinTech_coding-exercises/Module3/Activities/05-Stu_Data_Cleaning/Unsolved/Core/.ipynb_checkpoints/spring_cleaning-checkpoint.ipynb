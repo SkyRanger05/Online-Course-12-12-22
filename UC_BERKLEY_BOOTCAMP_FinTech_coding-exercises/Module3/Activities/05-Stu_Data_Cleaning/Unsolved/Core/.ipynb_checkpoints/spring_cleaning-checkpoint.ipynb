{
 "cells": [
  {
   "cell_type": "markdown",
   "metadata": {},
   "source": [
    "# Spring Cleaning!"
   ]
  },
  {
   "cell_type": "markdown",
   "metadata": {},
   "source": [
    "Harold's stock data is a mess! Help him clean up his data before the auditors arrive!"
   ]
  },
  {
   "cell_type": "code",
   "execution_count": 3,
   "metadata": {},
   "outputs": [],
   "source": [
    "# Import Libraries\n",
    "import pandas as pd\n",
    "from pathlib import Path"
   ]
  },
  {
   "cell_type": "markdown",
   "metadata": {},
   "source": [
    "### Load CSV data into Pandas using `read_csv`"
   ]
  },
  {
   "cell_type": "code",
   "execution_count": 13,
   "metadata": {},
   "outputs": [],
   "source": [
    "csvpath = Path(\"../../Resources/stock_data.csv\")\n",
    "df = pd.read_csv(csvpath)"
   ]
  },
  {
   "cell_type": "markdown",
   "metadata": {},
   "source": [
    "### Identify the number of rows and columns (shape) in the DataFrame."
   ]
  },
  {
   "cell_type": "code",
   "execution_count": 11,
   "metadata": {},
   "outputs": [
    {
     "data": {
      "text/plain": [
       "RangeIndex(start=0, stop=504, step=1)"
      ]
     },
     "execution_count": 11,
     "metadata": {},
     "output_type": "execute_result"
    }
   ],
   "source": [
    "df.index\n"
   ]
  },
  {
   "cell_type": "code",
   "execution_count": 12,
   "metadata": {},
   "outputs": [
    {
     "data": {
      "text/plain": [
       "Index(['symbol', 'name', 'sector', 'price', 'price_per_earnings',\n",
       "       'dividend_yield', 'earnings_per_share', '52_week_low', '52_week_high',\n",
       "       'market_cap', 'ebitda', 'price_per_sales', 'price_per_book',\n",
       "       'sec_filings'],\n",
       "      dtype='object')"
      ]
     },
     "execution_count": 12,
     "metadata": {},
     "output_type": "execute_result"
    }
   ],
   "source": [
    "df.columns"
   ]
  },
  {
   "cell_type": "markdown",
   "metadata": {},
   "source": [
    "### Generate a sample of the data to visually ensure data has been loaded in correctly."
   ]
  },
  {
   "cell_type": "code",
   "execution_count": 22,
   "metadata": {},
   "outputs": [
    {
     "data": {
      "text/html": [
       "<div>\n",
       "<style scoped>\n",
       "    .dataframe tbody tr th:only-of-type {\n",
       "        vertical-align: middle;\n",
       "    }\n",
       "\n",
       "    .dataframe tbody tr th {\n",
       "        vertical-align: top;\n",
       "    }\n",
       "\n",
       "    .dataframe thead th {\n",
       "        text-align: right;\n",
       "    }\n",
       "</style>\n",
       "<table border=\"1\" class=\"dataframe\">\n",
       "  <thead>\n",
       "    <tr style=\"text-align: right;\">\n",
       "      <th></th>\n",
       "      <th>symbol</th>\n",
       "      <th>name</th>\n",
       "      <th>sector</th>\n",
       "      <th>price</th>\n",
       "      <th>price_per_earnings</th>\n",
       "      <th>dividend_yield</th>\n",
       "      <th>earnings_per_share</th>\n",
       "      <th>52_week_low</th>\n",
       "      <th>52_week_high</th>\n",
       "      <th>market_cap</th>\n",
       "      <th>ebitda</th>\n",
       "      <th>price_per_sales</th>\n",
       "      <th>price_per_book</th>\n",
       "      <th>sec_filings</th>\n",
       "    </tr>\n",
       "  </thead>\n",
       "  <tbody>\n",
       "    <tr>\n",
       "      <th>0</th>\n",
       "      <td>MMM</td>\n",
       "      <td>3M Company</td>\n",
       "      <td>Industrials</td>\n",
       "      <td>$222.89</td>\n",
       "      <td>24.31</td>\n",
       "      <td>2.332862</td>\n",
       "      <td>$7.92</td>\n",
       "      <td>259.770</td>\n",
       "      <td>175.49</td>\n",
       "      <td>1.387211e+11</td>\n",
       "      <td>9.048000e+09</td>\n",
       "      <td>4.390271</td>\n",
       "      <td>11.34</td>\n",
       "      <td>http://www.sec.gov/cgi-bin/browse-edgar?action...</td>\n",
       "    </tr>\n",
       "    <tr>\n",
       "      <th>1</th>\n",
       "      <td>AOS</td>\n",
       "      <td>A.O. Smith Corp</td>\n",
       "      <td>Industrials</td>\n",
       "      <td>NaN</td>\n",
       "      <td>NaN</td>\n",
       "      <td>NaN</td>\n",
       "      <td>NaN</td>\n",
       "      <td>NaN</td>\n",
       "      <td>NaN</td>\n",
       "      <td>NaN</td>\n",
       "      <td>NaN</td>\n",
       "      <td>NaN</td>\n",
       "      <td>NaN</td>\n",
       "      <td>NaN</td>\n",
       "    </tr>\n",
       "    <tr>\n",
       "      <th>2</th>\n",
       "      <td>ABT</td>\n",
       "      <td>Abbott Laboratories</td>\n",
       "      <td>Health Care</td>\n",
       "      <td>56.27</td>\n",
       "      <td>22.51</td>\n",
       "      <td>1.908982</td>\n",
       "      <td>0.26</td>\n",
       "      <td>64.600</td>\n",
       "      <td>42.28</td>\n",
       "      <td>1.021210e+11</td>\n",
       "      <td>5.744000e+09</td>\n",
       "      <td>3.740480</td>\n",
       "      <td>3.19</td>\n",
       "      <td>http://www.sec.gov/cgi-bin/browse-edgar?action...</td>\n",
       "    </tr>\n",
       "    <tr>\n",
       "      <th>3</th>\n",
       "      <td>ABBV</td>\n",
       "      <td>AbbVie Inc.</td>\n",
       "      <td>Health Care</td>\n",
       "      <td>108.48</td>\n",
       "      <td>19.41</td>\n",
       "      <td>2.499560</td>\n",
       "      <td>3.29</td>\n",
       "      <td>125.860</td>\n",
       "      <td>60.05</td>\n",
       "      <td>1.813863e+11</td>\n",
       "      <td>1.031000e+10</td>\n",
       "      <td>6.291571</td>\n",
       "      <td>26.14</td>\n",
       "      <td>http://www.sec.gov/cgi-bin/browse-edgar?action...</td>\n",
       "    </tr>\n",
       "    <tr>\n",
       "      <th>4</th>\n",
       "      <td>ATVI</td>\n",
       "      <td>Activision Blizzard</td>\n",
       "      <td>Information Technology</td>\n",
       "      <td>65.83</td>\n",
       "      <td>NaN</td>\n",
       "      <td>0.431903</td>\n",
       "      <td>1.28</td>\n",
       "      <td>74.945</td>\n",
       "      <td>38.93</td>\n",
       "      <td>5.251867e+10</td>\n",
       "      <td>2.704000e+09</td>\n",
       "      <td>10.595120</td>\n",
       "      <td>5.16</td>\n",
       "      <td>http://www.sec.gov/cgi-bin/browse-edgar?action...</td>\n",
       "    </tr>\n",
       "    <tr>\n",
       "      <th>...</th>\n",
       "      <td>...</td>\n",
       "      <td>...</td>\n",
       "      <td>...</td>\n",
       "      <td>...</td>\n",
       "      <td>...</td>\n",
       "      <td>...</td>\n",
       "      <td>...</td>\n",
       "      <td>...</td>\n",
       "      <td>...</td>\n",
       "      <td>...</td>\n",
       "      <td>...</td>\n",
       "      <td>...</td>\n",
       "      <td>...</td>\n",
       "      <td>...</td>\n",
       "    </tr>\n",
       "    <tr>\n",
       "      <th>499</th>\n",
       "      <td>XYL</td>\n",
       "      <td>Xylem Inc.</td>\n",
       "      <td>Industrials</td>\n",
       "      <td>70.24</td>\n",
       "      <td>30.94</td>\n",
       "      <td>1.170079</td>\n",
       "      <td>1.83</td>\n",
       "      <td>76.810</td>\n",
       "      <td>46.86</td>\n",
       "      <td>1.291502e+10</td>\n",
       "      <td>7.220000e+08</td>\n",
       "      <td>2.726209</td>\n",
       "      <td>5.31</td>\n",
       "      <td>http://www.sec.gov/cgi-bin/browse-edgar?action...</td>\n",
       "    </tr>\n",
       "    <tr>\n",
       "      <th>500</th>\n",
       "      <td>YUM</td>\n",
       "      <td>Yum! Brands Inc</td>\n",
       "      <td>Consumer Discretionary</td>\n",
       "      <td>76.3</td>\n",
       "      <td>27.25</td>\n",
       "      <td>1.797080</td>\n",
       "      <td>4.07</td>\n",
       "      <td>86.930</td>\n",
       "      <td>62.85</td>\n",
       "      <td>2.700330e+10</td>\n",
       "      <td>2.289000e+09</td>\n",
       "      <td>6.313636</td>\n",
       "      <td>212.08</td>\n",
       "      <td>http://www.sec.gov/cgi-bin/browse-edgar?action...</td>\n",
       "    </tr>\n",
       "    <tr>\n",
       "      <th>501</th>\n",
       "      <td>ZBH</td>\n",
       "      <td>Zimmer Biomet Holdings</td>\n",
       "      <td>Health Care</td>\n",
       "      <td>115.53</td>\n",
       "      <td>14.32</td>\n",
       "      <td>0.794834</td>\n",
       "      <td>9.01</td>\n",
       "      <td>133.490</td>\n",
       "      <td>108.17</td>\n",
       "      <td>2.445470e+10</td>\n",
       "      <td>2.007400e+09</td>\n",
       "      <td>3.164895</td>\n",
       "      <td>2.39</td>\n",
       "      <td>http://www.sec.gov/cgi-bin/browse-edgar?action...</td>\n",
       "    </tr>\n",
       "    <tr>\n",
       "      <th>502</th>\n",
       "      <td>ZION</td>\n",
       "      <td>Zions Bancorp</td>\n",
       "      <td>Financials</td>\n",
       "      <td>50.71</td>\n",
       "      <td>17.73</td>\n",
       "      <td>1.480933</td>\n",
       "      <td>2.6</td>\n",
       "      <td>55.610</td>\n",
       "      <td>38.43</td>\n",
       "      <td>1.067068e+10</td>\n",
       "      <td>0.000000e+00</td>\n",
       "      <td>3.794579</td>\n",
       "      <td>1.42</td>\n",
       "      <td>http://www.sec.gov/cgi-bin/browse-edgar?action...</td>\n",
       "    </tr>\n",
       "    <tr>\n",
       "      <th>503</th>\n",
       "      <td>ZTS</td>\n",
       "      <td>Zoetis</td>\n",
       "      <td>Health Care</td>\n",
       "      <td>71.51</td>\n",
       "      <td>32.80</td>\n",
       "      <td>0.682372</td>\n",
       "      <td>1.65</td>\n",
       "      <td>80.130</td>\n",
       "      <td>52.00</td>\n",
       "      <td>3.599111e+10</td>\n",
       "      <td>1.734000e+09</td>\n",
       "      <td>9.280896</td>\n",
       "      <td>18.09</td>\n",
       "      <td>http://www.sec.gov/cgi-bin/browse-edgar?action...</td>\n",
       "    </tr>\n",
       "  </tbody>\n",
       "</table>\n",
       "<p>504 rows × 14 columns</p>\n",
       "</div>"
      ],
      "text/plain": [
       "    symbol                    name                  sector    price  \\\n",
       "0      MMM              3M Company             Industrials  $222.89   \n",
       "1      AOS         A.O. Smith Corp             Industrials      NaN   \n",
       "2      ABT     Abbott Laboratories             Health Care    56.27   \n",
       "3     ABBV             AbbVie Inc.             Health Care   108.48   \n",
       "4     ATVI     Activision Blizzard  Information Technology    65.83   \n",
       "..     ...                     ...                     ...      ...   \n",
       "499    XYL              Xylem Inc.             Industrials    70.24   \n",
       "500    YUM         Yum! Brands Inc  Consumer Discretionary     76.3   \n",
       "501    ZBH  Zimmer Biomet Holdings             Health Care   115.53   \n",
       "502   ZION           Zions Bancorp              Financials    50.71   \n",
       "503    ZTS                  Zoetis             Health Care    71.51   \n",
       "\n",
       "     price_per_earnings  dividend_yield earnings_per_share  52_week_low  \\\n",
       "0                 24.31        2.332862              $7.92      259.770   \n",
       "1                   NaN             NaN                NaN          NaN   \n",
       "2                 22.51        1.908982               0.26       64.600   \n",
       "3                 19.41        2.499560               3.29      125.860   \n",
       "4                   NaN        0.431903               1.28       74.945   \n",
       "..                  ...             ...                ...          ...   \n",
       "499               30.94        1.170079               1.83       76.810   \n",
       "500               27.25        1.797080               4.07       86.930   \n",
       "501               14.32        0.794834               9.01      133.490   \n",
       "502               17.73        1.480933                2.6       55.610   \n",
       "503               32.80        0.682372               1.65       80.130   \n",
       "\n",
       "     52_week_high    market_cap        ebitda  price_per_sales  \\\n",
       "0          175.49  1.387211e+11  9.048000e+09         4.390271   \n",
       "1             NaN           NaN           NaN              NaN   \n",
       "2           42.28  1.021210e+11  5.744000e+09         3.740480   \n",
       "3           60.05  1.813863e+11  1.031000e+10         6.291571   \n",
       "4           38.93  5.251867e+10  2.704000e+09        10.595120   \n",
       "..            ...           ...           ...              ...   \n",
       "499         46.86  1.291502e+10  7.220000e+08         2.726209   \n",
       "500         62.85  2.700330e+10  2.289000e+09         6.313636   \n",
       "501        108.17  2.445470e+10  2.007400e+09         3.164895   \n",
       "502         38.43  1.067068e+10  0.000000e+00         3.794579   \n",
       "503         52.00  3.599111e+10  1.734000e+09         9.280896   \n",
       "\n",
       "     price_per_book                                        sec_filings  \n",
       "0             11.34  http://www.sec.gov/cgi-bin/browse-edgar?action...  \n",
       "1               NaN                                                NaN  \n",
       "2              3.19  http://www.sec.gov/cgi-bin/browse-edgar?action...  \n",
       "3             26.14  http://www.sec.gov/cgi-bin/browse-edgar?action...  \n",
       "4              5.16  http://www.sec.gov/cgi-bin/browse-edgar?action...  \n",
       "..              ...                                                ...  \n",
       "499            5.31  http://www.sec.gov/cgi-bin/browse-edgar?action...  \n",
       "500          212.08  http://www.sec.gov/cgi-bin/browse-edgar?action...  \n",
       "501            2.39  http://www.sec.gov/cgi-bin/browse-edgar?action...  \n",
       "502            1.42  http://www.sec.gov/cgi-bin/browse-edgar?action...  \n",
       "503           18.09  http://www.sec.gov/cgi-bin/browse-edgar?action...  \n",
       "\n",
       "[504 rows x 14 columns]"
      ]
     },
     "execution_count": 22,
     "metadata": {},
     "output_type": "execute_result"
    }
   ],
   "source": [
    "df"
   ]
  },
  {
   "cell_type": "markdown",
   "metadata": {},
   "source": [
    "### Identify the number of records in the DataFrame, and compare it with the number of rows in the original file."
   ]
  },
  {
   "cell_type": "code",
   "execution_count": 24,
   "metadata": {},
   "outputs": [
    {
     "ename": "TypeError",
     "evalue": "from_records() missing 1 required positional argument: 'data'",
     "output_type": "error",
     "traceback": [
      "\u001b[1;31m---------------------------------------------------------------------------\u001b[0m",
      "\u001b[1;31mTypeError\u001b[0m                                 Traceback (most recent call last)",
      "\u001b[1;32m~\\AppData\\Local\\Temp\\ipykernel_15408\\3908876169.py\u001b[0m in \u001b[0;36m<module>\u001b[1;34m\u001b[0m\n\u001b[1;32m----> 1\u001b[1;33m \u001b[0mdf\u001b[0m\u001b[1;33m.\u001b[0m\u001b[0mfrom_records\u001b[0m\u001b[1;33m(\u001b[0m\u001b[0mindex\u001b[0m\u001b[1;33m=\u001b[0m\u001b[1;34m\"symbol\"\u001b[0m\u001b[1;33m)\u001b[0m\u001b[1;33m\u001b[0m\u001b[1;33m\u001b[0m\u001b[0m\n\u001b[0m",
      "\u001b[1;31mTypeError\u001b[0m: from_records() missing 1 required positional argument: 'data'"
     ]
    }
   ],
   "source": [
    "df.from_records(index=)"
   ]
  },
  {
   "cell_type": "markdown",
   "metadata": {},
   "source": [
    "### Identify nulls records"
   ]
  },
  {
   "cell_type": "code",
   "execution_count": null,
   "metadata": {},
   "outputs": [],
   "source": []
  },
  {
   "cell_type": "markdown",
   "metadata": {},
   "source": [
    "### Drop Null Records"
   ]
  },
  {
   "cell_type": "code",
   "execution_count": null,
   "metadata": {},
   "outputs": [],
   "source": []
  },
  {
   "cell_type": "markdown",
   "metadata": {},
   "source": [
    "### Validate nulls have been dropped"
   ]
  },
  {
   "cell_type": "code",
   "execution_count": null,
   "metadata": {},
   "outputs": [],
   "source": []
  },
  {
   "cell_type": "markdown",
   "metadata": {},
   "source": [
    "### Default null `ebitda` values to 0. Then, validate no records are null for ebitda."
   ]
  },
  {
   "cell_type": "code",
   "execution_count": null,
   "metadata": {},
   "outputs": [],
   "source": []
  },
  {
   "cell_type": "markdown",
   "metadata": {},
   "source": [
    "### Drop Duplicates"
   ]
  },
  {
   "cell_type": "code",
   "execution_count": null,
   "metadata": {},
   "outputs": [],
   "source": []
  }
 ],
 "metadata": {
  "kernelspec": {
   "display_name": "Python 3 (ipykernel)",
   "language": "python",
   "name": "python3"
  },
  "language_info": {
   "codemirror_mode": {
    "name": "ipython",
    "version": 3
   },
   "file_extension": ".py",
   "mimetype": "text/x-python",
   "name": "python",
   "nbconvert_exporter": "python",
   "pygments_lexer": "ipython3",
   "version": "3.9.15"
  }
 },
 "nbformat": 4,
 "nbformat_minor": 4
}
