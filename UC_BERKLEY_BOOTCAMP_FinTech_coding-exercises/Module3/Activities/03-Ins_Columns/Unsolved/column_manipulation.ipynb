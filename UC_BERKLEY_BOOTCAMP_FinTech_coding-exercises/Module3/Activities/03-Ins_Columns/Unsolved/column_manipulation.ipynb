{
  "cells": [
    {
      "cell_type": "code",
      "source": [
        "import pandas as pd\n",
        "from pathlib import Path"
      ],
      "outputs": [],
      "execution_count": 1,
      "metadata": {}
    },
    {
      "cell_type": "markdown",
      "source": [
        "# Column Manipulation"
      ],
      "metadata": {}
    },
    {
      "cell_type": "code",
      "source": [
        "csvpath = Path(\"../Resources/customers.csv\")"
      ],
      "outputs": [],
      "execution_count": 2,
      "metadata": {}
    },
    {
      "cell_type": "code",
      "source": [
        "customer_dataframe = pd.read_csv(csvpath)\n",
        "customer_dataframe.head()"
      ],
      "outputs": [
        {
          "output_type": "execute_result",
          "execution_count": 3,
          "data": {
            "text/html": [
              "<div>\n",
              "<style scoped>\n",
              "    .dataframe tbody tr th:only-of-type {\n",
              "        vertical-align: middle;\n",
              "    }\n",
              "\n",
              "    .dataframe tbody tr th {\n",
              "        vertical-align: top;\n",
              "    }\n",
              "\n",
              "    .dataframe thead th {\n",
              "        text-align: right;\n",
              "    }\n",
              "</style>\n",
              "<table border=\"1\" class=\"dataframe\">\n",
              "  <thead>\n",
              "    <tr style=\"text-align: right;\">\n",
              "      <th></th>\n",
              "      <th>FullName</th>\n",
              "      <th>Email</th>\n",
              "      <th>Address</th>\n",
              "      <th>Zip</th>\n",
              "      <th>CreditCard</th>\n",
              "      <th>Balance</th>\n",
              "    </tr>\n",
              "  </thead>\n",
              "  <tbody>\n",
              "    <tr>\n",
              "      <th>0</th>\n",
              "      <td>Altha Frederick</td>\n",
              "      <td>unhideable1966@gmail.com</td>\n",
              "      <td>67 John Maher Extension</td>\n",
              "      <td>31353</td>\n",
              "      <td>2524 2317 2139 4751</td>\n",
              "      <td>21511</td>\n",
              "    </tr>\n",
              "    <tr>\n",
              "      <th>1</th>\n",
              "      <td>Nickolas Harvey</td>\n",
              "      <td>allgood1803@outlook.com</td>\n",
              "      <td>1200 Madera Plaza</td>\n",
              "      <td>1922</td>\n",
              "      <td>4756 0997 9568 1329</td>\n",
              "      <td>13850</td>\n",
              "    </tr>\n",
              "    <tr>\n",
              "      <th>2</th>\n",
              "      <td>Jesusita Kinney</td>\n",
              "      <td>satsumas1954@yahoo.com</td>\n",
              "      <td>943 Gibb Highway</td>\n",
              "      <td>41535</td>\n",
              "      <td>3717 863466 48574</td>\n",
              "      <td>21254</td>\n",
              "    </tr>\n",
              "    <tr>\n",
              "      <th>3</th>\n",
              "      <td>Mose Gordon</td>\n",
              "      <td>antifowl1875@gmail.com</td>\n",
              "      <td>1073 Fell Trace</td>\n",
              "      <td>16098</td>\n",
              "      <td>5413 1700 6989 2835</td>\n",
              "      <td>5221</td>\n",
              "    </tr>\n",
              "    <tr>\n",
              "      <th>4</th>\n",
              "      <td>Cesar Valentine</td>\n",
              "      <td>acetaminol1979@yahoo.com</td>\n",
              "      <td>805 Marshall Promenade</td>\n",
              "      <td>99895</td>\n",
              "      <td>5173 4883 9215 4743</td>\n",
              "      <td>8300</td>\n",
              "    </tr>\n",
              "  </tbody>\n",
              "</table>\n",
              "</div>"
            ],
            "text/plain": [
              "          FullName                     Email                  Address    Zip  \\\n",
              "0  Altha Frederick  unhideable1966@gmail.com  67 John Maher Extension  31353   \n",
              "1  Nickolas Harvey   allgood1803@outlook.com        1200 Madera Plaza   1922   \n",
              "2  Jesusita Kinney    satsumas1954@yahoo.com         943 Gibb Highway  41535   \n",
              "3      Mose Gordon    antifowl1875@gmail.com          1073 Fell Trace  16098   \n",
              "4  Cesar Valentine  acetaminol1979@yahoo.com   805 Marshall Promenade  99895   \n",
              "\n",
              "            CreditCard  Balance  \n",
              "0  2524 2317 2139 4751    21511  \n",
              "1  4756 0997 9568 1329    13850  \n",
              "2    3717 863466 48574    21254  \n",
              "3  5413 1700 6989 2835     5221  \n",
              "4  5173 4883 9215 4743     8300  "
            ]
          },
          "metadata": {}
        }
      ],
      "execution_count": 3,
      "metadata": {}
    },
    {
      "cell_type": "code",
      "source": [],
      "outputs": [],
      "execution_count": null,
      "metadata": {
        "collapsed": false,
        "outputHidden": false,
        "inputHidden": false
      }
    }
  ],
  "metadata": {
    "kernelspec": {
      "name": "dev",
      "language": "python",
      "display_name": "dev"
    },
    "language_info": {
      "name": "python",
      "version": "3.6.8",
      "mimetype": "text/x-python",
      "codemirror_mode": {
        "name": "ipython",
        "version": 3
      },
      "pygments_lexer": "ipython3",
      "nbconvert_exporter": "python",
      "file_extension": ".py"
    },
    "kernel_info": {
      "name": "dev"
    },
    "nteract": {
      "version": "0.12.3"
    }
  },
  "nbformat": 4,
  "nbformat_minor": 2
}