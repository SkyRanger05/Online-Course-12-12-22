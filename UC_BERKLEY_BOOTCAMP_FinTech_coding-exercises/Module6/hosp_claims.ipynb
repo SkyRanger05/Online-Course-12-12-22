{
 "cells": [
  {
   "cell_type": "code",
   "execution_count": 3,
   "id": "da4f169d-7858-4785-850c-b6a97d708d25",
   "metadata": {},
   "outputs": [],
   "source": [
    "import pandas as pd\n",
    "import hvplot\n",
    "from pathlib import Path"
   ]
  },
  {
   "cell_type": "code",
   "execution_count": null,
   "id": "26bbad12-ec43-40ef-ac28-9ebb9310f6cc",
   "metadata": {},
   "outputs": [],
   "source": []
  }
 ],
 "metadata": {
  "kernelspec": {
   "display_name": "Python (plots)",
   "language": "python",
   "name": "plotter"
  },
  "language_info": {
   "codemirror_mode": {
    "name": "ipython",
    "version": 3
   },
   "file_extension": ".py",
   "mimetype": "text/x-python",
   "name": "python",
   "nbconvert_exporter": "python",
   "pygments_lexer": "ipython3",
   "version": "3.9.16"
  }
 },
 "nbformat": 4,
 "nbformat_minor": 5
}
