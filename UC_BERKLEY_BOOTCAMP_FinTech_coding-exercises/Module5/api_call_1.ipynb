{
 "cells": [
  {
   "cell_type": "code",
   "execution_count": 1,
   "id": "737c75e7-7ab8-4de9-8300-6719ca2ee9c2",
   "metadata": {},
   "outputs": [],
   "source": [
    "import os\n",
    "from dotenv import load_dotenv"
   ]
  },
  {
   "cell_type": "code",
   "execution_count": 2,
   "id": "49a272ca-a7ea-42a6-a558-62195bb2fd84",
   "metadata": {},
   "outputs": [],
   "source": [
    "import requests\n",
    "import json"
   ]
  },
  {
   "cell_type": "code",
   "execution_count": 4,
   "id": "7a3af593-891d-4522-a608-674c42785d17",
   "metadata": {},
   "outputs": [],
   "source": [
    "import pandas as pd"
   ]
  },
  {
   "cell_type": "code",
   "execution_count": 5,
   "id": "1b15c293-f2c2-498c-855f-9b12880d737f",
   "metadata": {},
   "outputs": [
    {
     "data": {
      "text/plain": [
       "True"
      ]
     },
     "execution_count": 5,
     "metadata": {},
     "output_type": "execute_result"
    }
   ],
   "source": [
    "load_dotenv(dotenv_path=r\"C:\\Users\\admin\\Desktop\\Nasdaq_API_key\\.env\")"
   ]
  },
  {
   "cell_type": "code",
   "execution_count": 7,
   "id": "ad3ad448-14b7-4b7e-af12-515ba31e8c6e",
   "metadata": {},
   "outputs": [
    {
     "data": {
      "text/plain": [
       "str"
      ]
     },
     "execution_count": 7,
     "metadata": {},
     "output_type": "execute_result"
    }
   ],
   "source": [
    "nasdaq_api_key = os.getenv('NASDAQ_API_KEY')\n",
    "type(nasdaq_api_key)"
   ]
  },
  {
   "cell_type": "code",
   "execution_count": null,
   "id": "2fba3690-49bd-495a-b0ae-ea68475860b6",
   "metadata": {},
   "outputs": [],
   "source": []
  }
 ],
 "metadata": {
  "kernelspec": {
   "display_name": "APIs",
   "language": "python",
   "name": "apis"
  },
  "language_info": {
   "codemirror_mode": {
    "name": "ipython",
    "version": 3
   },
   "file_extension": ".py",
   "mimetype": "text/x-python",
   "name": "python",
   "nbconvert_exporter": "python",
   "pygments_lexer": "ipython3",
   "version": "3.8.16"
  }
 },
 "nbformat": 4,
 "nbformat_minor": 5
}
