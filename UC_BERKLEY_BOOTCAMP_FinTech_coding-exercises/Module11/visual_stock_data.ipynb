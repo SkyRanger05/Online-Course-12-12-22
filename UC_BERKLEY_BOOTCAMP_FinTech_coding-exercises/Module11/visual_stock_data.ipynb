{
 "cells": [
  {
   "cell_type": "code",
   "execution_count": 1,
   "id": "bc257c88-d869-4879-a6d6-991355ccceaf",
   "metadata": {},
   "outputs": [],
   "source": [
    "import pandas as pd\n",
    "from pathlib import Path"
   ]
  },
  {
   "cell_type": "code",
   "execution_count": 2,
   "id": "8530cdf6-3189-4e06-a749-994d4b71f73b",
   "metadata": {},
   "outputs": [
    {
     "data": {
      "text/plain": [
       "'C:\\\\Users\\\\admin\\\\Desktop\\\\UC_BERKLEY_BOOTCAMP_FinTech_coding-exercises\\\\Online-Course-12-12-22\\\\UC_BERKLEY_BOOTCAMP_FinTech_coding-exercises\\\\Module11'"
      ]
     },
     "execution_count": 2,
     "metadata": {},
     "output_type": "execute_result"
    }
   ],
   "source": [
    "pwd"
   ]
  },
  {
   "cell_type": "code",
   "execution_count": 5,
   "id": "d2574020-af37-4cde-9b5c-75ce619d2045",
   "metadata": {},
   "outputs": [],
   "source": [
    "csv_path = Path (\n",
    "    \"../../../../FinTech/FinTech2022_Module11_Time Series/02-Visualizing_Stock_Data/Resources/tsla_historical.csv\"\n",
    ")"
   ]
  },
  {
   "cell_type": "code",
   "execution_count": 7,
   "id": "6193fdde-1f45-4bde-98a9-e5392c7908c3",
   "metadata": {},
   "outputs": [
    {
     "data": {
      "text/html": [
       "<div>\n",
       "<style scoped>\n",
       "    .dataframe tbody tr th:only-of-type {\n",
       "        vertical-align: middle;\n",
       "    }\n",
       "\n",
       "    .dataframe tbody tr th {\n",
       "        vertical-align: top;\n",
       "    }\n",
       "\n",
       "    .dataframe thead th {\n",
       "        text-align: right;\n",
       "    }\n",
       "</style>\n",
       "<table border=\"1\" class=\"dataframe\">\n",
       "  <thead>\n",
       "    <tr style=\"text-align: right;\">\n",
       "      <th></th>\n",
       "      <th>time</th>\n",
       "      <th>close</th>\n",
       "    </tr>\n",
       "  </thead>\n",
       "  <tbody>\n",
       "    <tr>\n",
       "      <th>0</th>\n",
       "      <td>2018-01-02 09:30:00-05:00</td>\n",
       "      <td>315.870</td>\n",
       "    </tr>\n",
       "    <tr>\n",
       "      <th>1</th>\n",
       "      <td>2018-01-02 09:45:00-05:00</td>\n",
       "      <td>317.500</td>\n",
       "    </tr>\n",
       "    <tr>\n",
       "      <th>2</th>\n",
       "      <td>2018-01-02 10:00:00-05:00</td>\n",
       "      <td>318.035</td>\n",
       "    </tr>\n",
       "    <tr>\n",
       "      <th>3</th>\n",
       "      <td>2018-01-02 10:15:00-05:00</td>\n",
       "      <td>317.470</td>\n",
       "    </tr>\n",
       "    <tr>\n",
       "      <th>4</th>\n",
       "      <td>2018-01-02 10:30:00-05:00</td>\n",
       "      <td>316.875</td>\n",
       "    </tr>\n",
       "  </tbody>\n",
       "</table>\n",
       "</div>"
      ],
      "text/plain": [
       "                        time    close\n",
       "0  2018-01-02 09:30:00-05:00  315.870\n",
       "1  2018-01-02 09:45:00-05:00  317.500\n",
       "2  2018-01-02 10:00:00-05:00  318.035\n",
       "3  2018-01-02 10:15:00-05:00  317.470\n",
       "4  2018-01-02 10:30:00-05:00  316.875"
      ]
     },
     "execution_count": 7,
     "metadata": {},
     "output_type": "execute_result"
    }
   ],
   "source": [
    "df_tsla = pd.read_csv(\n",
    "    csv_path\n",
    ")\n",
    "\n",
    "# Display the dataframe for review\n",
    "df_tsla.head()"
   ]
  },
  {
   "cell_type": "code",
   "execution_count": null,
   "id": "d0d32a91-18e5-427b-9970-280ab0a48498",
   "metadata": {},
   "outputs": [],
   "source": []
  }
 ],
 "metadata": {
  "kernelspec": {
   "display_name": "Python (dev)",
   "language": "python",
   "name": "dev"
  },
  "language_info": {
   "codemirror_mode": {
    "name": "ipython",
    "version": 3
   },
   "file_extension": ".py",
   "mimetype": "text/x-python",
   "name": "python",
   "nbconvert_exporter": "python",
   "pygments_lexer": "ipython3",
   "version": "3.9.15"
  }
 },
 "nbformat": 4,
 "nbformat_minor": 5
}
