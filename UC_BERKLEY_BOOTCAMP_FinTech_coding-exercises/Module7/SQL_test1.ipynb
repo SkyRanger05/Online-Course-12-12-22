{
 "cells": [
  {
   "cell_type": "code",
   "execution_count": 3,
   "id": "fe83caa3-79c4-4399-a60f-4cf29b7c4e84",
   "metadata": {},
   "outputs": [],
   "source": [
    "import pandas as pd\n",
    "import sqlalchemy as sql\n",
    "import numpy as np"
   ]
  },
  {
   "cell_type": "code",
   "execution_count": null,
   "id": "9f5dd619-5f54-4200-b3b9-d2ac9855f5f2",
   "metadata": {},
   "outputs": [],
   "source": []
  }
 ],
 "metadata": {
  "kernelspec": {
   "display_name": "Python (bingo)",
   "language": "python",
   "name": "bingo"
  },
  "language_info": {
   "codemirror_mode": {
    "name": "ipython",
    "version": 3
   },
   "file_extension": ".py",
   "mimetype": "text/x-python",
   "name": "python",
   "nbconvert_exporter": "python",
   "pygments_lexer": "ipython3",
   "version": "3.9.13"
  }
 },
 "nbformat": 4,
 "nbformat_minor": 5
}
