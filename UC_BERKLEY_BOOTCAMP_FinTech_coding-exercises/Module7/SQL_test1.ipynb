{
 "cells": [
  {
   "cell_type": "code",
   "execution_count": 1,
   "id": "fe83caa3-79c4-4399-a60f-4cf29b7c4e84",
   "metadata": {},
   "outputs": [],
   "source": [
    "import pandas as pd\n",
    "import sqlalchemy as sql\n",
    "import numpy as np"
   ]
  },
  {
   "cell_type": "code",
   "execution_count": 2,
   "id": "9f5dd619-5f54-4200-b3b9-d2ac9855f5f2",
   "metadata": {},
   "outputs": [],
   "source": [
    "# Create a temporary sqlite database\n",
    "data_connection_string = 'sqlite:///'"
   ]
  },
  {
   "cell_type": "code",
   "execution_count": 3,
   "id": "442a5ba4-f56d-450c-9d33-8fd162370772",
   "metadata": {},
   "outputs": [
    {
     "data": {
      "text/plain": [
       "Engine(sqlite:///)"
      ]
     },
     "execution_count": 3,
     "metadata": {},
     "output_type": "execute_result"
    }
   ],
   "source": [
    "# Create a database engine w/ \"display the SQL code back in the notebook\": echo = True.\n",
    "engine = sql.create_engine(\n",
    "    data_connection_string\n",
    ")\n",
    "\n",
    "engine"
   ]
  },
  {
   "cell_type": "markdown",
   "id": "4fb6b8b7-566a-45ee-99cb-0626cef8a3ef",
   "metadata": {},
   "source": [
    "# View and create table"
   ]
  },
  {
   "cell_type": "code",
   "execution_count": 4,
   "id": "c7b5c749-d8d2-4396-a794-f384e57d0344",
   "metadata": {},
   "outputs": [
    {
     "name": "stderr",
     "output_type": "stream",
     "text": [
      "C:\\Users\\admin\\AppData\\Local\\Temp\\ipykernel_17180\\3218451222.py:2: SADeprecationWarning: The Engine.table_names() method is deprecated and will be removed in a future release.  Please refer to Inspector.get_table_names(). (deprecated since: 1.4)\n",
      "  engine.table_names()\n"
     ]
    },
    {
     "data": {
      "text/plain": [
       "[]"
      ]
     },
     "execution_count": 4,
     "metadata": {},
     "output_type": "execute_result"
    }
   ],
   "source": [
    "# The result is an empty \"temporary SQLite database\", and this is true since it was just create from code above.\n",
    "engine.table_names()"
   ]
  },
  {
   "cell_type": "markdown",
   "id": "2419e646-0958-487e-b0d1-aefe33ae56f7",
   "metadata": {},
   "source": [
    "#### Use Pandas DataFrame to create a toble to later store in the SQLite database"
   ]
  },
  {
   "cell_type": "code",
   "execution_count": 5,
   "id": "cd7f0c54-7282-4835-87e3-6a1f93f15bac",
   "metadata": {},
   "outputs": [
    {
     "data": {
      "text/html": [
       "<div>\n",
       "<style scoped>\n",
       "    .dataframe tbody tr th:only-of-type {\n",
       "        vertical-align: middle;\n",
       "    }\n",
       "\n",
       "    .dataframe tbody tr th {\n",
       "        vertical-align: top;\n",
       "    }\n",
       "\n",
       "    .dataframe thead th {\n",
       "        text-align: right;\n",
       "    }\n",
       "</style>\n",
       "<table border=\"1\" class=\"dataframe\">\n",
       "  <thead>\n",
       "    <tr style=\"text-align: right;\">\n",
       "      <th></th>\n",
       "      <th>HSWF</th>\n",
       "      <th>KLTE</th>\n",
       "      <th>BJSE</th>\n",
       "    </tr>\n",
       "  </thead>\n",
       "  <tbody>\n",
       "    <tr>\n",
       "      <th>0</th>\n",
       "      <td>12</td>\n",
       "      <td>727</td>\n",
       "      <td>27</td>\n",
       "    </tr>\n",
       "    <tr>\n",
       "      <th>1</th>\n",
       "      <td>86</td>\n",
       "      <td>917</td>\n",
       "      <td>77</td>\n",
       "    </tr>\n",
       "    <tr>\n",
       "      <th>2</th>\n",
       "      <td>27</td>\n",
       "      <td>806</td>\n",
       "      <td>42</td>\n",
       "    </tr>\n",
       "    <tr>\n",
       "      <th>3</th>\n",
       "      <td>34</td>\n",
       "      <td>903</td>\n",
       "      <td>52</td>\n",
       "    </tr>\n",
       "    <tr>\n",
       "      <th>4</th>\n",
       "      <td>80</td>\n",
       "      <td>256</td>\n",
       "      <td>83</td>\n",
       "    </tr>\n",
       "    <tr>\n",
       "      <th>5</th>\n",
       "      <td>32</td>\n",
       "      <td>779</td>\n",
       "      <td>32</td>\n",
       "    </tr>\n",
       "    <tr>\n",
       "      <th>6</th>\n",
       "      <td>33</td>\n",
       "      <td>519</td>\n",
       "      <td>39</td>\n",
       "    </tr>\n",
       "    <tr>\n",
       "      <th>7</th>\n",
       "      <td>53</td>\n",
       "      <td>512</td>\n",
       "      <td>73</td>\n",
       "    </tr>\n",
       "    <tr>\n",
       "      <th>8</th>\n",
       "      <td>84</td>\n",
       "      <td>681</td>\n",
       "      <td>92</td>\n",
       "    </tr>\n",
       "    <tr>\n",
       "      <th>9</th>\n",
       "      <td>65</td>\n",
       "      <td>201</td>\n",
       "      <td>53</td>\n",
       "    </tr>\n",
       "  </tbody>\n",
       "</table>\n",
       "</div>"
      ],
      "text/plain": [
       "   HSWF  KLTE  BJSE\n",
       "0    12   727    27\n",
       "1    86   917    77\n",
       "2    27   806    42\n",
       "3    34   903    52\n",
       "4    80   256    83\n",
       "5    32   779    32\n",
       "6    33   519    39\n",
       "7    53   512    73\n",
       "8    84   681    92\n",
       "9    65   201    53"
      ]
     },
     "execution_count": 5,
     "metadata": {},
     "output_type": "execute_result"
    }
   ],
   "source": [
    "stocks_df = pd.DataFrame(\n",
    "\n",
    " {\n",
    "        'HSWF':\n",
    "            np.random.randint(\n",
    "                10,\n",
    "                100,\n",
    "                10\n",
    "            )\n",
    "    \n",
    ",\n",
    "\n",
    "        'KLTE':\n",
    "            np.random.randint(\n",
    "                100,\n",
    "                1000,\n",
    "                10\n",
    "            )\n",
    "    \n",
    ",\n",
    "\n",
    "        'BJSE':\n",
    "            np.random.randint(\n",
    "                10,\n",
    "                100,\n",
    "                10\n",
    "            )\n",
    "    }\n",
    ")\n",
    "\n",
    "stocks_df"
   ]
  },
  {
   "cell_type": "markdown",
   "id": "abbf769c-897c-47d6-bf54-867000ba4698",
   "metadata": {},
   "source": [
    "# As above, the Pandas dataframe will be used as the table for the SQLite database so that the database can be query for its contents in this exercise.\n",
    "# It's time to create a table of data in the SQLite.\n",
    "> `to_sql ( )` w/ parameters: **'dataframe_name\\', database_engine**"
   ]
  },
  {
   "cell_type": "code",
   "execution_count": 6,
   "id": "49113ac3-1ac4-4109-a0b0-1bff95cd6a28",
   "metadata": {},
   "outputs": [
    {
     "data": {
      "text/plain": [
       "10"
      ]
     },
     "execution_count": 6,
     "metadata": {},
     "output_type": "execute_result"
    }
   ],
   "source": [
    "stocks_df.to_sql(\n",
    "    'stocks_df',\n",
    "    engine\n",
    ")"
   ]
  },
  {
   "cell_type": "markdown",
   "id": "b8f3eebb-d26d-4b08-b2cf-91a70a37360f",
   "metadata": {},
   "source": [
    "#### Confirm that the table was written into the SQLite database"
   ]
  },
  {
   "cell_type": "code",
   "execution_count": 7,
   "id": "009b0ecd-a3ea-4acb-93c6-634ade0fc555",
   "metadata": {},
   "outputs": [
    {
     "name": "stderr",
     "output_type": "stream",
     "text": [
      "C:\\Users\\admin\\AppData\\Local\\Temp\\ipykernel_17180\\4162273999.py:1: SADeprecationWarning: The Engine.table_names() method is deprecated and will be removed in a future release.  Please refer to Inspector.get_table_names(). (deprecated since: 1.4)\n",
      "  engine.table_names()\n"
     ]
    },
    {
     "data": {
      "text/plain": [
       "['stocks_df']"
      ]
     },
     "execution_count": 7,
     "metadata": {},
     "output_type": "execute_result"
    }
   ],
   "source": [
    "engine.table_names()"
   ]
  },
  {
   "cell_type": "markdown",
   "id": "2c60550c-e314-4e23-a9bd-13ab8b277f16",
   "metadata": {},
   "source": [
    "# Create another instance of SQLite database."
   ]
  },
  {
   "cell_type": "code",
   "execution_count": 8,
   "id": "5e795b77-1639-4ae6-af85-92b0a5c3a799",
   "metadata": {},
   "outputs": [
    {
     "data": {
      "text/plain": [
       "Engine(sqlite:///mytestSQLite_database.db)"
      ]
     },
     "execution_count": 8,
     "metadata": {},
     "output_type": "execute_result"
    }
   ],
   "source": [
    "# Create another SQLite instance\n",
    "data_connection_string = 'sqlite:///mytestSQLite_database.db'\n",
    "\n",
    "# Create an engine.\n",
    "engine = sql.create_engine(\n",
    "    data_connection_string\n",
    ")\n",
    "\n",
    "# Confirm database engine exists.\n",
    "engine"
   ]
  },
  {
   "cell_type": "code",
   "execution_count": 9,
   "id": "a51f284b-0976-4555-acd6-e51180f4b5ec",
   "metadata": {},
   "outputs": [
    {
     "data": {
      "text/html": [
       "<div>\n",
       "<style scoped>\n",
       "    .dataframe tbody tr th:only-of-type {\n",
       "        vertical-align: middle;\n",
       "    }\n",
       "\n",
       "    .dataframe tbody tr th {\n",
       "        vertical-align: top;\n",
       "    }\n",
       "\n",
       "    .dataframe thead th {\n",
       "        text-align: right;\n",
       "    }\n",
       "</style>\n",
       "<table border=\"1\" class=\"dataframe\">\n",
       "  <thead>\n",
       "    <tr style=\"text-align: right;\">\n",
       "      <th></th>\n",
       "      <th>UAVN</th>\n",
       "      <th>OPKS</th>\n",
       "      <th>WTUY</th>\n",
       "    </tr>\n",
       "  </thead>\n",
       "  <tbody>\n",
       "    <tr>\n",
       "      <th>0</th>\n",
       "      <td>24</td>\n",
       "      <td>20</td>\n",
       "      <td>79</td>\n",
       "    </tr>\n",
       "    <tr>\n",
       "      <th>1</th>\n",
       "      <td>59</td>\n",
       "      <td>72</td>\n",
       "      <td>99</td>\n",
       "    </tr>\n",
       "    <tr>\n",
       "      <th>2</th>\n",
       "      <td>65</td>\n",
       "      <td>55</td>\n",
       "      <td>94</td>\n",
       "    </tr>\n",
       "    <tr>\n",
       "      <th>3</th>\n",
       "      <td>87</td>\n",
       "      <td>46</td>\n",
       "      <td>84</td>\n",
       "    </tr>\n",
       "    <tr>\n",
       "      <th>4</th>\n",
       "      <td>28</td>\n",
       "      <td>60</td>\n",
       "      <td>30</td>\n",
       "    </tr>\n",
       "    <tr>\n",
       "      <th>5</th>\n",
       "      <td>56</td>\n",
       "      <td>74</td>\n",
       "      <td>44</td>\n",
       "    </tr>\n",
       "    <tr>\n",
       "      <th>6</th>\n",
       "      <td>96</td>\n",
       "      <td>72</td>\n",
       "      <td>64</td>\n",
       "    </tr>\n",
       "    <tr>\n",
       "      <th>7</th>\n",
       "      <td>83</td>\n",
       "      <td>62</td>\n",
       "      <td>72</td>\n",
       "    </tr>\n",
       "    <tr>\n",
       "      <th>8</th>\n",
       "      <td>29</td>\n",
       "      <td>61</td>\n",
       "      <td>47</td>\n",
       "    </tr>\n",
       "    <tr>\n",
       "      <th>9</th>\n",
       "      <td>43</td>\n",
       "      <td>37</td>\n",
       "      <td>29</td>\n",
       "    </tr>\n",
       "  </tbody>\n",
       "</table>\n",
       "</div>"
      ],
      "text/plain": [
       "   UAVN  OPKS  WTUY\n",
       "0    24    20    79\n",
       "1    59    72    99\n",
       "2    65    55    94\n",
       "3    87    46    84\n",
       "4    28    60    30\n",
       "5    56    74    44\n",
       "6    96    72    64\n",
       "7    83    62    72\n",
       "8    29    61    47\n",
       "9    43    37    29"
      ]
     },
     "execution_count": 9,
     "metadata": {},
     "output_type": "execute_result"
    }
   ],
   "source": [
    "stocks_df = pd.DataFrame(\n",
    "    {\n",
    "        'UAVN': np.random.randint(10,100,10),\n",
    "        'OPKS': np.random.randint(10,100,10),\n",
    "        'WTUY': np.random.randint(10,100,10)\n",
    "    }\n",
    ")\n",
    "stocks_df"
   ]
  },
  {
   "cell_type": "code",
   "execution_count": 10,
   "id": "fb5d7d95-defc-4cbd-9cdc-845d9aead949",
   "metadata": {},
   "outputs": [
    {
     "data": {
      "text/plain": [
       "10"
      ]
     },
     "execution_count": 10,
     "metadata": {},
     "output_type": "execute_result"
    }
   ],
   "source": [
    "stocks_df.to_sql(\n",
    "    'stocks_df',\n",
    "    engine,\n",
    "    if_exists='replace'\n",
    ")"
   ]
  },
  {
   "cell_type": "markdown",
   "id": "096980c3-333e-40e8-b815-c5b19c9f8845",
   "metadata": {},
   "source": [
    "#### Confirm the table was written in this other SQLite database instance."
   ]
  },
  {
   "cell_type": "code",
   "execution_count": 11,
   "id": "96cf6d8e-c6b9-481b-b6be-266b3ddbe540",
   "metadata": {},
   "outputs": [
    {
     "name": "stderr",
     "output_type": "stream",
     "text": [
      "C:\\Users\\admin\\AppData\\Local\\Temp\\ipykernel_17180\\4150302383.py:2: SADeprecationWarning: The Engine.table_names() method is deprecated and will be removed in a future release.  Please refer to Inspector.get_table_names(). (deprecated since: 1.4)\n",
      "  engine.table_names()\n"
     ]
    },
    {
     "data": {
      "text/plain": [
       "['stocks_df']"
      ]
     },
     "execution_count": 11,
     "metadata": {},
     "output_type": "execute_result"
    }
   ],
   "source": [
    "# Confirm table.\n",
    "engine.table_names()"
   ]
  },
  {
   "cell_type": "markdown",
   "id": "2625054a-44e8-468f-afc9-6f77b25fb25c",
   "metadata": {},
   "source": [
    "# Read a Table into a DataFrame like Pandas\n",
    ">`pd.read_sql_table ( )` w/ parameters: **\"table_name\\\", con =** connection_engine"
   ]
  },
  {
   "cell_type": "code",
   "execution_count": 12,
   "id": "3d603ab9-d470-4929-8aa5-3a4817dea03d",
   "metadata": {},
   "outputs": [
    {
     "data": {
      "text/html": [
       "<div>\n",
       "<style scoped>\n",
       "    .dataframe tbody tr th:only-of-type {\n",
       "        vertical-align: middle;\n",
       "    }\n",
       "\n",
       "    .dataframe tbody tr th {\n",
       "        vertical-align: top;\n",
       "    }\n",
       "\n",
       "    .dataframe thead th {\n",
       "        text-align: right;\n",
       "    }\n",
       "</style>\n",
       "<table border=\"1\" class=\"dataframe\">\n",
       "  <thead>\n",
       "    <tr style=\"text-align: right;\">\n",
       "      <th></th>\n",
       "      <th>index</th>\n",
       "      <th>UAVN</th>\n",
       "      <th>OPKS</th>\n",
       "      <th>WTUY</th>\n",
       "    </tr>\n",
       "  </thead>\n",
       "  <tbody>\n",
       "    <tr>\n",
       "      <th>0</th>\n",
       "      <td>0</td>\n",
       "      <td>24</td>\n",
       "      <td>20</td>\n",
       "      <td>79</td>\n",
       "    </tr>\n",
       "    <tr>\n",
       "      <th>1</th>\n",
       "      <td>1</td>\n",
       "      <td>59</td>\n",
       "      <td>72</td>\n",
       "      <td>99</td>\n",
       "    </tr>\n",
       "    <tr>\n",
       "      <th>2</th>\n",
       "      <td>2</td>\n",
       "      <td>65</td>\n",
       "      <td>55</td>\n",
       "      <td>94</td>\n",
       "    </tr>\n",
       "    <tr>\n",
       "      <th>3</th>\n",
       "      <td>3</td>\n",
       "      <td>87</td>\n",
       "      <td>46</td>\n",
       "      <td>84</td>\n",
       "    </tr>\n",
       "    <tr>\n",
       "      <th>4</th>\n",
       "      <td>4</td>\n",
       "      <td>28</td>\n",
       "      <td>60</td>\n",
       "      <td>30</td>\n",
       "    </tr>\n",
       "    <tr>\n",
       "      <th>5</th>\n",
       "      <td>5</td>\n",
       "      <td>56</td>\n",
       "      <td>74</td>\n",
       "      <td>44</td>\n",
       "    </tr>\n",
       "    <tr>\n",
       "      <th>6</th>\n",
       "      <td>6</td>\n",
       "      <td>96</td>\n",
       "      <td>72</td>\n",
       "      <td>64</td>\n",
       "    </tr>\n",
       "    <tr>\n",
       "      <th>7</th>\n",
       "      <td>7</td>\n",
       "      <td>83</td>\n",
       "      <td>62</td>\n",
       "      <td>72</td>\n",
       "    </tr>\n",
       "    <tr>\n",
       "      <th>8</th>\n",
       "      <td>8</td>\n",
       "      <td>29</td>\n",
       "      <td>61</td>\n",
       "      <td>47</td>\n",
       "    </tr>\n",
       "    <tr>\n",
       "      <th>9</th>\n",
       "      <td>9</td>\n",
       "      <td>43</td>\n",
       "      <td>37</td>\n",
       "      <td>29</td>\n",
       "    </tr>\n",
       "  </tbody>\n",
       "</table>\n",
       "</div>"
      ],
      "text/plain": [
       "   index  UAVN  OPKS  WTUY\n",
       "0      0    24    20    79\n",
       "1      1    59    72    99\n",
       "2      2    65    55    94\n",
       "3      3    87    46    84\n",
       "4      4    28    60    30\n",
       "5      5    56    74    44\n",
       "6      6    96    72    64\n",
       "7      7    83    62    72\n",
       "8      8    29    61    47\n",
       "9      9    43    37    29"
      ]
     },
     "execution_count": 12,
     "metadata": {},
     "output_type": "execute_result"
    }
   ],
   "source": [
    "sql_stocks_df = pd.read_sql_table(\n",
    "    'stocks_df',\n",
    "    con = engine\n",
    ")\n",
    "\n",
    "# Now, a new dataframe comes to.\n",
    "sql_stocks_df"
   ]
  },
  {
   "cell_type": "markdown",
   "id": "e4c23275-eca7-4f1e-906d-fdc4366cec26",
   "metadata": {},
   "source": [
    "#### Review the resulting table.\n",
    ">`Cleanup` data"
   ]
  },
  {
   "cell_type": "code",
   "execution_count": 13,
   "id": "07262286-10f4-4dc2-bcc5-5c1349373c37",
   "metadata": {},
   "outputs": [
    {
     "data": {
      "text/html": [
       "<div>\n",
       "<style scoped>\n",
       "    .dataframe tbody tr th:only-of-type {\n",
       "        vertical-align: middle;\n",
       "    }\n",
       "\n",
       "    .dataframe tbody tr th {\n",
       "        vertical-align: top;\n",
       "    }\n",
       "\n",
       "    .dataframe thead th {\n",
       "        text-align: right;\n",
       "    }\n",
       "</style>\n",
       "<table border=\"1\" class=\"dataframe\">\n",
       "  <thead>\n",
       "    <tr style=\"text-align: right;\">\n",
       "      <th></th>\n",
       "      <th>UAVN</th>\n",
       "      <th>OPKS</th>\n",
       "      <th>WTUY</th>\n",
       "    </tr>\n",
       "  </thead>\n",
       "  <tbody>\n",
       "    <tr>\n",
       "      <th>0</th>\n",
       "      <td>24</td>\n",
       "      <td>20</td>\n",
       "      <td>79</td>\n",
       "    </tr>\n",
       "    <tr>\n",
       "      <th>1</th>\n",
       "      <td>59</td>\n",
       "      <td>72</td>\n",
       "      <td>99</td>\n",
       "    </tr>\n",
       "    <tr>\n",
       "      <th>2</th>\n",
       "      <td>65</td>\n",
       "      <td>55</td>\n",
       "      <td>94</td>\n",
       "    </tr>\n",
       "    <tr>\n",
       "      <th>3</th>\n",
       "      <td>87</td>\n",
       "      <td>46</td>\n",
       "      <td>84</td>\n",
       "    </tr>\n",
       "    <tr>\n",
       "      <th>4</th>\n",
       "      <td>28</td>\n",
       "      <td>60</td>\n",
       "      <td>30</td>\n",
       "    </tr>\n",
       "  </tbody>\n",
       "</table>\n",
       "</div>"
      ],
      "text/plain": [
       "   UAVN  OPKS  WTUY\n",
       "0    24    20    79\n",
       "1    59    72    99\n",
       "2    65    55    94\n",
       "3    87    46    84\n",
       "4    28    60    30"
      ]
     },
     "metadata": {},
     "output_type": "display_data"
    },
    {
     "data": {
      "text/html": [
       "<div>\n",
       "<style scoped>\n",
       "    .dataframe tbody tr th:only-of-type {\n",
       "        vertical-align: middle;\n",
       "    }\n",
       "\n",
       "    .dataframe tbody tr th {\n",
       "        vertical-align: top;\n",
       "    }\n",
       "\n",
       "    .dataframe thead th {\n",
       "        text-align: right;\n",
       "    }\n",
       "</style>\n",
       "<table border=\"1\" class=\"dataframe\">\n",
       "  <thead>\n",
       "    <tr style=\"text-align: right;\">\n",
       "      <th></th>\n",
       "      <th>UAVN</th>\n",
       "      <th>OPKS</th>\n",
       "      <th>WTUY</th>\n",
       "    </tr>\n",
       "  </thead>\n",
       "  <tbody>\n",
       "    <tr>\n",
       "      <th>5</th>\n",
       "      <td>56</td>\n",
       "      <td>74</td>\n",
       "      <td>44</td>\n",
       "    </tr>\n",
       "    <tr>\n",
       "      <th>6</th>\n",
       "      <td>96</td>\n",
       "      <td>72</td>\n",
       "      <td>64</td>\n",
       "    </tr>\n",
       "    <tr>\n",
       "      <th>7</th>\n",
       "      <td>83</td>\n",
       "      <td>62</td>\n",
       "      <td>72</td>\n",
       "    </tr>\n",
       "    <tr>\n",
       "      <th>8</th>\n",
       "      <td>29</td>\n",
       "      <td>61</td>\n",
       "      <td>47</td>\n",
       "    </tr>\n",
       "    <tr>\n",
       "      <th>9</th>\n",
       "      <td>43</td>\n",
       "      <td>37</td>\n",
       "      <td>29</td>\n",
       "    </tr>\n",
       "  </tbody>\n",
       "</table>\n",
       "</div>"
      ],
      "text/plain": [
       "   UAVN  OPKS  WTUY\n",
       "5    56    74    44\n",
       "6    96    72    64\n",
       "7    83    62    72\n",
       "8    29    61    47\n",
       "9    43    37    29"
      ]
     },
     "metadata": {},
     "output_type": "display_data"
    }
   ],
   "source": [
    "# Observation: the index was stored in the SQLite since it recieved on instruction to ignore it, and it will ignore any action since the table in question has already existed in the database.\n",
    "# Solution is to bypass database non-cooperation, write dataframe once more but this time with addional parameters: `dataframe.to_sql ( )`, w/ parameters: `index = False`, & 'if_exists = \"replace\"'\n",
    "\n",
    "# Replace the existing table 'stocks_df'\n",
    "stocks_df.to_sql(\n",
    "    'stocks_df',\n",
    "    engine,\n",
    "    index= False,\n",
    "    if_exists= 'replace'\n",
    ")\n",
    "\n",
    "# Read the table into a DataFrame\n",
    "sql_stocks_df2 = pd.read_sql_table(\n",
    "    'stocks_df',\n",
    "    con= engine\n",
    ")\n",
    "\n",
    "# Display dataframe head() & tail()\n",
    "display(sql_stocks_df2.head())\n",
    "display(sql_stocks_df2.tail())\n",
    "\n",
    "\n",
    "\n"
   ]
  },
  {
   "cell_type": "markdown",
   "id": "da7ce337-7550-4104-ab3a-db63d8a14fbe",
   "metadata": {},
   "source": [
    "# Skill Drill --> create another instance of SQLite database."
   ]
  },
  {
   "cell_type": "code",
   "execution_count": 14,
   "id": "4cfd54e2-4ff4-4260-9dcb-5633c0e27b70",
   "metadata": {},
   "outputs": [
    {
     "data": {
      "text/plain": [
       "Engine(sqlite:///)"
      ]
     },
     "execution_count": 14,
     "metadata": {},
     "output_type": "execute_result"
    }
   ],
   "source": [
    "# Create an SQLite database instance.\n",
    "dat_string = 'sqlite:///'\n",
    "\n",
    "# Create a database engine.\n",
    "engine3 = sql.create_engine(\n",
    "    dat_string\n",
    ")\n",
    "\n",
    "# Confirm database engine exits.\n",
    "engine3"
   ]
  },
  {
   "cell_type": "code",
   "execution_count": 15,
   "id": "eb50c099-9fb0-40a2-af55-859a99b82daf",
   "metadata": {},
   "outputs": [
    {
     "data": {
      "text/html": [
       "<div>\n",
       "<style scoped>\n",
       "    .dataframe tbody tr th:only-of-type {\n",
       "        vertical-align: middle;\n",
       "    }\n",
       "\n",
       "    .dataframe tbody tr th {\n",
       "        vertical-align: top;\n",
       "    }\n",
       "\n",
       "    .dataframe thead th {\n",
       "        text-align: right;\n",
       "    }\n",
       "</style>\n",
       "<table border=\"1\" class=\"dataframe\">\n",
       "  <thead>\n",
       "    <tr style=\"text-align: right;\">\n",
       "      <th></th>\n",
       "      <th>OTEJ</th>\n",
       "      <th>JDKD</th>\n",
       "      <th>ETOP</th>\n",
       "      <th>SEEO</th>\n",
       "      <th>IEDP</th>\n",
       "      <th>GJSE</th>\n",
       "    </tr>\n",
       "  </thead>\n",
       "  <tbody>\n",
       "    <tr>\n",
       "      <th>0</th>\n",
       "      <td>88</td>\n",
       "      <td>80</td>\n",
       "      <td>63</td>\n",
       "      <td>26</td>\n",
       "      <td>73</td>\n",
       "      <td>98</td>\n",
       "    </tr>\n",
       "    <tr>\n",
       "      <th>1</th>\n",
       "      <td>69</td>\n",
       "      <td>92</td>\n",
       "      <td>74</td>\n",
       "      <td>12</td>\n",
       "      <td>17</td>\n",
       "      <td>28</td>\n",
       "    </tr>\n",
       "    <tr>\n",
       "      <th>2</th>\n",
       "      <td>25</td>\n",
       "      <td>70</td>\n",
       "      <td>10</td>\n",
       "      <td>84</td>\n",
       "      <td>76</td>\n",
       "      <td>95</td>\n",
       "    </tr>\n",
       "    <tr>\n",
       "      <th>3</th>\n",
       "      <td>28</td>\n",
       "      <td>51</td>\n",
       "      <td>45</td>\n",
       "      <td>53</td>\n",
       "      <td>14</td>\n",
       "      <td>36</td>\n",
       "    </tr>\n",
       "    <tr>\n",
       "      <th>4</th>\n",
       "      <td>89</td>\n",
       "      <td>77</td>\n",
       "      <td>77</td>\n",
       "      <td>98</td>\n",
       "      <td>19</td>\n",
       "      <td>77</td>\n",
       "    </tr>\n",
       "    <tr>\n",
       "      <th>5</th>\n",
       "      <td>47</td>\n",
       "      <td>37</td>\n",
       "      <td>31</td>\n",
       "      <td>61</td>\n",
       "      <td>65</td>\n",
       "      <td>24</td>\n",
       "    </tr>\n",
       "    <tr>\n",
       "      <th>6</th>\n",
       "      <td>92</td>\n",
       "      <td>60</td>\n",
       "      <td>75</td>\n",
       "      <td>19</td>\n",
       "      <td>29</td>\n",
       "      <td>42</td>\n",
       "    </tr>\n",
       "    <tr>\n",
       "      <th>7</th>\n",
       "      <td>41</td>\n",
       "      <td>79</td>\n",
       "      <td>45</td>\n",
       "      <td>21</td>\n",
       "      <td>15</td>\n",
       "      <td>94</td>\n",
       "    </tr>\n",
       "    <tr>\n",
       "      <th>8</th>\n",
       "      <td>81</td>\n",
       "      <td>15</td>\n",
       "      <td>56</td>\n",
       "      <td>83</td>\n",
       "      <td>13</td>\n",
       "      <td>66</td>\n",
       "    </tr>\n",
       "    <tr>\n",
       "      <th>9</th>\n",
       "      <td>14</td>\n",
       "      <td>47</td>\n",
       "      <td>52</td>\n",
       "      <td>19</td>\n",
       "      <td>19</td>\n",
       "      <td>58</td>\n",
       "    </tr>\n",
       "  </tbody>\n",
       "</table>\n",
       "</div>"
      ],
      "text/plain": [
       "   OTEJ  JDKD  ETOP  SEEO  IEDP  GJSE\n",
       "0    88    80    63    26    73    98\n",
       "1    69    92    74    12    17    28\n",
       "2    25    70    10    84    76    95\n",
       "3    28    51    45    53    14    36\n",
       "4    89    77    77    98    19    77\n",
       "5    47    37    31    61    65    24\n",
       "6    92    60    75    19    29    42\n",
       "7    41    79    45    21    15    94\n",
       "8    81    15    56    83    13    66\n",
       "9    14    47    52    19    19    58"
      ]
     },
     "execution_count": 15,
     "metadata": {},
     "output_type": "execute_result"
    }
   ],
   "source": [
    "# Make a DataFrame to write tables into the new instance of SQLite database.\n",
    "\n",
    "thumb_up_stocks = pd.DataFrame(\n",
    "    {\n",
    "        'OTEJ': np.random.randint(\n",
    "            10,\n",
    "            100,\n",
    "            10\n",
    "            )\n",
    "        ,\n",
    "        'JDKD': np.random.randint(\n",
    "            10,\n",
    "            100,\n",
    "            10\n",
    "            )\n",
    "        ,\n",
    "        'ETOP': np.random.randint(\n",
    "            10,\n",
    "            100,\n",
    "            10\n",
    "            )\n",
    "        ,\n",
    "        'SEEO': np.random.randint(\n",
    "            10,\n",
    "            100,\n",
    "            10\n",
    "            )\n",
    "        ,\n",
    "        'IEDP': np.random.randint(\n",
    "            10,\n",
    "            100,\n",
    "            10\n",
    "            )\n",
    "        ,\n",
    "        'GJSE': np.random.randint(\n",
    "            10,\n",
    "            100,\n",
    "            10\n",
    "            )\n",
    "    }\n",
    ")\n",
    "\n",
    "thumb_up_stocks"
   ]
  },
  {
   "cell_type": "code",
   "execution_count": 16,
   "id": "de92df00-8ed3-4a12-9a1c-dcab8ff0d5b9",
   "metadata": {},
   "outputs": [
    {
     "data": {
      "text/plain": [
       "10"
      ]
     },
     "execution_count": 16,
     "metadata": {},
     "output_type": "execute_result"
    }
   ],
   "source": [
    "# Write DataFrame into SQLite database.\n",
    "thumb_up_stocks.to_sql(\n",
    "    'thumb_up_stocks',\n",
    "    engine3,\n",
    "    index= False,\n",
    "    if_exists= 'replace'\n",
    ")"
   ]
  },
  {
   "cell_type": "code",
   "execution_count": 17,
   "id": "b7e92062-b416-40fc-97f8-8d4746366e9f",
   "metadata": {},
   "outputs": [
    {
     "data": {
      "text/html": [
       "<div>\n",
       "<style scoped>\n",
       "    .dataframe tbody tr th:only-of-type {\n",
       "        vertical-align: middle;\n",
       "    }\n",
       "\n",
       "    .dataframe tbody tr th {\n",
       "        vertical-align: top;\n",
       "    }\n",
       "\n",
       "    .dataframe thead th {\n",
       "        text-align: right;\n",
       "    }\n",
       "</style>\n",
       "<table border=\"1\" class=\"dataframe\">\n",
       "  <thead>\n",
       "    <tr style=\"text-align: right;\">\n",
       "      <th></th>\n",
       "      <th>OTEJ</th>\n",
       "      <th>JDKD</th>\n",
       "      <th>ETOP</th>\n",
       "      <th>SEEO</th>\n",
       "      <th>IEDP</th>\n",
       "      <th>GJSE</th>\n",
       "    </tr>\n",
       "  </thead>\n",
       "  <tbody>\n",
       "    <tr>\n",
       "      <th>0</th>\n",
       "      <td>88</td>\n",
       "      <td>80</td>\n",
       "      <td>63</td>\n",
       "      <td>26</td>\n",
       "      <td>73</td>\n",
       "      <td>98</td>\n",
       "    </tr>\n",
       "    <tr>\n",
       "      <th>1</th>\n",
       "      <td>69</td>\n",
       "      <td>92</td>\n",
       "      <td>74</td>\n",
       "      <td>12</td>\n",
       "      <td>17</td>\n",
       "      <td>28</td>\n",
       "    </tr>\n",
       "    <tr>\n",
       "      <th>2</th>\n",
       "      <td>25</td>\n",
       "      <td>70</td>\n",
       "      <td>10</td>\n",
       "      <td>84</td>\n",
       "      <td>76</td>\n",
       "      <td>95</td>\n",
       "    </tr>\n",
       "    <tr>\n",
       "      <th>3</th>\n",
       "      <td>28</td>\n",
       "      <td>51</td>\n",
       "      <td>45</td>\n",
       "      <td>53</td>\n",
       "      <td>14</td>\n",
       "      <td>36</td>\n",
       "    </tr>\n",
       "    <tr>\n",
       "      <th>4</th>\n",
       "      <td>89</td>\n",
       "      <td>77</td>\n",
       "      <td>77</td>\n",
       "      <td>98</td>\n",
       "      <td>19</td>\n",
       "      <td>77</td>\n",
       "    </tr>\n",
       "  </tbody>\n",
       "</table>\n",
       "</div>"
      ],
      "text/plain": [
       "   OTEJ  JDKD  ETOP  SEEO  IEDP  GJSE\n",
       "0    88    80    63    26    73    98\n",
       "1    69    92    74    12    17    28\n",
       "2    25    70    10    84    76    95\n",
       "3    28    51    45    53    14    36\n",
       "4    89    77    77    98    19    77"
      ]
     },
     "metadata": {},
     "output_type": "display_data"
    },
    {
     "data": {
      "text/html": [
       "<div>\n",
       "<style scoped>\n",
       "    .dataframe tbody tr th:only-of-type {\n",
       "        vertical-align: middle;\n",
       "    }\n",
       "\n",
       "    .dataframe tbody tr th {\n",
       "        vertical-align: top;\n",
       "    }\n",
       "\n",
       "    .dataframe thead th {\n",
       "        text-align: right;\n",
       "    }\n",
       "</style>\n",
       "<table border=\"1\" class=\"dataframe\">\n",
       "  <thead>\n",
       "    <tr style=\"text-align: right;\">\n",
       "      <th></th>\n",
       "      <th>OTEJ</th>\n",
       "      <th>JDKD</th>\n",
       "      <th>ETOP</th>\n",
       "      <th>SEEO</th>\n",
       "      <th>IEDP</th>\n",
       "      <th>GJSE</th>\n",
       "    </tr>\n",
       "  </thead>\n",
       "  <tbody>\n",
       "    <tr>\n",
       "      <th>5</th>\n",
       "      <td>47</td>\n",
       "      <td>37</td>\n",
       "      <td>31</td>\n",
       "      <td>61</td>\n",
       "      <td>65</td>\n",
       "      <td>24</td>\n",
       "    </tr>\n",
       "    <tr>\n",
       "      <th>6</th>\n",
       "      <td>92</td>\n",
       "      <td>60</td>\n",
       "      <td>75</td>\n",
       "      <td>19</td>\n",
       "      <td>29</td>\n",
       "      <td>42</td>\n",
       "    </tr>\n",
       "    <tr>\n",
       "      <th>7</th>\n",
       "      <td>41</td>\n",
       "      <td>79</td>\n",
       "      <td>45</td>\n",
       "      <td>21</td>\n",
       "      <td>15</td>\n",
       "      <td>94</td>\n",
       "    </tr>\n",
       "    <tr>\n",
       "      <th>8</th>\n",
       "      <td>81</td>\n",
       "      <td>15</td>\n",
       "      <td>56</td>\n",
       "      <td>83</td>\n",
       "      <td>13</td>\n",
       "      <td>66</td>\n",
       "    </tr>\n",
       "    <tr>\n",
       "      <th>9</th>\n",
       "      <td>14</td>\n",
       "      <td>47</td>\n",
       "      <td>52</td>\n",
       "      <td>19</td>\n",
       "      <td>19</td>\n",
       "      <td>58</td>\n",
       "    </tr>\n",
       "  </tbody>\n",
       "</table>\n",
       "</div>"
      ],
      "text/plain": [
       "   OTEJ  JDKD  ETOP  SEEO  IEDP  GJSE\n",
       "5    47    37    31    61    65    24\n",
       "6    92    60    75    19    29    42\n",
       "7    41    79    45    21    15    94\n",
       "8    81    15    56    83    13    66\n",
       "9    14    47    52    19    19    58"
      ]
     },
     "metadata": {},
     "output_type": "display_data"
    }
   ],
   "source": [
    "# Read a table from the SQLite database into s DataFrame.\n",
    "sql_thumb_up_stocks_df = pd.read_sql_table(\n",
    "    'thumb_up_stocks',\n",
    "    con= engine3,\n",
    ")\n",
    "\n",
    "# Display dataframe head & tail.\n",
    "display(sql_thumb_up_stocks_df.head())\n",
    "display(sql_thumb_up_stocks_df.tail())\n",
    "    "
   ]
  },
  {
   "cell_type": "markdown",
   "id": "dacbde3c-3bb6-42ca-8eb9-52de4ddc2632",
   "metadata": {
    "tags": []
   },
   "source": [
    "# This lesson involves Raw SQL"
   ]
  },
  {
   "cell_type": "markdown",
   "id": "9f501eeb-fc62-441e-912b-19d7d0afff9c",
   "metadata": {},
   "source": [
    "### Part 1\n",
    "> See part two below"
   ]
  },
  {
   "cell_type": "markdown",
   "id": "2412ce2d-ee3c-4765-9336-6acef6c763b5",
   "metadata": {
    "tags": []
   },
   "source": [
    "#### Recreate \"thumbs up stocks\" table:\n",
    "> **echo** --> the engine to reveal the `SQL statement`."
   ]
  },
  {
   "cell_type": "code",
   "execution_count": 18,
   "id": "21a5e50b-f1fa-4eab-abcf-4ec9a85c734f",
   "metadata": {},
   "outputs": [
    {
     "data": {
      "text/plain": [
       "Engine(sqlite:///)"
      ]
     },
     "execution_count": 18,
     "metadata": {},
     "output_type": "execute_result"
    }
   ],
   "source": [
    "# Create an instance of SQLite database.\n",
    "datdat = 'sqlite:///'\n",
    "\n",
    "# Create an engine which --> echoes\n",
    "engine4 = sql.create_engine(\n",
    "    datdat,\n",
    "    echo = True\n",
    ")\n",
    "\n",
    "# Confirm the engine existence.\n",
    "engine4"
   ]
  },
  {
   "cell_type": "code",
   "execution_count": 19,
   "id": "aaefda14-f186-4b85-a339-b2797f8d85af",
   "metadata": {},
   "outputs": [
    {
     "name": "stdout",
     "output_type": "stream",
     "text": [
      "2023-02-08 16:28:15,770 INFO sqlalchemy.engine.Engine PRAGMA main.table_info(\"thumb_up_stocks\")\n",
      "2023-02-08 16:28:15,774 INFO sqlalchemy.engine.Engine [raw sql] ()\n",
      "2023-02-08 16:28:15,776 INFO sqlalchemy.engine.Engine PRAGMA temp.table_info(\"thumb_up_stocks\")\n",
      "2023-02-08 16:28:15,778 INFO sqlalchemy.engine.Engine [raw sql] ()\n",
      "2023-02-08 16:28:15,782 INFO sqlalchemy.engine.Engine BEGIN (implicit)\n",
      "2023-02-08 16:28:15,783 INFO sqlalchemy.engine.Engine \n",
      "CREATE TABLE thumb_up_stocks (\n",
      "\t\"OTEJ\" INTEGER, \n",
      "\t\"JDKD\" INTEGER, \n",
      "\t\"ETOP\" INTEGER, \n",
      "\t\"SEEO\" INTEGER, \n",
      "\t\"IEDP\" INTEGER, \n",
      "\t\"GJSE\" INTEGER\n",
      ")\n",
      "\n",
      "\n",
      "2023-02-08 16:28:15,786 INFO sqlalchemy.engine.Engine [no key 0.00133s] ()\n",
      "2023-02-08 16:28:15,786 INFO sqlalchemy.engine.Engine COMMIT\n",
      "2023-02-08 16:28:15,786 INFO sqlalchemy.engine.Engine BEGIN (implicit)\n",
      "2023-02-08 16:28:15,791 INFO sqlalchemy.engine.Engine INSERT INTO thumb_up_stocks (\"OTEJ\", \"JDKD\", \"ETOP\", \"SEEO\", \"IEDP\", \"GJSE\") VALUES (?, ?, ?, ?, ?, ?)\n",
      "2023-02-08 16:28:15,791 INFO sqlalchemy.engine.Engine [generated in 0.00143s] ((88, 80, 63, 26, 73, 98), (69, 92, 74, 12, 17, 28), (25, 70, 10, 84, 76, 95), (28, 51, 45, 53, 14, 36), (89, 77, 77, 98, 19, 77), (47, 37, 31, 61, 65, 24), (92, 60, 75, 19, 29, 42), (41, 79, 45, 21, 15, 94), (81, 15, 56, 83, 13, 66), (14, 47, 52, 19, 19, 58))\n",
      "2023-02-08 16:28:15,795 INFO sqlalchemy.engine.Engine COMMIT\n"
     ]
    },
    {
     "data": {
      "text/plain": [
       "10"
      ]
     },
     "execution_count": 19,
     "metadata": {},
     "output_type": "execute_result"
    }
   ],
   "source": [
    "# Now, reveal or echo back the SQL statement that created the thumb up table.\n",
    "thumb_up_stocks.to_sql(\n",
    "    'thumb_up_stocks',\n",
    "    engine4,\n",
    "    index=False,\n",
    "    if_exists='replace'\n",
    ")"
   ]
  },
  {
   "cell_type": "markdown",
   "id": "a3751ecb-5452-4d5d-b6fc-de6e2c68f7c5",
   "metadata": {},
   "source": [
    "___"
   ]
  },
  {
   "cell_type": "code",
   "execution_count": null,
   "id": "11daa12f-3a38-406a-8553-242b89034ee5",
   "metadata": {},
   "outputs": [],
   "source": []
  },
  {
   "cell_type": "markdown",
   "id": "404026aa-bfe9-4779-a700-cebf7f7134b7",
   "metadata": {},
   "source": [
    "### Part 2\n",
    "> See part one above"
   ]
  },
  {
   "cell_type": "markdown",
   "id": "361af75a-c1be-4140-953e-ea9aa5ec77d3",
   "metadata": {},
   "source": [
    "#### Now that is revealed by echo engine, using the SQL statement recreate the thumb up table."
   ]
  },
  {
   "cell_type": "code",
   "execution_count": null,
   "id": "ab085f23-0761-4ebe-9993-301e8a10d315",
   "metadata": {},
   "outputs": [],
   "source": [
    "create_table = \"\"\"\n",
    "\n",
    "CREATE TABLE thumb_up_stocks (\n",
    "    \"OTEJ\" INTEGER, \n",
    "    \"JDKD\" INTEGER, \n",
    "    \"ETOP\" INTEGER, \n",
    "    \"SEEO\" INTEGER, \n",
    "    \"IEDP\" INTEGER, \n",
    "    \"GJSE\" INTEGER\n",
    ")\n",
    "\n",
    "\"\"\"\n",
    "create_table"
   ]
  },
  {
   "cell_type": "code",
   "execution_count": null,
   "id": "5cd3c87b-112b-4009-81f6-0d19d8cfe076",
   "metadata": {},
   "outputs": [],
   "source": [
    "# Execute the SQL statement using the: engine\n",
    "engine4.execute(\n",
    "    create_table\n",
    ")"
   ]
  },
  {
   "cell_type": "code",
   "execution_count": null,
   "id": "ba1399be-bc35-4ad2-bf4b-e11769b80e52",
   "metadata": {},
   "outputs": [],
   "source": []
  },
  {
   "cell_type": "markdown",
   "id": "23e55304-7ff2-49c4-bd18-fbc96ac74084",
   "metadata": {},
   "source": [
    "#### Let us change the SQL statement a bit."
   ]
  },
  {
   "cell_type": "markdown",
   "id": "6bb9e61a-f9db-46dc-ac79-7443daf240c5",
   "metadata": {},
   "source": [
    "###### Create new table using Raw SQL."
   ]
  },
  {
   "cell_type": "code",
   "execution_count": 20,
   "id": "349bc94e-f86b-440a-95f9-a001502967e8",
   "metadata": {},
   "outputs": [
    {
     "data": {
      "text/plain": [
       "\"\\n\\nCREATE TABLE delicious_stocks (\\n\\n    'EAT' BIGINT,\\n    'CAKE' BIGINT\\n)\\n\""
      ]
     },
     "execution_count": 20,
     "metadata": {},
     "output_type": "execute_result"
    }
   ],
   "source": [
    "create_table1 = \"\"\"\n",
    "\n",
    "CREATE TABLE delicious_stocks (\n",
    "\n",
    "    'EAT' BIGINT,\n",
    "    'CAKE' BIGINT\n",
    ")\n",
    "\"\"\"\n",
    "\n",
    "create_table1"
   ]
  },
  {
   "cell_type": "code",
   "execution_count": 21,
   "id": "129b897e-a4be-4502-82d9-d02a07fa8b93",
   "metadata": {},
   "outputs": [
    {
     "name": "stdout",
     "output_type": "stream",
     "text": [
      "2023-02-08 16:28:15,823 INFO sqlalchemy.engine.Engine \n",
      "\n",
      "CREATE TABLE delicious_stocks (\n",
      "\n",
      "    'EAT' BIGINT,\n",
      "    'CAKE' BIGINT\n",
      ")\n",
      "\n",
      "2023-02-08 16:28:15,823 INFO sqlalchemy.engine.Engine [raw sql] ()\n",
      "2023-02-08 16:28:15,831 INFO sqlalchemy.engine.Engine COMMIT\n"
     ]
    },
    {
     "data": {
      "text/plain": [
       "<sqlalchemy.engine.cursor.LegacyCursorResult at 0x17cfba37d90>"
      ]
     },
     "execution_count": 21,
     "metadata": {},
     "output_type": "execute_result"
    }
   ],
   "source": [
    "# Now that the multiline string has been created, execute the SQL statement using the: engine\n",
    "engine4.execute(\n",
    "    create_table1\n",
    ")"
   ]
  },
  {
   "cell_type": "code",
   "execution_count": 22,
   "id": "dbe9df4c-175d-4208-93f7-b420fb62c311",
   "metadata": {},
   "outputs": [
    {
     "name": "stdout",
     "output_type": "stream",
     "text": [
      "2023-02-08 16:28:15,863 INFO sqlalchemy.engine.Engine SELECT name FROM sqlite_master WHERE type='table' ORDER BY name\n",
      "2023-02-08 16:28:15,867 INFO sqlalchemy.engine.Engine [raw sql] ()\n"
     ]
    },
    {
     "name": "stderr",
     "output_type": "stream",
     "text": [
      "C:\\Users\\admin\\AppData\\Local\\Temp\\ipykernel_17180\\3638058384.py:2: SADeprecationWarning: The Engine.table_names() method is deprecated and will be removed in a future release.  Please refer to Inspector.get_table_names(). (deprecated since: 1.4)\n",
      "  engine4.table_names()\n"
     ]
    },
    {
     "data": {
      "text/plain": [
       "['delicious_stocks', 'thumb_up_stocks']"
      ]
     },
     "execution_count": 22,
     "metadata": {},
     "output_type": "execute_result"
    }
   ],
   "source": [
    "# Confirm that the SQL execute transaction was fulfilled by the database.\n",
    "engine4.table_names()"
   ]
  },
  {
   "cell_type": "code",
   "execution_count": 23,
   "id": "09831b47-111f-48dd-9835-9344c2880cf5",
   "metadata": {},
   "outputs": [
    {
     "name": "stdout",
     "output_type": "stream",
     "text": [
      "2023-02-08 16:28:15,877 INFO sqlalchemy.engine.Engine PRAGMA main.table_info(\"delicious_stocks\")\n",
      "2023-02-08 16:28:15,881 INFO sqlalchemy.engine.Engine [raw sql] ()\n",
      "2023-02-08 16:28:15,883 INFO sqlalchemy.engine.Engine PRAGMA main.table_xinfo(\"delicious_stocks\")\n",
      "2023-02-08 16:28:15,885 INFO sqlalchemy.engine.Engine [raw sql] ()\n",
      "2023-02-08 16:28:15,886 INFO sqlalchemy.engine.Engine SELECT sql FROM  (SELECT * FROM sqlite_master UNION ALL   SELECT * FROM sqlite_temp_master) WHERE name = ? AND type = 'table'\n",
      "2023-02-08 16:28:15,889 INFO sqlalchemy.engine.Engine [raw sql] ('delicious_stocks',)\n",
      "2023-02-08 16:28:15,889 INFO sqlalchemy.engine.Engine PRAGMA main.foreign_key_list(\"delicious_stocks\")\n",
      "2023-02-08 16:28:15,896 INFO sqlalchemy.engine.Engine [raw sql] ()\n",
      "2023-02-08 16:28:15,896 INFO sqlalchemy.engine.Engine PRAGMA temp.foreign_key_list(\"delicious_stocks\")\n",
      "2023-02-08 16:28:15,896 INFO sqlalchemy.engine.Engine [raw sql] ()\n",
      "2023-02-08 16:28:15,896 INFO sqlalchemy.engine.Engine SELECT sql FROM  (SELECT * FROM sqlite_master UNION ALL   SELECT * FROM sqlite_temp_master) WHERE name = ? AND type = 'table'\n",
      "2023-02-08 16:28:15,904 INFO sqlalchemy.engine.Engine [raw sql] ('delicious_stocks',)\n",
      "2023-02-08 16:28:15,904 INFO sqlalchemy.engine.Engine PRAGMA main.index_list(\"delicious_stocks\")\n",
      "2023-02-08 16:28:15,904 INFO sqlalchemy.engine.Engine [raw sql] ()\n",
      "2023-02-08 16:28:15,904 INFO sqlalchemy.engine.Engine PRAGMA temp.index_list(\"delicious_stocks\")\n",
      "2023-02-08 16:28:15,904 INFO sqlalchemy.engine.Engine [raw sql] ()\n",
      "2023-02-08 16:28:15,912 INFO sqlalchemy.engine.Engine PRAGMA main.index_list(\"delicious_stocks\")\n",
      "2023-02-08 16:28:15,912 INFO sqlalchemy.engine.Engine [raw sql] ()\n",
      "2023-02-08 16:28:15,912 INFO sqlalchemy.engine.Engine PRAGMA temp.index_list(\"delicious_stocks\")\n",
      "2023-02-08 16:28:15,912 INFO sqlalchemy.engine.Engine [raw sql] ()\n",
      "2023-02-08 16:28:15,920 INFO sqlalchemy.engine.Engine SELECT sql FROM  (SELECT * FROM sqlite_master UNION ALL   SELECT * FROM sqlite_temp_master) WHERE name = ? AND type = 'table'\n",
      "2023-02-08 16:28:15,922 INFO sqlalchemy.engine.Engine [raw sql] ('delicious_stocks',)\n",
      "2023-02-08 16:28:15,928 INFO sqlalchemy.engine.Engine SELECT delicious_stocks.\"EAT\", delicious_stocks.\"CAKE\" \n",
      "FROM delicious_stocks\n",
      "2023-02-08 16:28:15,928 INFO sqlalchemy.engine.Engine [generated in 0.00219s] ()\n"
     ]
    },
    {
     "data": {
      "text/html": [
       "<div>\n",
       "<style scoped>\n",
       "    .dataframe tbody tr th:only-of-type {\n",
       "        vertical-align: middle;\n",
       "    }\n",
       "\n",
       "    .dataframe tbody tr th {\n",
       "        vertical-align: top;\n",
       "    }\n",
       "\n",
       "    .dataframe thead th {\n",
       "        text-align: right;\n",
       "    }\n",
       "</style>\n",
       "<table border=\"1\" class=\"dataframe\">\n",
       "  <thead>\n",
       "    <tr style=\"text-align: right;\">\n",
       "      <th></th>\n",
       "      <th>EAT</th>\n",
       "      <th>CAKE</th>\n",
       "    </tr>\n",
       "  </thead>\n",
       "  <tbody>\n",
       "  </tbody>\n",
       "</table>\n",
       "</div>"
      ],
      "text/plain": [
       "Empty DataFrame\n",
       "Columns: [EAT, CAKE]\n",
       "Index: []"
      ]
     },
     "execution_count": 23,
     "metadata": {},
     "output_type": "execute_result"
    }
   ],
   "source": [
    "# Now, read the table into the Pandas DataFrame.\n",
    "pd.read_sql_table(\n",
    "    'delicious_stocks',\n",
    "    con= engine4\n",
    ")"
   ]
  },
  {
   "cell_type": "code",
   "execution_count": 28,
   "id": "2ab64915-82c9-40dd-9e47-2343bc2b3c05",
   "metadata": {},
   "outputs": [],
   "source": [
    "# Insert data into the table.\n",
    "# First --> create a multiline string\n",
    "insert_data = \"\"\"\n",
    "INSERT INTO delicious_stocks (\n",
    "    (\n",
    "        'EAT',\n",
    "        'CAKE'\n",
    "    )\n",
    "    VALUES (\n",
    "        ?,\n",
    "        ?\n",
    "    )\n",
    ")\n",
    "\n",
    "\"\"\""
   ]
  },
  {
   "cell_type": "code",
   "execution_count": 29,
   "id": "33e05f1c-ff41-40d1-b19c-5bc20b64c6c9",
   "metadata": {},
   "outputs": [
    {
     "name": "stdout",
     "output_type": "stream",
     "text": [
      "2023-02-08 16:29:18,134 INFO sqlalchemy.engine.Engine \n",
      "INSERT INTO delicious_stocks (\n",
      "    (\n",
      "        'EAT',\n",
      "        'CAKE'\n",
      "    )\n",
      "    VALUES (\n",
      "        ?,\n",
      "        ?\n",
      "    )\n",
      ")\n",
      "\n",
      "\n",
      "2023-02-08 16:29:18,143 INFO sqlalchemy.engine.Engine [raw sql] ((10, 30), (20, 40))\n",
      "2023-02-08 16:29:18,143 INFO sqlalchemy.engine.Engine ROLLBACK\n"
     ]
    },
    {
     "ename": "OperationalError",
     "evalue": "(sqlite3.OperationalError) near \"(\": syntax error\n[SQL: \nINSERT INTO delicious_stocks (\n    (\n        'EAT',\n        'CAKE'\n    )\n    VALUES (\n        ?,\n        ?\n    )\n)\n\n]\n[parameters: ((10, 30), (20, 40))]\n(Background on this error at: https://sqlalche.me/e/14/e3q8)",
     "output_type": "error",
     "traceback": [
      "\u001b[1;31m---------------------------------------------------------------------------\u001b[0m",
      "\u001b[1;31mOperationalError\u001b[0m                          Traceback (most recent call last)",
      "\u001b[1;32mC:\\ProgramData\\Anaconda3\\lib\\site-packages\\sqlalchemy\\engine\\base.py\u001b[0m in \u001b[0;36m_execute_context\u001b[1;34m(self, dialect, constructor, statement, parameters, execution_options, *args, **kw)\u001b[0m\n\u001b[0;32m   1798\u001b[0m                 \u001b[1;32mif\u001b[0m \u001b[1;32mnot\u001b[0m \u001b[0mevt_handled\u001b[0m\u001b[1;33m:\u001b[0m\u001b[1;33m\u001b[0m\u001b[1;33m\u001b[0m\u001b[0m\n\u001b[1;32m-> 1799\u001b[1;33m                     self.dialect.do_executemany(\n\u001b[0m\u001b[0;32m   1800\u001b[0m                         \u001b[0mcursor\u001b[0m\u001b[1;33m,\u001b[0m \u001b[0mstatement\u001b[0m\u001b[1;33m,\u001b[0m \u001b[0mparameters\u001b[0m\u001b[1;33m,\u001b[0m \u001b[0mcontext\u001b[0m\u001b[1;33m\u001b[0m\u001b[1;33m\u001b[0m\u001b[0m\n",
      "\u001b[1;32mC:\\ProgramData\\Anaconda3\\lib\\site-packages\\sqlalchemy\\engine\\default.py\u001b[0m in \u001b[0;36mdo_executemany\u001b[1;34m(self, cursor, statement, parameters, context)\u001b[0m\n\u001b[0;32m    728\u001b[0m     \u001b[1;32mdef\u001b[0m \u001b[0mdo_executemany\u001b[0m\u001b[1;33m(\u001b[0m\u001b[0mself\u001b[0m\u001b[1;33m,\u001b[0m \u001b[0mcursor\u001b[0m\u001b[1;33m,\u001b[0m \u001b[0mstatement\u001b[0m\u001b[1;33m,\u001b[0m \u001b[0mparameters\u001b[0m\u001b[1;33m,\u001b[0m \u001b[0mcontext\u001b[0m\u001b[1;33m=\u001b[0m\u001b[1;32mNone\u001b[0m\u001b[1;33m)\u001b[0m\u001b[1;33m:\u001b[0m\u001b[1;33m\u001b[0m\u001b[1;33m\u001b[0m\u001b[0m\n\u001b[1;32m--> 729\u001b[1;33m         \u001b[0mcursor\u001b[0m\u001b[1;33m.\u001b[0m\u001b[0mexecutemany\u001b[0m\u001b[1;33m(\u001b[0m\u001b[0mstatement\u001b[0m\u001b[1;33m,\u001b[0m \u001b[0mparameters\u001b[0m\u001b[1;33m)\u001b[0m\u001b[1;33m\u001b[0m\u001b[1;33m\u001b[0m\u001b[0m\n\u001b[0m\u001b[0;32m    730\u001b[0m \u001b[1;33m\u001b[0m\u001b[0m\n",
      "\u001b[1;31mOperationalError\u001b[0m: near \"(\": syntax error",
      "\nThe above exception was the direct cause of the following exception:\n",
      "\u001b[1;31mOperationalError\u001b[0m                          Traceback (most recent call last)",
      "\u001b[1;32m~\\AppData\\Local\\Temp\\ipykernel_17180\\1605081660.py\u001b[0m in \u001b[0;36m<module>\u001b[1;34m\u001b[0m\n\u001b[0;32m      1\u001b[0m \u001b[1;31m# Second --> execute the SQL statement using the: engine\u001b[0m\u001b[1;33m\u001b[0m\u001b[1;33m\u001b[0m\u001b[0m\n\u001b[1;32m----> 2\u001b[1;33m engine4.execute(\n\u001b[0m\u001b[0;32m      3\u001b[0m     \u001b[0minsert_data\u001b[0m\u001b[1;33m,\u001b[0m\u001b[1;33m\u001b[0m\u001b[1;33m\u001b[0m\u001b[0m\n\u001b[0;32m      4\u001b[0m     (\n\u001b[0;32m      5\u001b[0m         \u001b[1;33m(\u001b[0m\u001b[1;36m10\u001b[0m\u001b[1;33m,\u001b[0m\u001b[1;36m30\u001b[0m\u001b[1;33m)\u001b[0m\u001b[1;33m,\u001b[0m\u001b[1;33m\u001b[0m\u001b[1;33m\u001b[0m\u001b[0m\n",
      "\u001b[1;32m<string>\u001b[0m in \u001b[0;36mexecute\u001b[1;34m(self, statement, *multiparams, **params)\u001b[0m\n",
      "\u001b[1;32mC:\\ProgramData\\Anaconda3\\lib\\site-packages\\sqlalchemy\\util\\deprecations.py\u001b[0m in \u001b[0;36mwarned\u001b[1;34m(fn, *args, **kwargs)\u001b[0m\n\u001b[0;32m    400\u001b[0m         \u001b[1;32mif\u001b[0m \u001b[1;32mnot\u001b[0m \u001b[0mskip_warning\u001b[0m\u001b[1;33m:\u001b[0m\u001b[1;33m\u001b[0m\u001b[1;33m\u001b[0m\u001b[0m\n\u001b[0;32m    401\u001b[0m             \u001b[0m_warn_with_version\u001b[0m\u001b[1;33m(\u001b[0m\u001b[0mmessage\u001b[0m\u001b[1;33m,\u001b[0m \u001b[0mversion\u001b[0m\u001b[1;33m,\u001b[0m \u001b[0mwtype\u001b[0m\u001b[1;33m,\u001b[0m \u001b[0mstacklevel\u001b[0m\u001b[1;33m=\u001b[0m\u001b[1;36m3\u001b[0m\u001b[1;33m)\u001b[0m\u001b[1;33m\u001b[0m\u001b[1;33m\u001b[0m\u001b[0m\n\u001b[1;32m--> 402\u001b[1;33m         \u001b[1;32mreturn\u001b[0m \u001b[0mfn\u001b[0m\u001b[1;33m(\u001b[0m\u001b[1;33m*\u001b[0m\u001b[0margs\u001b[0m\u001b[1;33m,\u001b[0m \u001b[1;33m**\u001b[0m\u001b[0mkwargs\u001b[0m\u001b[1;33m)\u001b[0m\u001b[1;33m\u001b[0m\u001b[1;33m\u001b[0m\u001b[0m\n\u001b[0m\u001b[0;32m    403\u001b[0m \u001b[1;33m\u001b[0m\u001b[0m\n\u001b[0;32m    404\u001b[0m     \u001b[0mdoc\u001b[0m \u001b[1;33m=\u001b[0m \u001b[0mfunc\u001b[0m\u001b[1;33m.\u001b[0m\u001b[0m__doc__\u001b[0m \u001b[1;32mis\u001b[0m \u001b[1;32mnot\u001b[0m \u001b[1;32mNone\u001b[0m \u001b[1;32mand\u001b[0m \u001b[0mfunc\u001b[0m\u001b[1;33m.\u001b[0m\u001b[0m__doc__\u001b[0m \u001b[1;32mor\u001b[0m \u001b[1;34m\"\"\u001b[0m\u001b[1;33m\u001b[0m\u001b[1;33m\u001b[0m\u001b[0m\n",
      "\u001b[1;32mC:\\ProgramData\\Anaconda3\\lib\\site-packages\\sqlalchemy\\engine\\base.py\u001b[0m in \u001b[0;36mexecute\u001b[1;34m(self, statement, *multiparams, **params)\u001b[0m\n\u001b[0;32m   3174\u001b[0m         \"\"\"\n\u001b[0;32m   3175\u001b[0m         \u001b[0mconnection\u001b[0m \u001b[1;33m=\u001b[0m \u001b[0mself\u001b[0m\u001b[1;33m.\u001b[0m\u001b[0mconnect\u001b[0m\u001b[1;33m(\u001b[0m\u001b[0mclose_with_result\u001b[0m\u001b[1;33m=\u001b[0m\u001b[1;32mTrue\u001b[0m\u001b[1;33m)\u001b[0m\u001b[1;33m\u001b[0m\u001b[1;33m\u001b[0m\u001b[0m\n\u001b[1;32m-> 3176\u001b[1;33m         \u001b[1;32mreturn\u001b[0m \u001b[0mconnection\u001b[0m\u001b[1;33m.\u001b[0m\u001b[0mexecute\u001b[0m\u001b[1;33m(\u001b[0m\u001b[0mstatement\u001b[0m\u001b[1;33m,\u001b[0m \u001b[1;33m*\u001b[0m\u001b[0mmultiparams\u001b[0m\u001b[1;33m,\u001b[0m \u001b[1;33m**\u001b[0m\u001b[0mparams\u001b[0m\u001b[1;33m)\u001b[0m\u001b[1;33m\u001b[0m\u001b[1;33m\u001b[0m\u001b[0m\n\u001b[0m\u001b[0;32m   3177\u001b[0m \u001b[1;33m\u001b[0m\u001b[0m\n\u001b[0;32m   3178\u001b[0m     @util.deprecated_20(\n",
      "\u001b[1;32mC:\\ProgramData\\Anaconda3\\lib\\site-packages\\sqlalchemy\\engine\\base.py\u001b[0m in \u001b[0;36mexecute\u001b[1;34m(self, statement, *multiparams, **params)\u001b[0m\n\u001b[0;32m   1289\u001b[0m             )\n\u001b[0;32m   1290\u001b[0m \u001b[1;33m\u001b[0m\u001b[0m\n\u001b[1;32m-> 1291\u001b[1;33m             return self._exec_driver_sql(\n\u001b[0m\u001b[0;32m   1292\u001b[0m                 \u001b[0mstatement\u001b[0m\u001b[1;33m,\u001b[0m\u001b[1;33m\u001b[0m\u001b[1;33m\u001b[0m\u001b[0m\n\u001b[0;32m   1293\u001b[0m                 \u001b[0mmultiparams\u001b[0m\u001b[1;33m,\u001b[0m\u001b[1;33m\u001b[0m\u001b[1;33m\u001b[0m\u001b[0m\n",
      "\u001b[1;32mC:\\ProgramData\\Anaconda3\\lib\\site-packages\\sqlalchemy\\engine\\base.py\u001b[0m in \u001b[0;36m_exec_driver_sql\u001b[1;34m(self, statement, multiparams, params, execution_options, future)\u001b[0m\n\u001b[0;32m   1593\u001b[0m \u001b[1;33m\u001b[0m\u001b[0m\n\u001b[0;32m   1594\u001b[0m         \u001b[0mdialect\u001b[0m \u001b[1;33m=\u001b[0m \u001b[0mself\u001b[0m\u001b[1;33m.\u001b[0m\u001b[0mdialect\u001b[0m\u001b[1;33m\u001b[0m\u001b[1;33m\u001b[0m\u001b[0m\n\u001b[1;32m-> 1595\u001b[1;33m         ret = self._execute_context(\n\u001b[0m\u001b[0;32m   1596\u001b[0m             \u001b[0mdialect\u001b[0m\u001b[1;33m,\u001b[0m\u001b[1;33m\u001b[0m\u001b[1;33m\u001b[0m\u001b[0m\n\u001b[0;32m   1597\u001b[0m             \u001b[0mdialect\u001b[0m\u001b[1;33m.\u001b[0m\u001b[0mexecution_ctx_cls\u001b[0m\u001b[1;33m.\u001b[0m\u001b[0m_init_statement\u001b[0m\u001b[1;33m,\u001b[0m\u001b[1;33m\u001b[0m\u001b[1;33m\u001b[0m\u001b[0m\n",
      "\u001b[1;32mC:\\ProgramData\\Anaconda3\\lib\\site-packages\\sqlalchemy\\engine\\base.py\u001b[0m in \u001b[0;36m_execute_context\u001b[1;34m(self, dialect, constructor, statement, parameters, execution_options, *args, **kw)\u001b[0m\n\u001b[0;32m   1860\u001b[0m \u001b[1;33m\u001b[0m\u001b[0m\n\u001b[0;32m   1861\u001b[0m         \u001b[1;32mexcept\u001b[0m \u001b[0mBaseException\u001b[0m \u001b[1;32mas\u001b[0m \u001b[0me\u001b[0m\u001b[1;33m:\u001b[0m\u001b[1;33m\u001b[0m\u001b[1;33m\u001b[0m\u001b[0m\n\u001b[1;32m-> 1862\u001b[1;33m             self._handle_dbapi_exception(\n\u001b[0m\u001b[0;32m   1863\u001b[0m                 \u001b[0me\u001b[0m\u001b[1;33m,\u001b[0m \u001b[0mstatement\u001b[0m\u001b[1;33m,\u001b[0m \u001b[0mparameters\u001b[0m\u001b[1;33m,\u001b[0m \u001b[0mcursor\u001b[0m\u001b[1;33m,\u001b[0m \u001b[0mcontext\u001b[0m\u001b[1;33m\u001b[0m\u001b[1;33m\u001b[0m\u001b[0m\n\u001b[0;32m   1864\u001b[0m             )\n",
      "\u001b[1;32mC:\\ProgramData\\Anaconda3\\lib\\site-packages\\sqlalchemy\\engine\\base.py\u001b[0m in \u001b[0;36m_handle_dbapi_exception\u001b[1;34m(self, e, statement, parameters, cursor, context)\u001b[0m\n\u001b[0;32m   2041\u001b[0m                 \u001b[0mutil\u001b[0m\u001b[1;33m.\u001b[0m\u001b[0mraise_\u001b[0m\u001b[1;33m(\u001b[0m\u001b[0mnewraise\u001b[0m\u001b[1;33m,\u001b[0m \u001b[0mwith_traceback\u001b[0m\u001b[1;33m=\u001b[0m\u001b[0mexc_info\u001b[0m\u001b[1;33m[\u001b[0m\u001b[1;36m2\u001b[0m\u001b[1;33m]\u001b[0m\u001b[1;33m,\u001b[0m \u001b[0mfrom_\u001b[0m\u001b[1;33m=\u001b[0m\u001b[0me\u001b[0m\u001b[1;33m)\u001b[0m\u001b[1;33m\u001b[0m\u001b[1;33m\u001b[0m\u001b[0m\n\u001b[0;32m   2042\u001b[0m             \u001b[1;32melif\u001b[0m \u001b[0mshould_wrap\u001b[0m\u001b[1;33m:\u001b[0m\u001b[1;33m\u001b[0m\u001b[1;33m\u001b[0m\u001b[0m\n\u001b[1;32m-> 2043\u001b[1;33m                 util.raise_(\n\u001b[0m\u001b[0;32m   2044\u001b[0m                     \u001b[0msqlalchemy_exception\u001b[0m\u001b[1;33m,\u001b[0m \u001b[0mwith_traceback\u001b[0m\u001b[1;33m=\u001b[0m\u001b[0mexc_info\u001b[0m\u001b[1;33m[\u001b[0m\u001b[1;36m2\u001b[0m\u001b[1;33m]\u001b[0m\u001b[1;33m,\u001b[0m \u001b[0mfrom_\u001b[0m\u001b[1;33m=\u001b[0m\u001b[0me\u001b[0m\u001b[1;33m\u001b[0m\u001b[1;33m\u001b[0m\u001b[0m\n\u001b[0;32m   2045\u001b[0m                 )\n",
      "\u001b[1;32mC:\\ProgramData\\Anaconda3\\lib\\site-packages\\sqlalchemy\\util\\compat.py\u001b[0m in \u001b[0;36mraise_\u001b[1;34m(***failed resolving arguments***)\u001b[0m\n\u001b[0;32m    206\u001b[0m \u001b[1;33m\u001b[0m\u001b[0m\n\u001b[0;32m    207\u001b[0m         \u001b[1;32mtry\u001b[0m\u001b[1;33m:\u001b[0m\u001b[1;33m\u001b[0m\u001b[1;33m\u001b[0m\u001b[0m\n\u001b[1;32m--> 208\u001b[1;33m             \u001b[1;32mraise\u001b[0m \u001b[0mexception\u001b[0m\u001b[1;33m\u001b[0m\u001b[1;33m\u001b[0m\u001b[0m\n\u001b[0m\u001b[0;32m    209\u001b[0m         \u001b[1;32mfinally\u001b[0m\u001b[1;33m:\u001b[0m\u001b[1;33m\u001b[0m\u001b[1;33m\u001b[0m\u001b[0m\n\u001b[0;32m    210\u001b[0m             \u001b[1;31m# credit to\u001b[0m\u001b[1;33m\u001b[0m\u001b[1;33m\u001b[0m\u001b[0m\n",
      "\u001b[1;32mC:\\ProgramData\\Anaconda3\\lib\\site-packages\\sqlalchemy\\engine\\base.py\u001b[0m in \u001b[0;36m_execute_context\u001b[1;34m(self, dialect, constructor, statement, parameters, execution_options, *args, **kw)\u001b[0m\n\u001b[0;32m   1797\u001b[0m                             \u001b[1;32mbreak\u001b[0m\u001b[1;33m\u001b[0m\u001b[1;33m\u001b[0m\u001b[0m\n\u001b[0;32m   1798\u001b[0m                 \u001b[1;32mif\u001b[0m \u001b[1;32mnot\u001b[0m \u001b[0mevt_handled\u001b[0m\u001b[1;33m:\u001b[0m\u001b[1;33m\u001b[0m\u001b[1;33m\u001b[0m\u001b[0m\n\u001b[1;32m-> 1799\u001b[1;33m                     self.dialect.do_executemany(\n\u001b[0m\u001b[0;32m   1800\u001b[0m                         \u001b[0mcursor\u001b[0m\u001b[1;33m,\u001b[0m \u001b[0mstatement\u001b[0m\u001b[1;33m,\u001b[0m \u001b[0mparameters\u001b[0m\u001b[1;33m,\u001b[0m \u001b[0mcontext\u001b[0m\u001b[1;33m\u001b[0m\u001b[1;33m\u001b[0m\u001b[0m\n\u001b[0;32m   1801\u001b[0m                     )\n",
      "\u001b[1;32mC:\\ProgramData\\Anaconda3\\lib\\site-packages\\sqlalchemy\\engine\\default.py\u001b[0m in \u001b[0;36mdo_executemany\u001b[1;34m(self, cursor, statement, parameters, context)\u001b[0m\n\u001b[0;32m    727\u001b[0m \u001b[1;33m\u001b[0m\u001b[0m\n\u001b[0;32m    728\u001b[0m     \u001b[1;32mdef\u001b[0m \u001b[0mdo_executemany\u001b[0m\u001b[1;33m(\u001b[0m\u001b[0mself\u001b[0m\u001b[1;33m,\u001b[0m \u001b[0mcursor\u001b[0m\u001b[1;33m,\u001b[0m \u001b[0mstatement\u001b[0m\u001b[1;33m,\u001b[0m \u001b[0mparameters\u001b[0m\u001b[1;33m,\u001b[0m \u001b[0mcontext\u001b[0m\u001b[1;33m=\u001b[0m\u001b[1;32mNone\u001b[0m\u001b[1;33m)\u001b[0m\u001b[1;33m:\u001b[0m\u001b[1;33m\u001b[0m\u001b[1;33m\u001b[0m\u001b[0m\n\u001b[1;32m--> 729\u001b[1;33m         \u001b[0mcursor\u001b[0m\u001b[1;33m.\u001b[0m\u001b[0mexecutemany\u001b[0m\u001b[1;33m(\u001b[0m\u001b[0mstatement\u001b[0m\u001b[1;33m,\u001b[0m \u001b[0mparameters\u001b[0m\u001b[1;33m)\u001b[0m\u001b[1;33m\u001b[0m\u001b[1;33m\u001b[0m\u001b[0m\n\u001b[0m\u001b[0;32m    730\u001b[0m \u001b[1;33m\u001b[0m\u001b[0m\n\u001b[0;32m    731\u001b[0m     \u001b[1;32mdef\u001b[0m \u001b[0mdo_execute\u001b[0m\u001b[1;33m(\u001b[0m\u001b[0mself\u001b[0m\u001b[1;33m,\u001b[0m \u001b[0mcursor\u001b[0m\u001b[1;33m,\u001b[0m \u001b[0mstatement\u001b[0m\u001b[1;33m,\u001b[0m \u001b[0mparameters\u001b[0m\u001b[1;33m,\u001b[0m \u001b[0mcontext\u001b[0m\u001b[1;33m=\u001b[0m\u001b[1;32mNone\u001b[0m\u001b[1;33m)\u001b[0m\u001b[1;33m:\u001b[0m\u001b[1;33m\u001b[0m\u001b[1;33m\u001b[0m\u001b[0m\n",
      "\u001b[1;31mOperationalError\u001b[0m: (sqlite3.OperationalError) near \"(\": syntax error\n[SQL: \nINSERT INTO delicious_stocks (\n    (\n        'EAT',\n        'CAKE'\n    )\n    VALUES (\n        ?,\n        ?\n    )\n)\n\n]\n[parameters: ((10, 30), (20, 40))]\n(Background on this error at: https://sqlalche.me/e/14/e3q8)"
     ]
    }
   ],
   "source": [
    "# Second --> execute the SQL statement using the: engine\n",
    "engine4.execute(\n",
    "    insert_data,\n",
    "    (\n",
    "        (10,30),\n",
    "        (20,40)\n",
    "    )\n",
    ")"
   ]
  },
  {
   "cell_type": "markdown",
   "id": "8bc52d8c-9702-4135-b9a7-19e6716e8d70",
   "metadata": {},
   "source": [
    "___"
   ]
  },
  {
   "cell_type": "code",
   "execution_count": null,
   "id": "ef088e35-9d70-4ea1-a2d3-eab1a73e24ff",
   "metadata": {},
   "outputs": [],
   "source": [
    "# Read data\n"
   ]
  },
  {
   "cell_type": "code",
   "execution_count": 1,
   "id": "3afdfde0-8e8f-4dbd-988a-a3ff1eb23b71",
   "metadata": {},
   "outputs": [],
   "source": [
    "read_all_data = \"\"\"\n",
    "\n",
    "SELECT`\n",
    "\n",
    "'EAT', 'CAKE'\n",
    "\n",
    "FROM\n",
    "\n",
    "delicious_stocks\n",
    "\n",
    "\"\"\""
   ]
  },
  {
   "cell_type": "code",
   "execution_count": 2,
   "id": "63567961-ccae-4cbf-a936-7da2e4b5b230",
   "metadata": {},
   "outputs": [
    {
     "ename": "NameError",
     "evalue": "name 'engine4' is not defined",
     "output_type": "error",
     "traceback": [
      "\u001b[1;31m---------------------------------------------------------------------------\u001b[0m",
      "\u001b[1;31mNameError\u001b[0m                                 Traceback (most recent call last)",
      "\u001b[1;32m~\\AppData\\Local\\Temp\\ipykernel_16544\\2741581424.py\u001b[0m in \u001b[0;36m<module>\u001b[1;34m\u001b[0m\n\u001b[1;32m----> 1\u001b[1;33m engine4.execute(\n\u001b[0m\u001b[0;32m      2\u001b[0m     \u001b[0mread_all_data\u001b[0m\u001b[1;33m\u001b[0m\u001b[1;33m\u001b[0m\u001b[0m\n\u001b[0;32m      3\u001b[0m )\n",
      "\u001b[1;31mNameError\u001b[0m: name 'engine4' is not defined"
     ]
    }
   ],
   "source": [
    "engine4.execute(\n",
    "    read_all_data\n",
    ")"
   ]
  },
  {
   "cell_type": "code",
   "execution_count": null,
   "id": "10c7ac33-cacc-4bda-bd94-7f9e3a791822",
   "metadata": {},
   "outputs": [],
   "source": []
  }
 ],
 "metadata": {
  "kernelspec": {
   "display_name": "Python (bingo)",
   "language": "python",
   "name": "bingo"
  },
  "language_info": {
   "codemirror_mode": {
    "name": "ipython",
    "version": 3
   },
   "file_extension": ".py",
   "mimetype": "text/x-python",
   "name": "python",
   "nbconvert_exporter": "python",
   "pygments_lexer": "ipython3",
   "version": "3.9.13"
  }
 },
 "nbformat": 4,
 "nbformat_minor": 5
}
