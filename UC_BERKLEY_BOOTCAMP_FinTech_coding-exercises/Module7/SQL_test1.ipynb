{
 "cells": [
  {
   "cell_type": "code",
   "execution_count": 1,
   "id": "fe83caa3-79c4-4399-a60f-4cf29b7c4e84",
   "metadata": {},
   "outputs": [],
   "source": [
    "import pandas as pd\n",
    "import sqlalchemy as sql\n",
    "import numpy as np"
   ]
  },
  {
   "cell_type": "code",
   "execution_count": 2,
   "id": "9f5dd619-5f54-4200-b3b9-d2ac9855f5f2",
   "metadata": {},
   "outputs": [],
   "source": [
    "# Create a temporary sqlite database\n",
    "data_connection_string = 'sqlite:///'"
   ]
  },
  {
   "cell_type": "code",
   "execution_count": 3,
   "id": "442a5ba4-f56d-450c-9d33-8fd162370772",
   "metadata": {},
   "outputs": [
    {
     "data": {
      "text/plain": [
       "Engine(sqlite:///)"
      ]
     },
     "execution_count": 3,
     "metadata": {},
     "output_type": "execute_result"
    }
   ],
   "source": [
    "# Create a database engine w/ \"display the SQL code back in the notebook\": echo = True.\n",
    "engine = sql.create_engine(\n",
    "    data_connection_string\n",
    ")\n",
    "\n",
    "engine"
   ]
  },
  {
   "cell_type": "markdown",
   "id": "4fb6b8b7-566a-45ee-99cb-0626cef8a3ef",
   "metadata": {},
   "source": [
    "# View and create table"
   ]
  },
  {
   "cell_type": "code",
   "execution_count": 4,
   "id": "c7b5c749-d8d2-4396-a794-f384e57d0344",
   "metadata": {},
   "outputs": [
    {
     "name": "stderr",
     "output_type": "stream",
     "text": [
      "C:\\Users\\admin\\AppData\\Local\\Temp\\ipykernel_18976\\3218451222.py:2: SADeprecationWarning: The Engine.table_names() method is deprecated and will be removed in a future release.  Please refer to Inspector.get_table_names(). (deprecated since: 1.4)\n",
      "  engine.table_names()\n"
     ]
    },
    {
     "data": {
      "text/plain": [
       "[]"
      ]
     },
     "execution_count": 4,
     "metadata": {},
     "output_type": "execute_result"
    }
   ],
   "source": [
    "# The result is an empty \"temporary SQLite database\", and this is true since it was just create from code above.\n",
    "engine.table_names()"
   ]
  },
  {
   "cell_type": "markdown",
   "id": "2419e646-0958-487e-b0d1-aefe33ae56f7",
   "metadata": {},
   "source": [
    "#### Use Pandas DataFrame to create a toble to later store in the SQLite database"
   ]
  },
  {
   "cell_type": "code",
   "execution_count": 5,
   "id": "cd7f0c54-7282-4835-87e3-6a1f93f15bac",
   "metadata": {},
   "outputs": [
    {
     "data": {
      "text/html": [
       "<div>\n",
       "<style scoped>\n",
       "    .dataframe tbody tr th:only-of-type {\n",
       "        vertical-align: middle;\n",
       "    }\n",
       "\n",
       "    .dataframe tbody tr th {\n",
       "        vertical-align: top;\n",
       "    }\n",
       "\n",
       "    .dataframe thead th {\n",
       "        text-align: right;\n",
       "    }\n",
       "</style>\n",
       "<table border=\"1\" class=\"dataframe\">\n",
       "  <thead>\n",
       "    <tr style=\"text-align: right;\">\n",
       "      <th></th>\n",
       "      <th>HSWF</th>\n",
       "      <th>KLTE</th>\n",
       "      <th>BJSE</th>\n",
       "    </tr>\n",
       "  </thead>\n",
       "  <tbody>\n",
       "    <tr>\n",
       "      <th>0</th>\n",
       "      <td>80</td>\n",
       "      <td>338</td>\n",
       "      <td>80</td>\n",
       "    </tr>\n",
       "    <tr>\n",
       "      <th>1</th>\n",
       "      <td>68</td>\n",
       "      <td>239</td>\n",
       "      <td>10</td>\n",
       "    </tr>\n",
       "    <tr>\n",
       "      <th>2</th>\n",
       "      <td>46</td>\n",
       "      <td>205</td>\n",
       "      <td>32</td>\n",
       "    </tr>\n",
       "    <tr>\n",
       "      <th>3</th>\n",
       "      <td>24</td>\n",
       "      <td>847</td>\n",
       "      <td>82</td>\n",
       "    </tr>\n",
       "    <tr>\n",
       "      <th>4</th>\n",
       "      <td>95</td>\n",
       "      <td>232</td>\n",
       "      <td>47</td>\n",
       "    </tr>\n",
       "    <tr>\n",
       "      <th>5</th>\n",
       "      <td>44</td>\n",
       "      <td>499</td>\n",
       "      <td>18</td>\n",
       "    </tr>\n",
       "    <tr>\n",
       "      <th>6</th>\n",
       "      <td>62</td>\n",
       "      <td>306</td>\n",
       "      <td>50</td>\n",
       "    </tr>\n",
       "    <tr>\n",
       "      <th>7</th>\n",
       "      <td>11</td>\n",
       "      <td>484</td>\n",
       "      <td>13</td>\n",
       "    </tr>\n",
       "    <tr>\n",
       "      <th>8</th>\n",
       "      <td>49</td>\n",
       "      <td>385</td>\n",
       "      <td>58</td>\n",
       "    </tr>\n",
       "    <tr>\n",
       "      <th>9</th>\n",
       "      <td>92</td>\n",
       "      <td>394</td>\n",
       "      <td>76</td>\n",
       "    </tr>\n",
       "  </tbody>\n",
       "</table>\n",
       "</div>"
      ],
      "text/plain": [
       "   HSWF  KLTE  BJSE\n",
       "0    80   338    80\n",
       "1    68   239    10\n",
       "2    46   205    32\n",
       "3    24   847    82\n",
       "4    95   232    47\n",
       "5    44   499    18\n",
       "6    62   306    50\n",
       "7    11   484    13\n",
       "8    49   385    58\n",
       "9    92   394    76"
      ]
     },
     "execution_count": 5,
     "metadata": {},
     "output_type": "execute_result"
    }
   ],
   "source": [
    "stocks_df = pd.DataFrame(\n",
    "\n",
    " {\n",
    "        'HSWF':\n",
    "            np.random.randint(\n",
    "                10,\n",
    "                100,\n",
    "                10\n",
    "            )\n",
    "    \n",
    ",\n",
    "\n",
    "        'KLTE':\n",
    "            np.random.randint(\n",
    "                100,\n",
    "                1000,\n",
    "                10\n",
    "            )\n",
    "    \n",
    ",\n",
    "\n",
    "        'BJSE':\n",
    "            np.random.randint(\n",
    "                10,\n",
    "                100,\n",
    "                10\n",
    "            )\n",
    "    }\n",
    ")\n",
    "\n",
    "stocks_df"
   ]
  },
  {
   "cell_type": "markdown",
   "id": "abbf769c-897c-47d6-bf54-867000ba4698",
   "metadata": {},
   "source": [
    "# As above, the Pandas dataframe will be used as the table for the SQLite database so that the database can be query for its contents in this exercise.\n",
    "# It's time to create a table of data in the SQLite.\n",
    "> `to_sql ( )` w/ parameters: **'dataframe_name\\', database_engine**"
   ]
  },
  {
   "cell_type": "code",
   "execution_count": 6,
   "id": "49113ac3-1ac4-4109-a0b0-1bff95cd6a28",
   "metadata": {},
   "outputs": [
    {
     "data": {
      "text/plain": [
       "10"
      ]
     },
     "execution_count": 6,
     "metadata": {},
     "output_type": "execute_result"
    }
   ],
   "source": [
    "stocks_df.to_sql(\n",
    "    'stocks_df',\n",
    "    engine\n",
    ")"
   ]
  },
  {
   "cell_type": "markdown",
   "id": "b8f3eebb-d26d-4b08-b2cf-91a70a37360f",
   "metadata": {},
   "source": [
    "#### Confirm that the table was written into the SQLite database"
   ]
  },
  {
   "cell_type": "code",
   "execution_count": 7,
   "id": "009b0ecd-a3ea-4acb-93c6-634ade0fc555",
   "metadata": {},
   "outputs": [
    {
     "name": "stderr",
     "output_type": "stream",
     "text": [
      "C:\\Users\\admin\\AppData\\Local\\Temp\\ipykernel_18976\\4162273999.py:1: SADeprecationWarning: The Engine.table_names() method is deprecated and will be removed in a future release.  Please refer to Inspector.get_table_names(). (deprecated since: 1.4)\n",
      "  engine.table_names()\n"
     ]
    },
    {
     "data": {
      "text/plain": [
       "['stocks_df']"
      ]
     },
     "execution_count": 7,
     "metadata": {},
     "output_type": "execute_result"
    }
   ],
   "source": [
    "engine.table_names()"
   ]
  },
  {
   "cell_type": "markdown",
   "id": "2c60550c-e314-4e23-a9bd-13ab8b277f16",
   "metadata": {},
   "source": [
    "# Create another instance of SQLite database."
   ]
  },
  {
   "cell_type": "code",
   "execution_count": 8,
   "id": "5e795b77-1639-4ae6-af85-92b0a5c3a799",
   "metadata": {},
   "outputs": [
    {
     "data": {
      "text/plain": [
       "Engine(sqlite:///mytestSQLite_database.db)"
      ]
     },
     "execution_count": 8,
     "metadata": {},
     "output_type": "execute_result"
    }
   ],
   "source": [
    "# Create another SQLite instance\n",
    "data_connection_string = 'sqlite:///mytestSQLite_database.db'\n",
    "\n",
    "# Create an engine.\n",
    "engine = sql.create_engine(\n",
    "    data_connection_string\n",
    ")\n",
    "\n",
    "# Confirm database engine exists.\n",
    "engine"
   ]
  },
  {
   "cell_type": "code",
   "execution_count": 9,
   "id": "a51f284b-0976-4555-acd6-e51180f4b5ec",
   "metadata": {},
   "outputs": [
    {
     "data": {
      "text/html": [
       "<div>\n",
       "<style scoped>\n",
       "    .dataframe tbody tr th:only-of-type {\n",
       "        vertical-align: middle;\n",
       "    }\n",
       "\n",
       "    .dataframe tbody tr th {\n",
       "        vertical-align: top;\n",
       "    }\n",
       "\n",
       "    .dataframe thead th {\n",
       "        text-align: right;\n",
       "    }\n",
       "</style>\n",
       "<table border=\"1\" class=\"dataframe\">\n",
       "  <thead>\n",
       "    <tr style=\"text-align: right;\">\n",
       "      <th></th>\n",
       "      <th>UAVN</th>\n",
       "      <th>OPKS</th>\n",
       "      <th>WTUY</th>\n",
       "    </tr>\n",
       "  </thead>\n",
       "  <tbody>\n",
       "    <tr>\n",
       "      <th>0</th>\n",
       "      <td>26</td>\n",
       "      <td>89</td>\n",
       "      <td>46</td>\n",
       "    </tr>\n",
       "    <tr>\n",
       "      <th>1</th>\n",
       "      <td>21</td>\n",
       "      <td>14</td>\n",
       "      <td>22</td>\n",
       "    </tr>\n",
       "    <tr>\n",
       "      <th>2</th>\n",
       "      <td>23</td>\n",
       "      <td>18</td>\n",
       "      <td>62</td>\n",
       "    </tr>\n",
       "    <tr>\n",
       "      <th>3</th>\n",
       "      <td>52</td>\n",
       "      <td>84</td>\n",
       "      <td>60</td>\n",
       "    </tr>\n",
       "    <tr>\n",
       "      <th>4</th>\n",
       "      <td>44</td>\n",
       "      <td>11</td>\n",
       "      <td>14</td>\n",
       "    </tr>\n",
       "    <tr>\n",
       "      <th>5</th>\n",
       "      <td>65</td>\n",
       "      <td>74</td>\n",
       "      <td>23</td>\n",
       "    </tr>\n",
       "    <tr>\n",
       "      <th>6</th>\n",
       "      <td>84</td>\n",
       "      <td>56</td>\n",
       "      <td>45</td>\n",
       "    </tr>\n",
       "    <tr>\n",
       "      <th>7</th>\n",
       "      <td>46</td>\n",
       "      <td>63</td>\n",
       "      <td>11</td>\n",
       "    </tr>\n",
       "    <tr>\n",
       "      <th>8</th>\n",
       "      <td>54</td>\n",
       "      <td>24</td>\n",
       "      <td>13</td>\n",
       "    </tr>\n",
       "    <tr>\n",
       "      <th>9</th>\n",
       "      <td>84</td>\n",
       "      <td>16</td>\n",
       "      <td>11</td>\n",
       "    </tr>\n",
       "  </tbody>\n",
       "</table>\n",
       "</div>"
      ],
      "text/plain": [
       "   UAVN  OPKS  WTUY\n",
       "0    26    89    46\n",
       "1    21    14    22\n",
       "2    23    18    62\n",
       "3    52    84    60\n",
       "4    44    11    14\n",
       "5    65    74    23\n",
       "6    84    56    45\n",
       "7    46    63    11\n",
       "8    54    24    13\n",
       "9    84    16    11"
      ]
     },
     "execution_count": 9,
     "metadata": {},
     "output_type": "execute_result"
    }
   ],
   "source": [
    "stocks_df = pd.DataFrame(\n",
    "    {\n",
    "        'UAVN': np.random.randint(10,100,10),\n",
    "        'OPKS': np.random.randint(10,100,10),\n",
    "        'WTUY': np.random.randint(10,100,10)\n",
    "    }\n",
    ")\n",
    "stocks_df"
   ]
  },
  {
   "cell_type": "code",
   "execution_count": 10,
   "id": "fb5d7d95-defc-4cbd-9cdc-845d9aead949",
   "metadata": {},
   "outputs": [
    {
     "data": {
      "text/plain": [
       "10"
      ]
     },
     "execution_count": 10,
     "metadata": {},
     "output_type": "execute_result"
    }
   ],
   "source": [
    "stocks_df.to_sql(\n",
    "    'stocks_df',\n",
    "    engine\n",
    ")"
   ]
  },
  {
   "cell_type": "markdown",
   "id": "096980c3-333e-40e8-b815-c5b19c9f8845",
   "metadata": {},
   "source": [
    "#### Confirm the table was written in this other SQLite database instance."
   ]
  },
  {
   "cell_type": "code",
   "execution_count": 11,
   "id": "96cf6d8e-c6b9-481b-b6be-266b3ddbe540",
   "metadata": {},
   "outputs": [
    {
     "name": "stderr",
     "output_type": "stream",
     "text": [
      "C:\\Users\\admin\\AppData\\Local\\Temp\\ipykernel_18976\\4150302383.py:2: SADeprecationWarning: The Engine.table_names() method is deprecated and will be removed in a future release.  Please refer to Inspector.get_table_names(). (deprecated since: 1.4)\n",
      "  engine.table_names()\n"
     ]
    },
    {
     "data": {
      "text/plain": [
       "['stocks_df']"
      ]
     },
     "execution_count": 11,
     "metadata": {},
     "output_type": "execute_result"
    }
   ],
   "source": [
    "# Confirm table.\n",
    "engine.table_names()"
   ]
  },
  {
   "cell_type": "markdown",
   "id": "2625054a-44e8-468f-afc9-6f77b25fb25c",
   "metadata": {},
   "source": [
    "# Read a Table into a DataFrame like Pandas\n",
    ">`pd.read_sql_table ( )` w/ parameters: **\"table_name\\\", con =** connection_engine"
   ]
  },
  {
   "cell_type": "code",
   "execution_count": 12,
   "id": "3d603ab9-d470-4929-8aa5-3a4817dea03d",
   "metadata": {},
   "outputs": [
    {
     "data": {
      "text/html": [
       "<div>\n",
       "<style scoped>\n",
       "    .dataframe tbody tr th:only-of-type {\n",
       "        vertical-align: middle;\n",
       "    }\n",
       "\n",
       "    .dataframe tbody tr th {\n",
       "        vertical-align: top;\n",
       "    }\n",
       "\n",
       "    .dataframe thead th {\n",
       "        text-align: right;\n",
       "    }\n",
       "</style>\n",
       "<table border=\"1\" class=\"dataframe\">\n",
       "  <thead>\n",
       "    <tr style=\"text-align: right;\">\n",
       "      <th></th>\n",
       "      <th>index</th>\n",
       "      <th>UAVN</th>\n",
       "      <th>OPKS</th>\n",
       "      <th>WTUY</th>\n",
       "    </tr>\n",
       "  </thead>\n",
       "  <tbody>\n",
       "    <tr>\n",
       "      <th>0</th>\n",
       "      <td>0</td>\n",
       "      <td>26</td>\n",
       "      <td>89</td>\n",
       "      <td>46</td>\n",
       "    </tr>\n",
       "    <tr>\n",
       "      <th>1</th>\n",
       "      <td>1</td>\n",
       "      <td>21</td>\n",
       "      <td>14</td>\n",
       "      <td>22</td>\n",
       "    </tr>\n",
       "    <tr>\n",
       "      <th>2</th>\n",
       "      <td>2</td>\n",
       "      <td>23</td>\n",
       "      <td>18</td>\n",
       "      <td>62</td>\n",
       "    </tr>\n",
       "    <tr>\n",
       "      <th>3</th>\n",
       "      <td>3</td>\n",
       "      <td>52</td>\n",
       "      <td>84</td>\n",
       "      <td>60</td>\n",
       "    </tr>\n",
       "    <tr>\n",
       "      <th>4</th>\n",
       "      <td>4</td>\n",
       "      <td>44</td>\n",
       "      <td>11</td>\n",
       "      <td>14</td>\n",
       "    </tr>\n",
       "    <tr>\n",
       "      <th>5</th>\n",
       "      <td>5</td>\n",
       "      <td>65</td>\n",
       "      <td>74</td>\n",
       "      <td>23</td>\n",
       "    </tr>\n",
       "    <tr>\n",
       "      <th>6</th>\n",
       "      <td>6</td>\n",
       "      <td>84</td>\n",
       "      <td>56</td>\n",
       "      <td>45</td>\n",
       "    </tr>\n",
       "    <tr>\n",
       "      <th>7</th>\n",
       "      <td>7</td>\n",
       "      <td>46</td>\n",
       "      <td>63</td>\n",
       "      <td>11</td>\n",
       "    </tr>\n",
       "    <tr>\n",
       "      <th>8</th>\n",
       "      <td>8</td>\n",
       "      <td>54</td>\n",
       "      <td>24</td>\n",
       "      <td>13</td>\n",
       "    </tr>\n",
       "    <tr>\n",
       "      <th>9</th>\n",
       "      <td>9</td>\n",
       "      <td>84</td>\n",
       "      <td>16</td>\n",
       "      <td>11</td>\n",
       "    </tr>\n",
       "  </tbody>\n",
       "</table>\n",
       "</div>"
      ],
      "text/plain": [
       "   index  UAVN  OPKS  WTUY\n",
       "0      0    26    89    46\n",
       "1      1    21    14    22\n",
       "2      2    23    18    62\n",
       "3      3    52    84    60\n",
       "4      4    44    11    14\n",
       "5      5    65    74    23\n",
       "6      6    84    56    45\n",
       "7      7    46    63    11\n",
       "8      8    54    24    13\n",
       "9      9    84    16    11"
      ]
     },
     "execution_count": 12,
     "metadata": {},
     "output_type": "execute_result"
    }
   ],
   "source": [
    "sql_stocks_df = pd.read_sql_table(\n",
    "    'stocks_df',\n",
    "    con = engine\n",
    ")\n",
    "\n",
    "# Now, a new dataframe comes to.\n",
    "sql_stocks_df"
   ]
  },
  {
   "cell_type": "markdown",
   "id": "e4c23275-eca7-4f1e-906d-fdc4366cec26",
   "metadata": {},
   "source": [
    "#### Review the resulting table.\n",
    ">`Cleanup` data"
   ]
  },
  {
   "cell_type": "code",
   "execution_count": 15,
   "id": "07262286-10f4-4dc2-bcc5-5c1349373c37",
   "metadata": {},
   "outputs": [
    {
     "data": {
      "text/html": [
       "<div>\n",
       "<style scoped>\n",
       "    .dataframe tbody tr th:only-of-type {\n",
       "        vertical-align: middle;\n",
       "    }\n",
       "\n",
       "    .dataframe tbody tr th {\n",
       "        vertical-align: top;\n",
       "    }\n",
       "\n",
       "    .dataframe thead th {\n",
       "        text-align: right;\n",
       "    }\n",
       "</style>\n",
       "<table border=\"1\" class=\"dataframe\">\n",
       "  <thead>\n",
       "    <tr style=\"text-align: right;\">\n",
       "      <th></th>\n",
       "      <th>UAVN</th>\n",
       "      <th>OPKS</th>\n",
       "      <th>WTUY</th>\n",
       "    </tr>\n",
       "  </thead>\n",
       "  <tbody>\n",
       "    <tr>\n",
       "      <th>0</th>\n",
       "      <td>26</td>\n",
       "      <td>89</td>\n",
       "      <td>46</td>\n",
       "    </tr>\n",
       "    <tr>\n",
       "      <th>1</th>\n",
       "      <td>21</td>\n",
       "      <td>14</td>\n",
       "      <td>22</td>\n",
       "    </tr>\n",
       "    <tr>\n",
       "      <th>2</th>\n",
       "      <td>23</td>\n",
       "      <td>18</td>\n",
       "      <td>62</td>\n",
       "    </tr>\n",
       "    <tr>\n",
       "      <th>3</th>\n",
       "      <td>52</td>\n",
       "      <td>84</td>\n",
       "      <td>60</td>\n",
       "    </tr>\n",
       "    <tr>\n",
       "      <th>4</th>\n",
       "      <td>44</td>\n",
       "      <td>11</td>\n",
       "      <td>14</td>\n",
       "    </tr>\n",
       "  </tbody>\n",
       "</table>\n",
       "</div>"
      ],
      "text/plain": [
       "   UAVN  OPKS  WTUY\n",
       "0    26    89    46\n",
       "1    21    14    22\n",
       "2    23    18    62\n",
       "3    52    84    60\n",
       "4    44    11    14"
      ]
     },
     "metadata": {},
     "output_type": "display_data"
    },
    {
     "data": {
      "text/html": [
       "<div>\n",
       "<style scoped>\n",
       "    .dataframe tbody tr th:only-of-type {\n",
       "        vertical-align: middle;\n",
       "    }\n",
       "\n",
       "    .dataframe tbody tr th {\n",
       "        vertical-align: top;\n",
       "    }\n",
       "\n",
       "    .dataframe thead th {\n",
       "        text-align: right;\n",
       "    }\n",
       "</style>\n",
       "<table border=\"1\" class=\"dataframe\">\n",
       "  <thead>\n",
       "    <tr style=\"text-align: right;\">\n",
       "      <th></th>\n",
       "      <th>UAVN</th>\n",
       "      <th>OPKS</th>\n",
       "      <th>WTUY</th>\n",
       "    </tr>\n",
       "  </thead>\n",
       "  <tbody>\n",
       "    <tr>\n",
       "      <th>5</th>\n",
       "      <td>65</td>\n",
       "      <td>74</td>\n",
       "      <td>23</td>\n",
       "    </tr>\n",
       "    <tr>\n",
       "      <th>6</th>\n",
       "      <td>84</td>\n",
       "      <td>56</td>\n",
       "      <td>45</td>\n",
       "    </tr>\n",
       "    <tr>\n",
       "      <th>7</th>\n",
       "      <td>46</td>\n",
       "      <td>63</td>\n",
       "      <td>11</td>\n",
       "    </tr>\n",
       "    <tr>\n",
       "      <th>8</th>\n",
       "      <td>54</td>\n",
       "      <td>24</td>\n",
       "      <td>13</td>\n",
       "    </tr>\n",
       "    <tr>\n",
       "      <th>9</th>\n",
       "      <td>84</td>\n",
       "      <td>16</td>\n",
       "      <td>11</td>\n",
       "    </tr>\n",
       "  </tbody>\n",
       "</table>\n",
       "</div>"
      ],
      "text/plain": [
       "   UAVN  OPKS  WTUY\n",
       "5    65    74    23\n",
       "6    84    56    45\n",
       "7    46    63    11\n",
       "8    54    24    13\n",
       "9    84    16    11"
      ]
     },
     "metadata": {},
     "output_type": "display_data"
    }
   ],
   "source": [
    "# Observation: the index was stored in the SQLite since it recieved on instruction to ignore it, and it will ignore any action since the table in question has already existed in the database.\n",
    "# Solution is to bypass database non-cooperation, write dataframe once more but this time with addional parameters: `dataframe.to_sql ( )`, w/ parameters: `index = False`, & 'if_exists = \"replace\"'\n",
    "\n",
    "# Replace the existing table 'stocks_df'\n",
    "stocks_df.to_sql(\n",
    "    'stocks_df',\n",
    "    engine,\n",
    "    index= False,\n",
    "    if_exists= 'replace'\n",
    ")\n",
    "\n",
    "# Read the table into a DataFrame\n",
    "sql_stocks_df2 = pd.read_sql_table(\n",
    "    'stocks_df',\n",
    "    con= engine\n",
    ")\n",
    "\n",
    "# Display dataframe head() & tail()\n",
    "display(sql_stocks_df2.head())\n",
    "display(sql_stocks_df2.tail())\n",
    "\n",
    "\n",
    "\n"
   ]
  },
  {
   "cell_type": "markdown",
   "id": "da7ce337-7550-4104-ab3a-db63d8a14fbe",
   "metadata": {},
   "source": [
    "# Skill Drill --> create another instance of SQLite database."
   ]
  },
  {
   "cell_type": "code",
   "execution_count": 16,
   "id": "4cfd54e2-4ff4-4260-9dcb-5633c0e27b70",
   "metadata": {},
   "outputs": [
    {
     "data": {
      "text/plain": [
       "Engine(sqlite:///)"
      ]
     },
     "execution_count": 16,
     "metadata": {},
     "output_type": "execute_result"
    }
   ],
   "source": [
    "# Create an SQLite database instance.\n",
    "dat_string = 'sqlite:///'\n",
    "\n",
    "# Create a database engine.\n",
    "engine3 = sql.create_engine(\n",
    "    dat_string\n",
    ")\n",
    "\n",
    "# Confirm database engine exits.\n",
    "engine3"
   ]
  },
  {
   "cell_type": "code",
   "execution_count": 17,
   "id": "eb50c099-9fb0-40a2-af55-859a99b82daf",
   "metadata": {},
   "outputs": [
    {
     "data": {
      "text/html": [
       "<div>\n",
       "<style scoped>\n",
       "    .dataframe tbody tr th:only-of-type {\n",
       "        vertical-align: middle;\n",
       "    }\n",
       "\n",
       "    .dataframe tbody tr th {\n",
       "        vertical-align: top;\n",
       "    }\n",
       "\n",
       "    .dataframe thead th {\n",
       "        text-align: right;\n",
       "    }\n",
       "</style>\n",
       "<table border=\"1\" class=\"dataframe\">\n",
       "  <thead>\n",
       "    <tr style=\"text-align: right;\">\n",
       "      <th></th>\n",
       "      <th>OTEJ</th>\n",
       "      <th>JDKD</th>\n",
       "      <th>ETOP</th>\n",
       "      <th>SEEO</th>\n",
       "      <th>IEDP</th>\n",
       "      <th>GJSE</th>\n",
       "    </tr>\n",
       "  </thead>\n",
       "  <tbody>\n",
       "    <tr>\n",
       "      <th>0</th>\n",
       "      <td>18</td>\n",
       "      <td>42</td>\n",
       "      <td>93</td>\n",
       "      <td>56</td>\n",
       "      <td>46</td>\n",
       "      <td>42</td>\n",
       "    </tr>\n",
       "    <tr>\n",
       "      <th>1</th>\n",
       "      <td>97</td>\n",
       "      <td>35</td>\n",
       "      <td>99</td>\n",
       "      <td>64</td>\n",
       "      <td>77</td>\n",
       "      <td>82</td>\n",
       "    </tr>\n",
       "    <tr>\n",
       "      <th>2</th>\n",
       "      <td>85</td>\n",
       "      <td>71</td>\n",
       "      <td>26</td>\n",
       "      <td>75</td>\n",
       "      <td>56</td>\n",
       "      <td>77</td>\n",
       "    </tr>\n",
       "    <tr>\n",
       "      <th>3</th>\n",
       "      <td>61</td>\n",
       "      <td>21</td>\n",
       "      <td>73</td>\n",
       "      <td>43</td>\n",
       "      <td>40</td>\n",
       "      <td>87</td>\n",
       "    </tr>\n",
       "    <tr>\n",
       "      <th>4</th>\n",
       "      <td>47</td>\n",
       "      <td>99</td>\n",
       "      <td>29</td>\n",
       "      <td>60</td>\n",
       "      <td>70</td>\n",
       "      <td>65</td>\n",
       "    </tr>\n",
       "    <tr>\n",
       "      <th>5</th>\n",
       "      <td>80</td>\n",
       "      <td>22</td>\n",
       "      <td>17</td>\n",
       "      <td>54</td>\n",
       "      <td>31</td>\n",
       "      <td>31</td>\n",
       "    </tr>\n",
       "    <tr>\n",
       "      <th>6</th>\n",
       "      <td>40</td>\n",
       "      <td>15</td>\n",
       "      <td>47</td>\n",
       "      <td>19</td>\n",
       "      <td>92</td>\n",
       "      <td>28</td>\n",
       "    </tr>\n",
       "    <tr>\n",
       "      <th>7</th>\n",
       "      <td>81</td>\n",
       "      <td>84</td>\n",
       "      <td>16</td>\n",
       "      <td>68</td>\n",
       "      <td>24</td>\n",
       "      <td>67</td>\n",
       "    </tr>\n",
       "    <tr>\n",
       "      <th>8</th>\n",
       "      <td>57</td>\n",
       "      <td>31</td>\n",
       "      <td>41</td>\n",
       "      <td>96</td>\n",
       "      <td>92</td>\n",
       "      <td>78</td>\n",
       "    </tr>\n",
       "    <tr>\n",
       "      <th>9</th>\n",
       "      <td>53</td>\n",
       "      <td>71</td>\n",
       "      <td>96</td>\n",
       "      <td>20</td>\n",
       "      <td>70</td>\n",
       "      <td>18</td>\n",
       "    </tr>\n",
       "  </tbody>\n",
       "</table>\n",
       "</div>"
      ],
      "text/plain": [
       "   OTEJ  JDKD  ETOP  SEEO  IEDP  GJSE\n",
       "0    18    42    93    56    46    42\n",
       "1    97    35    99    64    77    82\n",
       "2    85    71    26    75    56    77\n",
       "3    61    21    73    43    40    87\n",
       "4    47    99    29    60    70    65\n",
       "5    80    22    17    54    31    31\n",
       "6    40    15    47    19    92    28\n",
       "7    81    84    16    68    24    67\n",
       "8    57    31    41    96    92    78\n",
       "9    53    71    96    20    70    18"
      ]
     },
     "execution_count": 17,
     "metadata": {},
     "output_type": "execute_result"
    }
   ],
   "source": [
    "# Make a DataFrame to write tables into the new instance of SQLite database.\n",
    "\n",
    "thumb_up_stocks = pd.DataFrame(\n",
    "    {\n",
    "        'OTEJ': np.random.randint(\n",
    "            10,\n",
    "            100,\n",
    "            10\n",
    "            )\n",
    "        ,\n",
    "        'JDKD': np.random.randint(\n",
    "            10,\n",
    "            100,\n",
    "            10\n",
    "            )\n",
    "        ,\n",
    "        'ETOP': np.random.randint(\n",
    "            10,\n",
    "            100,\n",
    "            10\n",
    "            )\n",
    "        ,\n",
    "        'SEEO': np.random.randint(\n",
    "            10,\n",
    "            100,\n",
    "            10\n",
    "            )\n",
    "        ,\n",
    "        'IEDP': np.random.randint(\n",
    "            10,\n",
    "            100,\n",
    "            10\n",
    "            )\n",
    "        ,\n",
    "        'GJSE': np.random.randint(\n",
    "            10,\n",
    "            100,\n",
    "            10\n",
    "            )\n",
    "    }\n",
    ")\n",
    "\n",
    "thumb_up_stocks"
   ]
  },
  {
   "cell_type": "code",
   "execution_count": 19,
   "id": "de92df00-8ed3-4a12-9a1c-dcab8ff0d5b9",
   "metadata": {},
   "outputs": [
    {
     "data": {
      "text/plain": [
       "10"
      ]
     },
     "execution_count": 19,
     "metadata": {},
     "output_type": "execute_result"
    }
   ],
   "source": [
    "# Write DataFrame into SQLite database.\n",
    "thumb_up_stocks.to_sql(\n",
    "    'thumb_up_stocks',\n",
    "    engine3,\n",
    "    index= False,\n",
    "    if_exists= 'replace'\n",
    ")"
   ]
  },
  {
   "cell_type": "code",
   "execution_count": 20,
   "id": "b7e92062-b416-40fc-97f8-8d4746366e9f",
   "metadata": {},
   "outputs": [
    {
     "data": {
      "text/html": [
       "<div>\n",
       "<style scoped>\n",
       "    .dataframe tbody tr th:only-of-type {\n",
       "        vertical-align: middle;\n",
       "    }\n",
       "\n",
       "    .dataframe tbody tr th {\n",
       "        vertical-align: top;\n",
       "    }\n",
       "\n",
       "    .dataframe thead th {\n",
       "        text-align: right;\n",
       "    }\n",
       "</style>\n",
       "<table border=\"1\" class=\"dataframe\">\n",
       "  <thead>\n",
       "    <tr style=\"text-align: right;\">\n",
       "      <th></th>\n",
       "      <th>OTEJ</th>\n",
       "      <th>JDKD</th>\n",
       "      <th>ETOP</th>\n",
       "      <th>SEEO</th>\n",
       "      <th>IEDP</th>\n",
       "      <th>GJSE</th>\n",
       "    </tr>\n",
       "  </thead>\n",
       "  <tbody>\n",
       "    <tr>\n",
       "      <th>0</th>\n",
       "      <td>18</td>\n",
       "      <td>42</td>\n",
       "      <td>93</td>\n",
       "      <td>56</td>\n",
       "      <td>46</td>\n",
       "      <td>42</td>\n",
       "    </tr>\n",
       "    <tr>\n",
       "      <th>1</th>\n",
       "      <td>97</td>\n",
       "      <td>35</td>\n",
       "      <td>99</td>\n",
       "      <td>64</td>\n",
       "      <td>77</td>\n",
       "      <td>82</td>\n",
       "    </tr>\n",
       "    <tr>\n",
       "      <th>2</th>\n",
       "      <td>85</td>\n",
       "      <td>71</td>\n",
       "      <td>26</td>\n",
       "      <td>75</td>\n",
       "      <td>56</td>\n",
       "      <td>77</td>\n",
       "    </tr>\n",
       "    <tr>\n",
       "      <th>3</th>\n",
       "      <td>61</td>\n",
       "      <td>21</td>\n",
       "      <td>73</td>\n",
       "      <td>43</td>\n",
       "      <td>40</td>\n",
       "      <td>87</td>\n",
       "    </tr>\n",
       "    <tr>\n",
       "      <th>4</th>\n",
       "      <td>47</td>\n",
       "      <td>99</td>\n",
       "      <td>29</td>\n",
       "      <td>60</td>\n",
       "      <td>70</td>\n",
       "      <td>65</td>\n",
       "    </tr>\n",
       "  </tbody>\n",
       "</table>\n",
       "</div>"
      ],
      "text/plain": [
       "   OTEJ  JDKD  ETOP  SEEO  IEDP  GJSE\n",
       "0    18    42    93    56    46    42\n",
       "1    97    35    99    64    77    82\n",
       "2    85    71    26    75    56    77\n",
       "3    61    21    73    43    40    87\n",
       "4    47    99    29    60    70    65"
      ]
     },
     "metadata": {},
     "output_type": "display_data"
    },
    {
     "data": {
      "text/html": [
       "<div>\n",
       "<style scoped>\n",
       "    .dataframe tbody tr th:only-of-type {\n",
       "        vertical-align: middle;\n",
       "    }\n",
       "\n",
       "    .dataframe tbody tr th {\n",
       "        vertical-align: top;\n",
       "    }\n",
       "\n",
       "    .dataframe thead th {\n",
       "        text-align: right;\n",
       "    }\n",
       "</style>\n",
       "<table border=\"1\" class=\"dataframe\">\n",
       "  <thead>\n",
       "    <tr style=\"text-align: right;\">\n",
       "      <th></th>\n",
       "      <th>OTEJ</th>\n",
       "      <th>JDKD</th>\n",
       "      <th>ETOP</th>\n",
       "      <th>SEEO</th>\n",
       "      <th>IEDP</th>\n",
       "      <th>GJSE</th>\n",
       "    </tr>\n",
       "  </thead>\n",
       "  <tbody>\n",
       "    <tr>\n",
       "      <th>5</th>\n",
       "      <td>80</td>\n",
       "      <td>22</td>\n",
       "      <td>17</td>\n",
       "      <td>54</td>\n",
       "      <td>31</td>\n",
       "      <td>31</td>\n",
       "    </tr>\n",
       "    <tr>\n",
       "      <th>6</th>\n",
       "      <td>40</td>\n",
       "      <td>15</td>\n",
       "      <td>47</td>\n",
       "      <td>19</td>\n",
       "      <td>92</td>\n",
       "      <td>28</td>\n",
       "    </tr>\n",
       "    <tr>\n",
       "      <th>7</th>\n",
       "      <td>81</td>\n",
       "      <td>84</td>\n",
       "      <td>16</td>\n",
       "      <td>68</td>\n",
       "      <td>24</td>\n",
       "      <td>67</td>\n",
       "    </tr>\n",
       "    <tr>\n",
       "      <th>8</th>\n",
       "      <td>57</td>\n",
       "      <td>31</td>\n",
       "      <td>41</td>\n",
       "      <td>96</td>\n",
       "      <td>92</td>\n",
       "      <td>78</td>\n",
       "    </tr>\n",
       "    <tr>\n",
       "      <th>9</th>\n",
       "      <td>53</td>\n",
       "      <td>71</td>\n",
       "      <td>96</td>\n",
       "      <td>20</td>\n",
       "      <td>70</td>\n",
       "      <td>18</td>\n",
       "    </tr>\n",
       "  </tbody>\n",
       "</table>\n",
       "</div>"
      ],
      "text/plain": [
       "   OTEJ  JDKD  ETOP  SEEO  IEDP  GJSE\n",
       "5    80    22    17    54    31    31\n",
       "6    40    15    47    19    92    28\n",
       "7    81    84    16    68    24    67\n",
       "8    57    31    41    96    92    78\n",
       "9    53    71    96    20    70    18"
      ]
     },
     "metadata": {},
     "output_type": "display_data"
    }
   ],
   "source": [
    "# Read a table from the SQLite database into s DataFrame.\n",
    "sql_thumb_up_stocks_df = pd.read_sql_table(\n",
    "    'thumb_up_stocks',\n",
    "    con= engine3,\n",
    ")\n",
    "\n",
    "# Display dataframe head & tail.\n",
    "display(sql_thumb_up_stocks_df.head())\n",
    "display(sql_thumb_up_stocks_df.tail())\n",
    "    "
   ]
  },
  {
   "cell_type": "markdown",
   "id": "dacbde3c-3bb6-42ca-8eb9-52de4ddc2632",
   "metadata": {
    "tags": []
   },
   "source": [
    "# This lesson involves Raw SQL"
   ]
  },
  {
   "cell_type": "code",
   "execution_count": null,
   "id": "1ebae42f-1c49-4c41-b14f-76c07a592c63",
   "metadata": {},
   "outputs": [],
   "source": []
  },
  {
   "cell_type": "code",
   "execution_count": null,
   "id": "aaefda14-f186-4b85-a339-b2797f8d85af",
   "metadata": {},
   "outputs": [],
   "source": []
  }
 ],
 "metadata": {
  "kernelspec": {
   "display_name": "Python (bingo)",
   "language": "python",
   "name": "bingo"
  },
  "language_info": {
   "codemirror_mode": {
    "name": "ipython",
    "version": 3
   },
   "file_extension": ".py",
   "mimetype": "text/x-python",
   "name": "python",
   "nbconvert_exporter": "python",
   "pygments_lexer": "ipython3",
   "version": "3.9.13"
  }
 },
 "nbformat": 4,
 "nbformat_minor": 5
}
