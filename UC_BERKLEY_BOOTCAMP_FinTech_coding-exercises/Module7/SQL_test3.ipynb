{
 "cells": [
  {
   "cell_type": "code",
   "execution_count": 1,
   "id": "553cbb80-0e73-4950-8d70-ec49af4a2c50",
   "metadata": {},
   "outputs": [],
   "source": [
    "import pandas as pd\n",
    "import sqlalchemy as sql"
   ]
  },
  {
   "cell_type": "code",
   "execution_count": 2,
   "id": "ffe59352-e4d1-475f-b168-4e459c577b8c",
   "metadata": {},
   "outputs": [],
   "source": [
    "database_connection_string = 'sqlite:///'"
   ]
  },
  {
   "cell_type": "code",
   "execution_count": 3,
   "id": "3aa1f7ad-6895-4a4a-a706-1cc116a9ce49",
   "metadata": {},
   "outputs": [
    {
     "data": {
      "text/plain": [
       "Engine(sqlite:///)"
      ]
     },
     "execution_count": 3,
     "metadata": {},
     "output_type": "execute_result"
    }
   ],
   "source": [
    "engine = sql.create_engine(\n",
    "    database_connection_string\n",
    ")\n",
    "\n",
    "engine"
   ]
  },
  {
   "cell_type": "code",
   "execution_count": 4,
   "id": "cd56e27d-04d6-4010-b78e-fe590dd0210c",
   "metadata": {},
   "outputs": [
    {
     "name": "stderr",
     "output_type": "stream",
     "text": [
      "C:\\Users\\admin\\AppData\\Local\\Temp\\ipykernel_14900\\4162273999.py:1: SADeprecationWarning: The Engine.table_names() method is deprecated and will be removed in a future release.  Please refer to Inspector.get_table_names(). (deprecated since: 1.4)\n",
      "  engine.table_names()\n"
     ]
    },
    {
     "data": {
      "text/plain": [
       "[]"
      ]
     },
     "execution_count": 4,
     "metadata": {},
     "output_type": "execute_result"
    }
   ],
   "source": [
    "engine.table_names()"
   ]
  },
  {
   "cell_type": "code",
   "execution_count": 5,
   "id": "77be20d3-642d-4037-b749-cdd4f61a8856",
   "metadata": {},
   "outputs": [
    {
     "data": {
      "text/html": [
       "<div>\n",
       "<style scoped>\n",
       "    .dataframe tbody tr th:only-of-type {\n",
       "        vertical-align: middle;\n",
       "    }\n",
       "\n",
       "    .dataframe tbody tr th {\n",
       "        vertical-align: top;\n",
       "    }\n",
       "\n",
       "    .dataframe thead th {\n",
       "        text-align: right;\n",
       "    }\n",
       "</style>\n",
       "<table border=\"1\" class=\"dataframe\">\n",
       "  <thead>\n",
       "    <tr style=\"text-align: right;\">\n",
       "      <th></th>\n",
       "      <th>AAPL</th>\n",
       "      <th>GOOG</th>\n",
       "    </tr>\n",
       "  </thead>\n",
       "  <tbody>\n",
       "    <tr>\n",
       "      <th>0</th>\n",
       "      <td>1</td>\n",
       "      <td>3</td>\n",
       "    </tr>\n",
       "    <tr>\n",
       "      <th>1</th>\n",
       "      <td>2</td>\n",
       "      <td>4</td>\n",
       "    </tr>\n",
       "  </tbody>\n",
       "</table>\n",
       "</div>"
      ],
      "text/plain": [
       "   AAPL  GOOG\n",
       "0     1     3\n",
       "1     2     4"
      ]
     },
     "execution_count": 5,
     "metadata": {},
     "output_type": "execute_result"
    }
   ],
   "source": [
    "stocks_dataframe = pd.DataFrame(\n",
    "    {\n",
    "        'AAPL': [\n",
    "            1,\n",
    "            2\n",
    "        ]\n",
    "        ,\n",
    "        'GOOG': [\n",
    "            3,\n",
    "            4\n",
    "        ]\n",
    "    }\n",
    ")\n",
    "\n",
    "stocks_dataframe"
   ]
  },
  {
   "cell_type": "code",
   "execution_count": 6,
   "id": "a03e6ef1-7e8a-466c-864d-9df097bfc52e",
   "metadata": {},
   "outputs": [
    {
     "data": {
      "text/plain": [
       "2"
      ]
     },
     "execution_count": 6,
     "metadata": {},
     "output_type": "execute_result"
    }
   ],
   "source": [
    "stocks_dataframe.to_sql(\n",
    "    'stocks',\n",
    "    engine\n",
    ")"
   ]
  },
  {
   "cell_type": "code",
   "execution_count": 7,
   "id": "6ac58756-4e77-4897-b92e-84844a6eaaf1",
   "metadata": {},
   "outputs": [
    {
     "name": "stderr",
     "output_type": "stream",
     "text": [
      "C:\\Users\\admin\\AppData\\Local\\Temp\\ipykernel_14900\\4162273999.py:1: SADeprecationWarning: The Engine.table_names() method is deprecated and will be removed in a future release.  Please refer to Inspector.get_table_names(). (deprecated since: 1.4)\n",
      "  engine.table_names()\n"
     ]
    },
    {
     "data": {
      "text/plain": [
       "['stocks']"
      ]
     },
     "execution_count": 7,
     "metadata": {},
     "output_type": "execute_result"
    }
   ],
   "source": [
    "engine.table_names()"
   ]
  },
  {
   "cell_type": "code",
   "execution_count": 8,
   "id": "fb07b842-3411-4882-90d2-899b68733635",
   "metadata": {
    "tags": []
   },
   "outputs": [
    {
     "data": {
      "text/html": [
       "<div>\n",
       "<style scoped>\n",
       "    .dataframe tbody tr th:only-of-type {\n",
       "        vertical-align: middle;\n",
       "    }\n",
       "\n",
       "    .dataframe tbody tr th {\n",
       "        vertical-align: top;\n",
       "    }\n",
       "\n",
       "    .dataframe thead th {\n",
       "        text-align: right;\n",
       "    }\n",
       "</style>\n",
       "<table border=\"1\" class=\"dataframe\">\n",
       "  <thead>\n",
       "    <tr style=\"text-align: right;\">\n",
       "      <th></th>\n",
       "      <th>index</th>\n",
       "      <th>AAPL</th>\n",
       "      <th>GOOG</th>\n",
       "    </tr>\n",
       "  </thead>\n",
       "  <tbody>\n",
       "    <tr>\n",
       "      <th>0</th>\n",
       "      <td>0</td>\n",
       "      <td>1</td>\n",
       "      <td>3</td>\n",
       "    </tr>\n",
       "    <tr>\n",
       "      <th>1</th>\n",
       "      <td>1</td>\n",
       "      <td>2</td>\n",
       "      <td>4</td>\n",
       "    </tr>\n",
       "  </tbody>\n",
       "</table>\n",
       "</div>"
      ],
      "text/plain": [
       "   index  AAPL  GOOG\n",
       "0      0     1     3\n",
       "1      1     2     4"
      ]
     },
     "execution_count": 8,
     "metadata": {},
     "output_type": "execute_result"
    }
   ],
   "source": [
    "sql_stocks_df = pd.read_sql_table(\n",
    "    'stocks',\n",
    "    con= engine\n",
    ")\n",
    "\n",
    "sql_stocks_df"
   ]
  },
  {
   "cell_type": "code",
   "execution_count": 14,
   "id": "952805f8-7407-40cc-aaf6-7215ddbd69b0",
   "metadata": {},
   "outputs": [
    {
     "data": {
      "text/plain": [
       "2"
      ]
     },
     "execution_count": 14,
     "metadata": {},
     "output_type": "execute_result"
    }
   ],
   "source": [
    "stocks_dataframe.to_sql(\n",
    "    'stocks',\n",
    "    engine,\n",
    "    index= False,\n",
    "    if_exists= 'replace'\n",
    ")"
   ]
  },
  {
   "cell_type": "code",
   "execution_count": 16,
   "id": "570e2e7b-be49-4b99-82e2-e445037315ee",
   "metadata": {},
   "outputs": [
    {
     "data": {
      "text/html": [
       "<div>\n",
       "<style scoped>\n",
       "    .dataframe tbody tr th:only-of-type {\n",
       "        vertical-align: middle;\n",
       "    }\n",
       "\n",
       "    .dataframe tbody tr th {\n",
       "        vertical-align: top;\n",
       "    }\n",
       "\n",
       "    .dataframe thead th {\n",
       "        text-align: right;\n",
       "    }\n",
       "</style>\n",
       "<table border=\"1\" class=\"dataframe\">\n",
       "  <thead>\n",
       "    <tr style=\"text-align: right;\">\n",
       "      <th></th>\n",
       "      <th>AAPL</th>\n",
       "      <th>GOOG</th>\n",
       "    </tr>\n",
       "  </thead>\n",
       "  <tbody>\n",
       "    <tr>\n",
       "      <th>0</th>\n",
       "      <td>1</td>\n",
       "      <td>3</td>\n",
       "    </tr>\n",
       "    <tr>\n",
       "      <th>1</th>\n",
       "      <td>2</td>\n",
       "      <td>4</td>\n",
       "    </tr>\n",
       "  </tbody>\n",
       "</table>\n",
       "</div>"
      ],
      "text/plain": [
       "   AAPL  GOOG\n",
       "0     1     3\n",
       "1     2     4"
      ]
     },
     "execution_count": 16,
     "metadata": {},
     "output_type": "execute_result"
    }
   ],
   "source": [
    "sql_stocks_df = pd.read_sql_table(\n",
    "    'stocks',\n",
    "    con= engine\n",
    ")\n",
    "\n",
    "sql_stocks_df"
   ]
  },
  {
   "cell_type": "markdown",
   "id": "badf2061-9c9e-497f-b5df-a772f0cea24d",
   "metadata": {},
   "source": [
    "___"
   ]
  },
  {
   "cell_type": "markdown",
   "id": "0aaa98fa-0356-4d74-ac26-0cca04c4acb8",
   "metadata": {},
   "source": [
    "# Skill Drill"
   ]
  },
  {
   "cell_type": "code",
   "execution_count": 9,
   "id": "fc41671e-b2d2-4da5-9afa-bddcad2d9a44",
   "metadata": {},
   "outputs": [
    {
     "data": {
      "text/plain": [
       "Engine(sqlite:///)"
      ]
     },
     "execution_count": 9,
     "metadata": {},
     "output_type": "execute_result"
    }
   ],
   "source": [
    "database_connection_string = 'sqlite:///'\n",
    "\n",
    "engine = sql.create_engine(\n",
    "    database_connection_string\n",
    ")\n",
    "\n",
    "engine"
   ]
  },
  {
   "cell_type": "code",
   "execution_count": 10,
   "id": "22141e31-39d5-4319-b985-205fd10a8df9",
   "metadata": {},
   "outputs": [
    {
     "data": {
      "text/html": [
       "<div>\n",
       "<style scoped>\n",
       "    .dataframe tbody tr th:only-of-type {\n",
       "        vertical-align: middle;\n",
       "    }\n",
       "\n",
       "    .dataframe tbody tr th {\n",
       "        vertical-align: top;\n",
       "    }\n",
       "\n",
       "    .dataframe thead th {\n",
       "        text-align: right;\n",
       "    }\n",
       "</style>\n",
       "<table border=\"1\" class=\"dataframe\">\n",
       "  <thead>\n",
       "    <tr style=\"text-align: right;\">\n",
       "      <th></th>\n",
       "      <th>MSFT</th>\n",
       "      <th>TSLA</th>\n",
       "    </tr>\n",
       "  </thead>\n",
       "  <tbody>\n",
       "    <tr>\n",
       "      <th>0</th>\n",
       "      <td>5</td>\n",
       "      <td>7</td>\n",
       "    </tr>\n",
       "    <tr>\n",
       "      <th>1</th>\n",
       "      <td>6</td>\n",
       "      <td>8</td>\n",
       "    </tr>\n",
       "  </tbody>\n",
       "</table>\n",
       "</div>"
      ],
      "text/plain": [
       "   MSFT  TSLA\n",
       "0     5     7\n",
       "1     6     8"
      ]
     },
     "execution_count": 10,
     "metadata": {},
     "output_type": "execute_result"
    }
   ],
   "source": [
    "stocks_df = pd.DataFrame(\n",
    "    {\n",
    "        'MSFT': [\n",
    "            5,\n",
    "            6\n",
    "        ]\n",
    "        ,\n",
    "        'TSLA': [\n",
    "            7,\n",
    "            8\n",
    "        ]\n",
    "    }\n",
    ")\n",
    "\n",
    "stocks_df"
   ]
  },
  {
   "cell_type": "code",
   "execution_count": 11,
   "id": "4fae365c-a917-4fee-b7ef-c20bc51ed9f9",
   "metadata": {},
   "outputs": [
    {
     "data": {
      "text/plain": [
       "2"
      ]
     },
     "execution_count": 11,
     "metadata": {},
     "output_type": "execute_result"
    }
   ],
   "source": [
    "stocks_df.to_sql(\n",
    "    'stocks',\n",
    "    engine\n",
    ")"
   ]
  },
  {
   "cell_type": "code",
   "execution_count": 12,
   "id": "11a3e6c3-07fd-4456-84cb-b1ac5283c0ec",
   "metadata": {},
   "outputs": [
    {
     "name": "stderr",
     "output_type": "stream",
     "text": [
      "C:\\Users\\admin\\AppData\\Local\\Temp\\ipykernel_14900\\4162273999.py:1: SADeprecationWarning: The Engine.table_names() method is deprecated and will be removed in a future release.  Please refer to Inspector.get_table_names(). (deprecated since: 1.4)\n",
      "  engine.table_names()\n"
     ]
    },
    {
     "data": {
      "text/plain": [
       "['stocks']"
      ]
     },
     "execution_count": 12,
     "metadata": {},
     "output_type": "execute_result"
    }
   ],
   "source": [
    "engine.table_names()"
   ]
  },
  {
   "cell_type": "code",
   "execution_count": 13,
   "id": "53b83c8e-2dff-49b3-9d0e-5df3a0b3c2f3",
   "metadata": {},
   "outputs": [
    {
     "data": {
      "text/html": [
       "<div>\n",
       "<style scoped>\n",
       "    .dataframe tbody tr th:only-of-type {\n",
       "        vertical-align: middle;\n",
       "    }\n",
       "\n",
       "    .dataframe tbody tr th {\n",
       "        vertical-align: top;\n",
       "    }\n",
       "\n",
       "    .dataframe thead th {\n",
       "        text-align: right;\n",
       "    }\n",
       "</style>\n",
       "<table border=\"1\" class=\"dataframe\">\n",
       "  <thead>\n",
       "    <tr style=\"text-align: right;\">\n",
       "      <th></th>\n",
       "      <th>index</th>\n",
       "      <th>MSFT</th>\n",
       "      <th>TSLA</th>\n",
       "    </tr>\n",
       "  </thead>\n",
       "  <tbody>\n",
       "    <tr>\n",
       "      <th>0</th>\n",
       "      <td>0</td>\n",
       "      <td>5</td>\n",
       "      <td>7</td>\n",
       "    </tr>\n",
       "    <tr>\n",
       "      <th>1</th>\n",
       "      <td>1</td>\n",
       "      <td>6</td>\n",
       "      <td>8</td>\n",
       "    </tr>\n",
       "  </tbody>\n",
       "</table>\n",
       "</div>"
      ],
      "text/plain": [
       "   index  MSFT  TSLA\n",
       "0      0     5     7\n",
       "1      1     6     8"
      ]
     },
     "execution_count": 13,
     "metadata": {},
     "output_type": "execute_result"
    }
   ],
   "source": [
    "sql_stocks_df = pd.read_sql_table(\n",
    "    'stocks',\n",
    "    con = engine\n",
    ")\n",
    "\n",
    "sql_stocks_df"
   ]
  },
  {
   "cell_type": "markdown",
   "id": "5c234ee8-252e-4046-acf4-d49cf694e2af",
   "metadata": {},
   "source": [
    "___"
   ]
  },
  {
   "cell_type": "code",
   "execution_count": 25,
   "id": "3b15da33-2df9-48de-a502-64bbdd2a1bf3",
   "metadata": {},
   "outputs": [
    {
     "data": {
      "text/plain": [
       "Engine(sqlite:///)"
      ]
     },
     "execution_count": 25,
     "metadata": {},
     "output_type": "execute_result"
    }
   ],
   "source": [
    "database_connection_string = 'sqlite:///'\n",
    "\n",
    "engine = sql.create_engine(\n",
    "    database_connection_string,\n",
    "    echo = True\n",
    ")\n",
    "\n",
    "engine"
   ]
  },
  {
   "cell_type": "code",
   "execution_count": 26,
   "id": "d70cbab5-0d14-4fc9-a61e-164c5e9e97ba",
   "metadata": {},
   "outputs": [
    {
     "data": {
      "text/html": [
       "<div>\n",
       "<style scoped>\n",
       "    .dataframe tbody tr th:only-of-type {\n",
       "        vertical-align: middle;\n",
       "    }\n",
       "\n",
       "    .dataframe tbody tr th {\n",
       "        vertical-align: top;\n",
       "    }\n",
       "\n",
       "    .dataframe thead th {\n",
       "        text-align: right;\n",
       "    }\n",
       "</style>\n",
       "<table border=\"1\" class=\"dataframe\">\n",
       "  <thead>\n",
       "    <tr style=\"text-align: right;\">\n",
       "      <th></th>\n",
       "      <th>AAPL</th>\n",
       "      <th>GOOG</th>\n",
       "    </tr>\n",
       "  </thead>\n",
       "  <tbody>\n",
       "    <tr>\n",
       "      <th>0</th>\n",
       "      <td>1</td>\n",
       "      <td>3</td>\n",
       "    </tr>\n",
       "    <tr>\n",
       "      <th>1</th>\n",
       "      <td>2</td>\n",
       "      <td>4</td>\n",
       "    </tr>\n",
       "  </tbody>\n",
       "</table>\n",
       "</div>"
      ],
      "text/plain": [
       "   AAPL  GOOG\n",
       "0     1     3\n",
       "1     2     4"
      ]
     },
     "execution_count": 26,
     "metadata": {},
     "output_type": "execute_result"
    }
   ],
   "source": [
    "stocks_dataframe"
   ]
  },
  {
   "cell_type": "code",
   "execution_count": 27,
   "id": "f08c66ad-9199-46b0-87a1-9b025549607b",
   "metadata": {},
   "outputs": [
    {
     "name": "stdout",
     "output_type": "stream",
     "text": [
      "2023-02-09 23:39:10,993 INFO sqlalchemy.engine.Engine PRAGMA main.table_info(\"stocks\")\n",
      "2023-02-09 23:39:11,001 INFO sqlalchemy.engine.Engine [raw sql] ()\n",
      "2023-02-09 23:39:11,001 INFO sqlalchemy.engine.Engine PRAGMA temp.table_info(\"stocks\")\n",
      "2023-02-09 23:39:11,004 INFO sqlalchemy.engine.Engine [raw sql] ()\n",
      "2023-02-09 23:39:11,005 INFO sqlalchemy.engine.Engine BEGIN (implicit)\n",
      "2023-02-09 23:39:11,005 INFO sqlalchemy.engine.Engine \n",
      "CREATE TABLE stocks (\n",
      "\t\"AAPL\" BIGINT, \n",
      "\t\"GOOG\" BIGINT\n",
      ")\n",
      "\n",
      "\n",
      "2023-02-09 23:39:11,009 INFO sqlalchemy.engine.Engine [no key 0.00155s] ()\n",
      "2023-02-09 23:39:11,013 INFO sqlalchemy.engine.Engine COMMIT\n",
      "2023-02-09 23:39:11,014 INFO sqlalchemy.engine.Engine BEGIN (implicit)\n",
      "2023-02-09 23:39:11,016 INFO sqlalchemy.engine.Engine INSERT INTO stocks (\"AAPL\", \"GOOG\") VALUES (?, ?)\n",
      "2023-02-09 23:39:11,019 INFO sqlalchemy.engine.Engine [generated in 0.00242s] ((1, 3), (2, 4))\n",
      "2023-02-09 23:39:11,021 INFO sqlalchemy.engine.Engine COMMIT\n"
     ]
    },
    {
     "data": {
      "text/plain": [
       "2"
      ]
     },
     "execution_count": 27,
     "metadata": {},
     "output_type": "execute_result"
    }
   ],
   "source": [
    "stocks_dataframe.to_sql(\n",
    "    'stocks',\n",
    "    engine,\n",
    "    index=False,\n",
    "    if_exists='replace'\n",
    ")"
   ]
  },
  {
   "cell_type": "code",
   "execution_count": 28,
   "id": "0a25b879-8838-4e87-8b79-e16a7d79a908",
   "metadata": {},
   "outputs": [
    {
     "data": {
      "text/plain": [
       "\"\\nCREATE TABLE stocks (\\n    'AAPL' BIGINT,\\n    'GOOG' BIGINT\\n)\\n\\n\""
      ]
     },
     "execution_count": 28,
     "metadata": {},
     "output_type": "execute_result"
    }
   ],
   "source": [
    "create_table = \"\"\"\n",
    "CREATE TABLE stocks (\n",
    "    'AAPL' BIGINT,\n",
    "    'GOOG' BIGINT\n",
    ")\n",
    "\n",
    "\"\"\"\n",
    "\n",
    "create_table"
   ]
  },
  {
   "cell_type": "markdown",
   "id": "3b64f97d-4c44-48dc-8321-95b9db328114",
   "metadata": {},
   "source": [
    "___"
   ]
  },
  {
   "cell_type": "code",
   "execution_count": 29,
   "id": "e0977550-a067-452e-b05e-2b15a12484db",
   "metadata": {},
   "outputs": [
    {
     "data": {
      "text/plain": [
       "\"\\n\\nCREATE TABLE delicious_stocks (\\n    'EAT' BIGINT,\\n    'CAKE' BIGINT\\n)\\n\\n\""
      ]
     },
     "execution_count": 29,
     "metadata": {},
     "output_type": "execute_result"
    }
   ],
   "source": [
    "create_table = \"\"\"\n",
    "\n",
    "CREATE TABLE delicious_stocks (\n",
    "    'EAT' BIGINT,\n",
    "    'CAKE' BIGINT\n",
    ")\n",
    "\n",
    "\"\"\"\n",
    "\n",
    "create_table"
   ]
  },
  {
   "cell_type": "code",
   "execution_count": 30,
   "id": "cf0d464a-34ec-492a-b3be-d7cb1edf24fe",
   "metadata": {},
   "outputs": [
    {
     "name": "stdout",
     "output_type": "stream",
     "text": [
      "2023-02-10 00:01:39,673 INFO sqlalchemy.engine.Engine \n",
      "\n",
      "CREATE TABLE delicious_stocks (\n",
      "    'EAT' BIGINT,\n",
      "    'CAKE' BIGINT\n",
      ")\n",
      "\n",
      "\n",
      "2023-02-10 00:01:39,676 INFO sqlalchemy.engine.Engine [raw sql] ()\n",
      "2023-02-10 00:01:39,678 INFO sqlalchemy.engine.Engine COMMIT\n"
     ]
    },
    {
     "data": {
      "text/plain": [
       "<sqlalchemy.engine.cursor.LegacyCursorResult at 0x1d5b769a820>"
      ]
     },
     "execution_count": 30,
     "metadata": {},
     "output_type": "execute_result"
    }
   ],
   "source": [
    "engine.execute(\n",
    "    create_table\n",
    ")"
   ]
  },
  {
   "cell_type": "code",
   "execution_count": 32,
   "id": "6042ff9b-4a0e-4776-88f8-9597b0db3768",
   "metadata": {},
   "outputs": [
    {
     "name": "stdout",
     "output_type": "stream",
     "text": [
      "2023-02-10 00:03:36,625 INFO sqlalchemy.engine.Engine SELECT name FROM sqlite_master WHERE type='table' ORDER BY name\n",
      "2023-02-10 00:03:36,625 INFO sqlalchemy.engine.Engine [raw sql] ()\n"
     ]
    },
    {
     "name": "stderr",
     "output_type": "stream",
     "text": [
      "C:\\Users\\admin\\AppData\\Local\\Temp\\ipykernel_14900\\4162273999.py:1: SADeprecationWarning: The Engine.table_names() method is deprecated and will be removed in a future release.  Please refer to Inspector.get_table_names(). (deprecated since: 1.4)\n",
      "  engine.table_names()\n"
     ]
    },
    {
     "data": {
      "text/plain": [
       "['delicious_stocks', 'stocks']"
      ]
     },
     "execution_count": 32,
     "metadata": {},
     "output_type": "execute_result"
    }
   ],
   "source": [
    "engine.table_names()"
   ]
  },
  {
   "cell_type": "code",
   "execution_count": null,
   "id": "a39f88d5-b987-46a7-b929-9e08ff6f7ac4",
   "metadata": {},
   "outputs": [],
   "source": []
  }
 ],
 "metadata": {
  "kernelspec": {
   "display_name": "Python (dev)",
   "language": "python",
   "name": "dev"
  },
  "language_info": {
   "codemirror_mode": {
    "name": "ipython",
    "version": 3
   },
   "file_extension": ".py",
   "mimetype": "text/x-python",
   "name": "python",
   "nbconvert_exporter": "python",
   "pygments_lexer": "ipython3",
   "version": "3.9.15"
  }
 },
 "nbformat": 4,
 "nbformat_minor": 5
}
