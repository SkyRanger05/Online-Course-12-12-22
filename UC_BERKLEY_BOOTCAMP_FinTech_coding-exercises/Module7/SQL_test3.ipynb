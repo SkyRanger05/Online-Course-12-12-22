{
 "cells": [
  {
   "cell_type": "code",
   "execution_count": 1,
   "id": "553cbb80-0e73-4950-8d70-ec49af4a2c50",
   "metadata": {},
   "outputs": [],
   "source": [
    "import pandas as pd\n",
    "import sqlalchemy as sql"
   ]
  },
  {
   "cell_type": "code",
   "execution_count": 2,
   "id": "ffe59352-e4d1-475f-b168-4e459c577b8c",
   "metadata": {},
   "outputs": [],
   "source": [
    "database_connection_string = 'sqlite:///'"
   ]
  },
  {
   "cell_type": "code",
   "execution_count": 3,
   "id": "3aa1f7ad-6895-4a4a-a706-1cc116a9ce49",
   "metadata": {},
   "outputs": [
    {
     "data": {
      "text/plain": [
       "Engine(sqlite:///)"
      ]
     },
     "execution_count": 3,
     "metadata": {},
     "output_type": "execute_result"
    }
   ],
   "source": [
    "engine = sql.create_engine(\n",
    "    database_connection_string\n",
    ")\n",
    "\n",
    "engine"
   ]
  },
  {
   "cell_type": "code",
   "execution_count": 4,
   "id": "cd56e27d-04d6-4010-b78e-fe590dd0210c",
   "metadata": {},
   "outputs": [
    {
     "name": "stderr",
     "output_type": "stream",
     "text": [
      "C:\\Users\\admin\\AppData\\Local\\Temp\\ipykernel_13780\\4162273999.py:1: SADeprecationWarning: The Engine.table_names() method is deprecated and will be removed in a future release.  Please refer to Inspector.get_table_names(). (deprecated since: 1.4)\n",
      "  engine.table_names()\n"
     ]
    },
    {
     "data": {
      "text/plain": [
       "[]"
      ]
     },
     "execution_count": 4,
     "metadata": {},
     "output_type": "execute_result"
    }
   ],
   "source": [
    "engine.table_names()"
   ]
  },
  {
   "cell_type": "code",
   "execution_count": 5,
   "id": "77be20d3-642d-4037-b749-cdd4f61a8856",
   "metadata": {},
   "outputs": [
    {
     "data": {
      "text/html": [
       "<div>\n",
       "<style scoped>\n",
       "    .dataframe tbody tr th:only-of-type {\n",
       "        vertical-align: middle;\n",
       "    }\n",
       "\n",
       "    .dataframe tbody tr th {\n",
       "        vertical-align: top;\n",
       "    }\n",
       "\n",
       "    .dataframe thead th {\n",
       "        text-align: right;\n",
       "    }\n",
       "</style>\n",
       "<table border=\"1\" class=\"dataframe\">\n",
       "  <thead>\n",
       "    <tr style=\"text-align: right;\">\n",
       "      <th></th>\n",
       "      <th>AAPL</th>\n",
       "      <th>GOOG</th>\n",
       "    </tr>\n",
       "  </thead>\n",
       "  <tbody>\n",
       "    <tr>\n",
       "      <th>0</th>\n",
       "      <td>1</td>\n",
       "      <td>3</td>\n",
       "    </tr>\n",
       "    <tr>\n",
       "      <th>1</th>\n",
       "      <td>2</td>\n",
       "      <td>4</td>\n",
       "    </tr>\n",
       "  </tbody>\n",
       "</table>\n",
       "</div>"
      ],
      "text/plain": [
       "   AAPL  GOOG\n",
       "0     1     3\n",
       "1     2     4"
      ]
     },
     "execution_count": 5,
     "metadata": {},
     "output_type": "execute_result"
    }
   ],
   "source": [
    "stocks_dataframe = pd.DataFrame(\n",
    "    {\n",
    "        'AAPL': [\n",
    "            1,\n",
    "            2\n",
    "        ]\n",
    "        ,\n",
    "        'GOOG': [\n",
    "            3,\n",
    "            4\n",
    "        ]\n",
    "    }\n",
    ")\n",
    "\n",
    "stocks_dataframe"
   ]
  },
  {
   "cell_type": "code",
   "execution_count": 6,
   "id": "a03e6ef1-7e8a-466c-864d-9df097bfc52e",
   "metadata": {},
   "outputs": [
    {
     "data": {
      "text/plain": [
       "2"
      ]
     },
     "execution_count": 6,
     "metadata": {},
     "output_type": "execute_result"
    }
   ],
   "source": [
    "stocks_dataframe.to_sql(\n",
    "    'stocks',\n",
    "    engine\n",
    ")"
   ]
  },
  {
   "cell_type": "code",
   "execution_count": 7,
   "id": "6ac58756-4e77-4897-b92e-84844a6eaaf1",
   "metadata": {},
   "outputs": [
    {
     "name": "stderr",
     "output_type": "stream",
     "text": [
      "C:\\Users\\admin\\AppData\\Local\\Temp\\ipykernel_13780\\4162273999.py:1: SADeprecationWarning: The Engine.table_names() method is deprecated and will be removed in a future release.  Please refer to Inspector.get_table_names(). (deprecated since: 1.4)\n",
      "  engine.table_names()\n"
     ]
    },
    {
     "data": {
      "text/plain": [
       "['stocks']"
      ]
     },
     "execution_count": 7,
     "metadata": {},
     "output_type": "execute_result"
    }
   ],
   "source": [
    "engine.table_names()"
   ]
  },
  {
   "cell_type": "code",
   "execution_count": 8,
   "id": "fb07b842-3411-4882-90d2-899b68733635",
   "metadata": {
    "tags": []
   },
   "outputs": [
    {
     "data": {
      "text/html": [
       "<div>\n",
       "<style scoped>\n",
       "    .dataframe tbody tr th:only-of-type {\n",
       "        vertical-align: middle;\n",
       "    }\n",
       "\n",
       "    .dataframe tbody tr th {\n",
       "        vertical-align: top;\n",
       "    }\n",
       "\n",
       "    .dataframe thead th {\n",
       "        text-align: right;\n",
       "    }\n",
       "</style>\n",
       "<table border=\"1\" class=\"dataframe\">\n",
       "  <thead>\n",
       "    <tr style=\"text-align: right;\">\n",
       "      <th></th>\n",
       "      <th>index</th>\n",
       "      <th>AAPL</th>\n",
       "      <th>GOOG</th>\n",
       "    </tr>\n",
       "  </thead>\n",
       "  <tbody>\n",
       "    <tr>\n",
       "      <th>0</th>\n",
       "      <td>0</td>\n",
       "      <td>1</td>\n",
       "      <td>3</td>\n",
       "    </tr>\n",
       "    <tr>\n",
       "      <th>1</th>\n",
       "      <td>1</td>\n",
       "      <td>2</td>\n",
       "      <td>4</td>\n",
       "    </tr>\n",
       "  </tbody>\n",
       "</table>\n",
       "</div>"
      ],
      "text/plain": [
       "   index  AAPL  GOOG\n",
       "0      0     1     3\n",
       "1      1     2     4"
      ]
     },
     "execution_count": 8,
     "metadata": {},
     "output_type": "execute_result"
    }
   ],
   "source": [
    "sql_stocks_df = pd.read_sql_table(\n",
    "    'stocks',\n",
    "    con= engine\n",
    ")\n",
    "\n",
    "sql_stocks_df"
   ]
  },
  {
   "cell_type": "code",
   "execution_count": 9,
   "id": "952805f8-7407-40cc-aaf6-7215ddbd69b0",
   "metadata": {},
   "outputs": [
    {
     "data": {
      "text/plain": [
       "2"
      ]
     },
     "execution_count": 9,
     "metadata": {},
     "output_type": "execute_result"
    }
   ],
   "source": [
    "stocks_dataframe.to_sql(\n",
    "    'stocks',\n",
    "    engine,\n",
    "    index= False,\n",
    "    if_exists= 'replace'\n",
    ")"
   ]
  },
  {
   "cell_type": "code",
   "execution_count": 10,
   "id": "570e2e7b-be49-4b99-82e2-e445037315ee",
   "metadata": {},
   "outputs": [
    {
     "data": {
      "text/html": [
       "<div>\n",
       "<style scoped>\n",
       "    .dataframe tbody tr th:only-of-type {\n",
       "        vertical-align: middle;\n",
       "    }\n",
       "\n",
       "    .dataframe tbody tr th {\n",
       "        vertical-align: top;\n",
       "    }\n",
       "\n",
       "    .dataframe thead th {\n",
       "        text-align: right;\n",
       "    }\n",
       "</style>\n",
       "<table border=\"1\" class=\"dataframe\">\n",
       "  <thead>\n",
       "    <tr style=\"text-align: right;\">\n",
       "      <th></th>\n",
       "      <th>AAPL</th>\n",
       "      <th>GOOG</th>\n",
       "    </tr>\n",
       "  </thead>\n",
       "  <tbody>\n",
       "    <tr>\n",
       "      <th>0</th>\n",
       "      <td>1</td>\n",
       "      <td>3</td>\n",
       "    </tr>\n",
       "    <tr>\n",
       "      <th>1</th>\n",
       "      <td>2</td>\n",
       "      <td>4</td>\n",
       "    </tr>\n",
       "  </tbody>\n",
       "</table>\n",
       "</div>"
      ],
      "text/plain": [
       "   AAPL  GOOG\n",
       "0     1     3\n",
       "1     2     4"
      ]
     },
     "execution_count": 10,
     "metadata": {},
     "output_type": "execute_result"
    }
   ],
   "source": [
    "sql_stocks_df = pd.read_sql_table(\n",
    "    'stocks',\n",
    "    con= engine\n",
    ")\n",
    "\n",
    "sql_stocks_df"
   ]
  },
  {
   "cell_type": "markdown",
   "id": "badf2061-9c9e-497f-b5df-a772f0cea24d",
   "metadata": {},
   "source": [
    "___"
   ]
  },
  {
   "cell_type": "markdown",
   "id": "0aaa98fa-0356-4d74-ac26-0cca04c4acb8",
   "metadata": {},
   "source": [
    "# Skill Drill"
   ]
  },
  {
   "cell_type": "code",
   "execution_count": 11,
   "id": "fc41671e-b2d2-4da5-9afa-bddcad2d9a44",
   "metadata": {},
   "outputs": [
    {
     "data": {
      "text/plain": [
       "Engine(sqlite:///)"
      ]
     },
     "execution_count": 11,
     "metadata": {},
     "output_type": "execute_result"
    }
   ],
   "source": [
    "database_connection_string = 'sqlite:///'\n",
    "\n",
    "engine = sql.create_engine(\n",
    "    database_connection_string\n",
    ")\n",
    "\n",
    "engine"
   ]
  },
  {
   "cell_type": "code",
   "execution_count": 12,
   "id": "22141e31-39d5-4319-b985-205fd10a8df9",
   "metadata": {},
   "outputs": [
    {
     "data": {
      "text/html": [
       "<div>\n",
       "<style scoped>\n",
       "    .dataframe tbody tr th:only-of-type {\n",
       "        vertical-align: middle;\n",
       "    }\n",
       "\n",
       "    .dataframe tbody tr th {\n",
       "        vertical-align: top;\n",
       "    }\n",
       "\n",
       "    .dataframe thead th {\n",
       "        text-align: right;\n",
       "    }\n",
       "</style>\n",
       "<table border=\"1\" class=\"dataframe\">\n",
       "  <thead>\n",
       "    <tr style=\"text-align: right;\">\n",
       "      <th></th>\n",
       "      <th>MSFT</th>\n",
       "      <th>TSLA</th>\n",
       "    </tr>\n",
       "  </thead>\n",
       "  <tbody>\n",
       "    <tr>\n",
       "      <th>0</th>\n",
       "      <td>5</td>\n",
       "      <td>7</td>\n",
       "    </tr>\n",
       "    <tr>\n",
       "      <th>1</th>\n",
       "      <td>6</td>\n",
       "      <td>8</td>\n",
       "    </tr>\n",
       "  </tbody>\n",
       "</table>\n",
       "</div>"
      ],
      "text/plain": [
       "   MSFT  TSLA\n",
       "0     5     7\n",
       "1     6     8"
      ]
     },
     "execution_count": 12,
     "metadata": {},
     "output_type": "execute_result"
    }
   ],
   "source": [
    "stocks_df = pd.DataFrame(\n",
    "    {\n",
    "        'MSFT': [\n",
    "            5,\n",
    "            6\n",
    "        ]\n",
    "        ,\n",
    "        'TSLA': [\n",
    "            7,\n",
    "            8\n",
    "        ]\n",
    "    }\n",
    ")\n",
    "\n",
    "stocks_df"
   ]
  },
  {
   "cell_type": "code",
   "execution_count": 13,
   "id": "4fae365c-a917-4fee-b7ef-c20bc51ed9f9",
   "metadata": {},
   "outputs": [
    {
     "data": {
      "text/plain": [
       "2"
      ]
     },
     "execution_count": 13,
     "metadata": {},
     "output_type": "execute_result"
    }
   ],
   "source": [
    "stocks_df.to_sql(\n",
    "    'stocks',\n",
    "    engine\n",
    ")"
   ]
  },
  {
   "cell_type": "code",
   "execution_count": 14,
   "id": "11a3e6c3-07fd-4456-84cb-b1ac5283c0ec",
   "metadata": {},
   "outputs": [
    {
     "name": "stderr",
     "output_type": "stream",
     "text": [
      "C:\\Users\\admin\\AppData\\Local\\Temp\\ipykernel_13780\\4162273999.py:1: SADeprecationWarning: The Engine.table_names() method is deprecated and will be removed in a future release.  Please refer to Inspector.get_table_names(). (deprecated since: 1.4)\n",
      "  engine.table_names()\n"
     ]
    },
    {
     "data": {
      "text/plain": [
       "['stocks']"
      ]
     },
     "execution_count": 14,
     "metadata": {},
     "output_type": "execute_result"
    }
   ],
   "source": [
    "engine.table_names()"
   ]
  },
  {
   "cell_type": "code",
   "execution_count": 15,
   "id": "53b83c8e-2dff-49b3-9d0e-5df3a0b3c2f3",
   "metadata": {},
   "outputs": [
    {
     "data": {
      "text/html": [
       "<div>\n",
       "<style scoped>\n",
       "    .dataframe tbody tr th:only-of-type {\n",
       "        vertical-align: middle;\n",
       "    }\n",
       "\n",
       "    .dataframe tbody tr th {\n",
       "        vertical-align: top;\n",
       "    }\n",
       "\n",
       "    .dataframe thead th {\n",
       "        text-align: right;\n",
       "    }\n",
       "</style>\n",
       "<table border=\"1\" class=\"dataframe\">\n",
       "  <thead>\n",
       "    <tr style=\"text-align: right;\">\n",
       "      <th></th>\n",
       "      <th>index</th>\n",
       "      <th>MSFT</th>\n",
       "      <th>TSLA</th>\n",
       "    </tr>\n",
       "  </thead>\n",
       "  <tbody>\n",
       "    <tr>\n",
       "      <th>0</th>\n",
       "      <td>0</td>\n",
       "      <td>5</td>\n",
       "      <td>7</td>\n",
       "    </tr>\n",
       "    <tr>\n",
       "      <th>1</th>\n",
       "      <td>1</td>\n",
       "      <td>6</td>\n",
       "      <td>8</td>\n",
       "    </tr>\n",
       "  </tbody>\n",
       "</table>\n",
       "</div>"
      ],
      "text/plain": [
       "   index  MSFT  TSLA\n",
       "0      0     5     7\n",
       "1      1     6     8"
      ]
     },
     "execution_count": 15,
     "metadata": {},
     "output_type": "execute_result"
    }
   ],
   "source": [
    "sql_stocks_df = pd.read_sql_table(\n",
    "    'stocks',\n",
    "    con = engine\n",
    ")\n",
    "\n",
    "sql_stocks_df"
   ]
  },
  {
   "cell_type": "markdown",
   "id": "5c234ee8-252e-4046-acf4-d49cf694e2af",
   "metadata": {},
   "source": [
    "___"
   ]
  },
  {
   "cell_type": "code",
   "execution_count": 16,
   "id": "3b15da33-2df9-48de-a502-64bbdd2a1bf3",
   "metadata": {},
   "outputs": [
    {
     "data": {
      "text/plain": [
       "Engine(sqlite:///)"
      ]
     },
     "execution_count": 16,
     "metadata": {},
     "output_type": "execute_result"
    }
   ],
   "source": [
    "database_connection_string = 'sqlite:///'\n",
    "\n",
    "engine = sql.create_engine(\n",
    "    database_connection_string,\n",
    "    echo = True\n",
    ")\n",
    "\n",
    "engine"
   ]
  },
  {
   "cell_type": "code",
   "execution_count": 17,
   "id": "d70cbab5-0d14-4fc9-a61e-164c5e9e97ba",
   "metadata": {},
   "outputs": [
    {
     "data": {
      "text/html": [
       "<div>\n",
       "<style scoped>\n",
       "    .dataframe tbody tr th:only-of-type {\n",
       "        vertical-align: middle;\n",
       "    }\n",
       "\n",
       "    .dataframe tbody tr th {\n",
       "        vertical-align: top;\n",
       "    }\n",
       "\n",
       "    .dataframe thead th {\n",
       "        text-align: right;\n",
       "    }\n",
       "</style>\n",
       "<table border=\"1\" class=\"dataframe\">\n",
       "  <thead>\n",
       "    <tr style=\"text-align: right;\">\n",
       "      <th></th>\n",
       "      <th>AAPL</th>\n",
       "      <th>GOOG</th>\n",
       "    </tr>\n",
       "  </thead>\n",
       "  <tbody>\n",
       "    <tr>\n",
       "      <th>0</th>\n",
       "      <td>1</td>\n",
       "      <td>3</td>\n",
       "    </tr>\n",
       "    <tr>\n",
       "      <th>1</th>\n",
       "      <td>2</td>\n",
       "      <td>4</td>\n",
       "    </tr>\n",
       "  </tbody>\n",
       "</table>\n",
       "</div>"
      ],
      "text/plain": [
       "   AAPL  GOOG\n",
       "0     1     3\n",
       "1     2     4"
      ]
     },
     "execution_count": 17,
     "metadata": {},
     "output_type": "execute_result"
    }
   ],
   "source": [
    "stocks_dataframe"
   ]
  },
  {
   "cell_type": "code",
   "execution_count": 18,
   "id": "f08c66ad-9199-46b0-87a1-9b025549607b",
   "metadata": {},
   "outputs": [
    {
     "name": "stdout",
     "output_type": "stream",
     "text": [
      "2023-02-10 01:22:10,277 INFO sqlalchemy.engine.Engine PRAGMA main.table_info(\"stocks\")\n",
      "2023-02-10 01:22:10,279 INFO sqlalchemy.engine.Engine [raw sql] ()\n",
      "2023-02-10 01:22:10,280 INFO sqlalchemy.engine.Engine PRAGMA temp.table_info(\"stocks\")\n",
      "2023-02-10 01:22:10,281 INFO sqlalchemy.engine.Engine [raw sql] ()\n",
      "2023-02-10 01:22:10,284 INFO sqlalchemy.engine.Engine BEGIN (implicit)\n",
      "2023-02-10 01:22:10,287 INFO sqlalchemy.engine.Engine \n",
      "CREATE TABLE stocks (\n",
      "\t\"AAPL\" BIGINT, \n",
      "\t\"GOOG\" BIGINT\n",
      ")\n",
      "\n",
      "\n",
      "2023-02-10 01:22:10,290 INFO sqlalchemy.engine.Engine [no key 0.00187s] ()\n",
      "2023-02-10 01:22:10,292 INFO sqlalchemy.engine.Engine COMMIT\n",
      "2023-02-10 01:22:10,294 INFO sqlalchemy.engine.Engine BEGIN (implicit)\n",
      "2023-02-10 01:22:10,295 INFO sqlalchemy.engine.Engine INSERT INTO stocks (\"AAPL\", \"GOOG\") VALUES (?, ?)\n",
      "2023-02-10 01:22:10,295 INFO sqlalchemy.engine.Engine [generated in 0.00140s] ((1, 3), (2, 4))\n",
      "2023-02-10 01:22:10,298 INFO sqlalchemy.engine.Engine COMMIT\n"
     ]
    },
    {
     "data": {
      "text/plain": [
       "2"
      ]
     },
     "execution_count": 18,
     "metadata": {},
     "output_type": "execute_result"
    }
   ],
   "source": [
    "stocks_dataframe.to_sql(\n",
    "    'stocks',\n",
    "    engine,\n",
    "    index=False,\n",
    "    if_exists='replace'\n",
    ")"
   ]
  },
  {
   "cell_type": "code",
   "execution_count": 19,
   "id": "0a25b879-8838-4e87-8b79-e16a7d79a908",
   "metadata": {},
   "outputs": [
    {
     "data": {
      "text/plain": [
       "\"\\nCREATE TABLE stocks (\\n    'AAPL' BIGINT,\\n    'GOOG' BIGINT\\n)\\n\\n\""
      ]
     },
     "execution_count": 19,
     "metadata": {},
     "output_type": "execute_result"
    }
   ],
   "source": [
    "create_table = \"\"\"\n",
    "CREATE TABLE stocks (\n",
    "    'AAPL' BIGINT,\n",
    "    'GOOG' BIGINT\n",
    ")\n",
    "\n",
    "\"\"\"\n",
    "\n",
    "create_table"
   ]
  },
  {
   "cell_type": "markdown",
   "id": "3b64f97d-4c44-48dc-8321-95b9db328114",
   "metadata": {},
   "source": [
    "___"
   ]
  },
  {
   "cell_type": "code",
   "execution_count": 20,
   "id": "e0977550-a067-452e-b05e-2b15a12484db",
   "metadata": {},
   "outputs": [
    {
     "data": {
      "text/plain": [
       "\"\\n\\nCREATE TABLE delicious_stocks (\\n    'EAT' BIGINT,\\n    'CAKE' BIGINT\\n)\\n\\n\""
      ]
     },
     "execution_count": 20,
     "metadata": {},
     "output_type": "execute_result"
    }
   ],
   "source": [
    "create_table = \"\"\"\n",
    "\n",
    "CREATE TABLE delicious_stocks (\n",
    "    'EAT' BIGINT,\n",
    "    'CAKE' BIGINT\n",
    ")\n",
    "\n",
    "\"\"\"\n",
    "\n",
    "create_table"
   ]
  },
  {
   "cell_type": "code",
   "execution_count": 21,
   "id": "cf0d464a-34ec-492a-b3be-d7cb1edf24fe",
   "metadata": {},
   "outputs": [
    {
     "name": "stdout",
     "output_type": "stream",
     "text": [
      "2023-02-10 01:22:10,357 INFO sqlalchemy.engine.Engine \n",
      "\n",
      "CREATE TABLE delicious_stocks (\n",
      "    'EAT' BIGINT,\n",
      "    'CAKE' BIGINT\n",
      ")\n",
      "\n",
      "\n",
      "2023-02-10 01:22:10,357 INFO sqlalchemy.engine.Engine [raw sql] ()\n",
      "2023-02-10 01:22:10,362 INFO sqlalchemy.engine.Engine COMMIT\n"
     ]
    },
    {
     "data": {
      "text/plain": [
       "<sqlalchemy.engine.cursor.LegacyCursorResult at 0x1cfffc3ab20>"
      ]
     },
     "execution_count": 21,
     "metadata": {},
     "output_type": "execute_result"
    }
   ],
   "source": [
    "engine.execute(\n",
    "    create_table\n",
    ")"
   ]
  },
  {
   "cell_type": "code",
   "execution_count": 22,
   "id": "6042ff9b-4a0e-4776-88f8-9597b0db3768",
   "metadata": {},
   "outputs": [
    {
     "name": "stdout",
     "output_type": "stream",
     "text": [
      "2023-02-10 01:22:10,383 INFO sqlalchemy.engine.Engine SELECT name FROM sqlite_master WHERE type='table' ORDER BY name\n",
      "2023-02-10 01:22:10,384 INFO sqlalchemy.engine.Engine [raw sql] ()\n"
     ]
    },
    {
     "name": "stderr",
     "output_type": "stream",
     "text": [
      "C:\\Users\\admin\\AppData\\Local\\Temp\\ipykernel_13780\\4162273999.py:1: SADeprecationWarning: The Engine.table_names() method is deprecated and will be removed in a future release.  Please refer to Inspector.get_table_names(). (deprecated since: 1.4)\n",
      "  engine.table_names()\n"
     ]
    },
    {
     "data": {
      "text/plain": [
       "['delicious_stocks', 'stocks']"
      ]
     },
     "execution_count": 22,
     "metadata": {},
     "output_type": "execute_result"
    }
   ],
   "source": [
    "engine.table_names()"
   ]
  },
  {
   "cell_type": "code",
   "execution_count": 23,
   "id": "a39f88d5-b987-46a7-b929-9e08ff6f7ac4",
   "metadata": {},
   "outputs": [
    {
     "name": "stdout",
     "output_type": "stream",
     "text": [
      "2023-02-10 01:22:10,405 INFO sqlalchemy.engine.Engine PRAGMA main.table_info(\"delicious_stocks\")\n",
      "2023-02-10 01:22:10,413 INFO sqlalchemy.engine.Engine [raw sql] ()\n",
      "2023-02-10 01:22:10,415 INFO sqlalchemy.engine.Engine PRAGMA main.table_xinfo(\"delicious_stocks\")\n",
      "2023-02-10 01:22:10,417 INFO sqlalchemy.engine.Engine [raw sql] ()\n",
      "2023-02-10 01:22:10,417 INFO sqlalchemy.engine.Engine SELECT sql FROM  (SELECT * FROM sqlite_master UNION ALL   SELECT * FROM sqlite_temp_master) WHERE name = ? AND type = 'table'\n",
      "2023-02-10 01:22:10,417 INFO sqlalchemy.engine.Engine [raw sql] ('delicious_stocks',)\n",
      "2023-02-10 01:22:10,422 INFO sqlalchemy.engine.Engine PRAGMA main.foreign_key_list(\"delicious_stocks\")\n",
      "2023-02-10 01:22:10,422 INFO sqlalchemy.engine.Engine [raw sql] ()\n",
      "2023-02-10 01:22:10,426 INFO sqlalchemy.engine.Engine PRAGMA temp.foreign_key_list(\"delicious_stocks\")\n",
      "2023-02-10 01:22:10,428 INFO sqlalchemy.engine.Engine [raw sql] ()\n",
      "2023-02-10 01:22:10,430 INFO sqlalchemy.engine.Engine SELECT sql FROM  (SELECT * FROM sqlite_master UNION ALL   SELECT * FROM sqlite_temp_master) WHERE name = ? AND type = 'table'\n",
      "2023-02-10 01:22:10,432 INFO sqlalchemy.engine.Engine [raw sql] ('delicious_stocks',)\n",
      "2023-02-10 01:22:10,433 INFO sqlalchemy.engine.Engine PRAGMA main.index_list(\"delicious_stocks\")\n",
      "2023-02-10 01:22:10,436 INFO sqlalchemy.engine.Engine [raw sql] ()\n",
      "2023-02-10 01:22:10,437 INFO sqlalchemy.engine.Engine PRAGMA temp.index_list(\"delicious_stocks\")\n",
      "2023-02-10 01:22:10,439 INFO sqlalchemy.engine.Engine [raw sql] ()\n",
      "2023-02-10 01:22:10,441 INFO sqlalchemy.engine.Engine PRAGMA main.index_list(\"delicious_stocks\")\n",
      "2023-02-10 01:22:10,443 INFO sqlalchemy.engine.Engine [raw sql] ()\n",
      "2023-02-10 01:22:10,445 INFO sqlalchemy.engine.Engine PRAGMA temp.index_list(\"delicious_stocks\")\n",
      "2023-02-10 01:22:10,445 INFO sqlalchemy.engine.Engine [raw sql] ()\n",
      "2023-02-10 01:22:10,445 INFO sqlalchemy.engine.Engine SELECT sql FROM  (SELECT * FROM sqlite_master UNION ALL   SELECT * FROM sqlite_temp_master) WHERE name = ? AND type = 'table'\n",
      "2023-02-10 01:22:10,451 INFO sqlalchemy.engine.Engine [raw sql] ('delicious_stocks',)\n",
      "2023-02-10 01:22:10,453 INFO sqlalchemy.engine.Engine SELECT delicious_stocks.\"EAT\", delicious_stocks.\"CAKE\" \n",
      "FROM delicious_stocks\n",
      "2023-02-10 01:22:10,453 INFO sqlalchemy.engine.Engine [generated in 0.00105s] ()\n"
     ]
    },
    {
     "data": {
      "text/html": [
       "<div>\n",
       "<style scoped>\n",
       "    .dataframe tbody tr th:only-of-type {\n",
       "        vertical-align: middle;\n",
       "    }\n",
       "\n",
       "    .dataframe tbody tr th {\n",
       "        vertical-align: top;\n",
       "    }\n",
       "\n",
       "    .dataframe thead th {\n",
       "        text-align: right;\n",
       "    }\n",
       "</style>\n",
       "<table border=\"1\" class=\"dataframe\">\n",
       "  <thead>\n",
       "    <tr style=\"text-align: right;\">\n",
       "      <th></th>\n",
       "      <th>EAT</th>\n",
       "      <th>CAKE</th>\n",
       "    </tr>\n",
       "  </thead>\n",
       "  <tbody>\n",
       "  </tbody>\n",
       "</table>\n",
       "</div>"
      ],
      "text/plain": [
       "Empty DataFrame\n",
       "Columns: [EAT, CAKE]\n",
       "Index: []"
      ]
     },
     "execution_count": 23,
     "metadata": {},
     "output_type": "execute_result"
    }
   ],
   "source": [
    "pd.read_sql_table(\n",
    "    'delicious_stocks',\n",
    "    con=engine\n",
    ")"
   ]
  },
  {
   "cell_type": "code",
   "execution_count": 24,
   "id": "f7c413e4-36d5-45b8-94b8-b74ef25e197e",
   "metadata": {},
   "outputs": [],
   "source": [
    "insert_data = \"\"\"\n",
    "\n",
    "INSERT INTO delicious_stocks (\n",
    "    'EAT',\n",
    "    'CAKE'\n",
    ")\n",
    "\n",
    "VALUES (\n",
    "    ?,\n",
    "    ?\n",
    ")\n",
    "\n",
    "\"\"\""
   ]
  },
  {
   "cell_type": "code",
   "execution_count": 25,
   "id": "0ba01cd1-34be-4cc7-b756-0d10d9125a97",
   "metadata": {},
   "outputs": [
    {
     "name": "stdout",
     "output_type": "stream",
     "text": [
      "2023-02-10 01:22:10,491 INFO sqlalchemy.engine.Engine \n",
      "\n",
      "INSERT INTO delicious_stocks (\n",
      "    'EAT',\n",
      "    'CAKE'\n",
      ")\n",
      "\n",
      "VALUES (\n",
      "    ?,\n",
      "    ?\n",
      ")\n",
      "\n",
      "\n",
      "2023-02-10 01:22:10,495 INFO sqlalchemy.engine.Engine [raw sql] ((10, 30), (20, 40))\n",
      "2023-02-10 01:22:10,495 INFO sqlalchemy.engine.Engine COMMIT\n"
     ]
    },
    {
     "data": {
      "text/plain": [
       "<sqlalchemy.engine.cursor.LegacyCursorResult at 0x1cfffc3a9d0>"
      ]
     },
     "execution_count": 25,
     "metadata": {},
     "output_type": "execute_result"
    }
   ],
   "source": [
    "engine.execute(\n",
    "    insert_data,\n",
    "    (\n",
    "        (\n",
    "            10,\n",
    "            30\n",
    "        )\n",
    "        ,\n",
    "        (\n",
    "            20,\n",
    "            40\n",
    "        )\n",
    "    )\n",
    ")"
   ]
  },
  {
   "cell_type": "code",
   "execution_count": 26,
   "id": "f00de0c3-72d6-47bf-81df-cbb00b0fd05c",
   "metadata": {},
   "outputs": [
    {
     "name": "stdout",
     "output_type": "stream",
     "text": [
      "2023-02-10 01:22:10,517 INFO sqlalchemy.engine.Engine PRAGMA main.table_info(\"delicious_stocks\")\n",
      "2023-02-10 01:22:10,519 INFO sqlalchemy.engine.Engine [raw sql] ()\n",
      "2023-02-10 01:22:10,523 INFO sqlalchemy.engine.Engine PRAGMA main.table_xinfo(\"delicious_stocks\")\n",
      "2023-02-10 01:22:10,523 INFO sqlalchemy.engine.Engine [raw sql] ()\n",
      "2023-02-10 01:22:10,527 INFO sqlalchemy.engine.Engine SELECT sql FROM  (SELECT * FROM sqlite_master UNION ALL   SELECT * FROM sqlite_temp_master) WHERE name = ? AND type = 'table'\n",
      "2023-02-10 01:22:10,528 INFO sqlalchemy.engine.Engine [raw sql] ('delicious_stocks',)\n",
      "2023-02-10 01:22:10,532 INFO sqlalchemy.engine.Engine PRAGMA main.foreign_key_list(\"delicious_stocks\")\n",
      "2023-02-10 01:22:10,534 INFO sqlalchemy.engine.Engine [raw sql] ()\n",
      "2023-02-10 01:22:10,536 INFO sqlalchemy.engine.Engine PRAGMA temp.foreign_key_list(\"delicious_stocks\")\n",
      "2023-02-10 01:22:10,536 INFO sqlalchemy.engine.Engine [raw sql] ()\n",
      "2023-02-10 01:22:10,538 INFO sqlalchemy.engine.Engine SELECT sql FROM  (SELECT * FROM sqlite_master UNION ALL   SELECT * FROM sqlite_temp_master) WHERE name = ? AND type = 'table'\n",
      "2023-02-10 01:22:10,540 INFO sqlalchemy.engine.Engine [raw sql] ('delicious_stocks',)\n",
      "2023-02-10 01:22:10,542 INFO sqlalchemy.engine.Engine PRAGMA main.index_list(\"delicious_stocks\")\n",
      "2023-02-10 01:22:10,543 INFO sqlalchemy.engine.Engine [raw sql] ()\n",
      "2023-02-10 01:22:10,543 INFO sqlalchemy.engine.Engine PRAGMA temp.index_list(\"delicious_stocks\")\n",
      "2023-02-10 01:22:10,546 INFO sqlalchemy.engine.Engine [raw sql] ()\n",
      "2023-02-10 01:22:10,546 INFO sqlalchemy.engine.Engine PRAGMA main.index_list(\"delicious_stocks\")\n",
      "2023-02-10 01:22:10,550 INFO sqlalchemy.engine.Engine [raw sql] ()\n",
      "2023-02-10 01:22:10,551 INFO sqlalchemy.engine.Engine PRAGMA temp.index_list(\"delicious_stocks\")\n",
      "2023-02-10 01:22:10,552 INFO sqlalchemy.engine.Engine [raw sql] ()\n",
      "2023-02-10 01:22:10,555 INFO sqlalchemy.engine.Engine SELECT sql FROM  (SELECT * FROM sqlite_master UNION ALL   SELECT * FROM sqlite_temp_master) WHERE name = ? AND type = 'table'\n",
      "2023-02-10 01:22:10,557 INFO sqlalchemy.engine.Engine [raw sql] ('delicious_stocks',)\n",
      "2023-02-10 01:22:10,560 INFO sqlalchemy.engine.Engine SELECT delicious_stocks.\"EAT\", delicious_stocks.\"CAKE\" \n",
      "FROM delicious_stocks\n",
      "2023-02-10 01:22:10,561 INFO sqlalchemy.engine.Engine [generated in 0.00111s] ()\n"
     ]
    },
    {
     "data": {
      "text/html": [
       "<div>\n",
       "<style scoped>\n",
       "    .dataframe tbody tr th:only-of-type {\n",
       "        vertical-align: middle;\n",
       "    }\n",
       "\n",
       "    .dataframe tbody tr th {\n",
       "        vertical-align: top;\n",
       "    }\n",
       "\n",
       "    .dataframe thead th {\n",
       "        text-align: right;\n",
       "    }\n",
       "</style>\n",
       "<table border=\"1\" class=\"dataframe\">\n",
       "  <thead>\n",
       "    <tr style=\"text-align: right;\">\n",
       "      <th></th>\n",
       "      <th>EAT</th>\n",
       "      <th>CAKE</th>\n",
       "    </tr>\n",
       "  </thead>\n",
       "  <tbody>\n",
       "    <tr>\n",
       "      <th>0</th>\n",
       "      <td>10</td>\n",
       "      <td>30</td>\n",
       "    </tr>\n",
       "    <tr>\n",
       "      <th>1</th>\n",
       "      <td>20</td>\n",
       "      <td>40</td>\n",
       "    </tr>\n",
       "  </tbody>\n",
       "</table>\n",
       "</div>"
      ],
      "text/plain": [
       "   EAT  CAKE\n",
       "0   10    30\n",
       "1   20    40"
      ]
     },
     "execution_count": 26,
     "metadata": {},
     "output_type": "execute_result"
    }
   ],
   "source": [
    "pd.read_sql_table(\n",
    "    'delicious_stocks',\n",
    "    con=engine\n",
    ")"
   ]
  },
  {
   "cell_type": "code",
   "execution_count": 27,
   "id": "8d10ecbb-4e93-441b-b5ac-e884bcd3233d",
   "metadata": {},
   "outputs": [
    {
     "name": "stdout",
     "output_type": "stream",
     "text": [
      "2023-02-10 01:22:10,585 INFO sqlalchemy.engine.Engine \n",
      "SELECT 'EAT', 'CAKE' FROM delicious_stocks\n",
      "\n",
      "2023-02-10 01:22:10,591 INFO sqlalchemy.engine.Engine [raw sql] ()\n"
     ]
    },
    {
     "data": {
      "text/plain": [
       "<sqlalchemy.engine.cursor.LegacyCursorResult at 0x1cfffc58430>"
      ]
     },
     "execution_count": 27,
     "metadata": {},
     "output_type": "execute_result"
    }
   ],
   "source": [
    "read_all_data = \"\"\"\n",
    "SELECT 'EAT', 'CAKE' FROM delicious_stocks\n",
    "\"\"\"\n",
    "\n",
    "engine.execute(\n",
    "    read_all_data\n",
    ")"
   ]
  },
  {
   "cell_type": "code",
   "execution_count": 29,
   "id": "20cb9ced-849e-4bda-98e9-3bdc7b7821d4",
   "metadata": {},
   "outputs": [
    {
     "name": "stdout",
     "output_type": "stream",
     "text": [
      "2023-02-10 01:23:58,513 INFO sqlalchemy.engine.Engine \n",
      "SELECT \"EAT\", \"CAKE\"\n",
      "FROM delicious_stocks\n",
      "\n",
      "2023-02-10 01:23:58,514 INFO sqlalchemy.engine.Engine [raw sql] ()\n",
      "(10, 30)\n",
      "(20, 40)\n"
     ]
    }
   ],
   "source": [
    "read_all_data = \"\"\"\n",
    "SELECT \"EAT\", \"CAKE\"\n",
    "FROM delicious_stocks\n",
    "\"\"\"\n",
    "\n",
    "results = engine.execute(\n",
    "    read_all_data\n",
    ")\n",
    "\n",
    "for row in results:\n",
    "    print(row)"
   ]
  },
  {
   "cell_type": "code",
   "execution_count": 30,
   "id": "b2f54aaf-65ff-4cbf-8372-22ff4f2752a9",
   "metadata": {},
   "outputs": [
    {
     "name": "stdout",
     "output_type": "stream",
     "text": [
      "2023-02-10 01:27:12,041 INFO sqlalchemy.engine.Engine \n",
      "SELECT \"EAT\", \"CAKE\"\n",
      "FROM delicious_stocks\n",
      "\n",
      "2023-02-10 01:27:12,042 INFO sqlalchemy.engine.Engine [raw sql] ()\n"
     ]
    },
    {
     "data": {
      "text/plain": [
       "[(10, 30), (20, 40)]"
      ]
     },
     "execution_count": 30,
     "metadata": {},
     "output_type": "execute_result"
    }
   ],
   "source": [
    "results = engine.execute(\n",
    "    read_all_data\n",
    ")\n",
    "list(results)"
   ]
  },
  {
   "cell_type": "code",
   "execution_count": 31,
   "id": "867a067a-e228-4a4e-a72b-ed9cb24eae05",
   "metadata": {},
   "outputs": [
    {
     "name": "stdout",
     "output_type": "stream",
     "text": [
      "2023-02-10 01:40:55,366 INFO sqlalchemy.engine.Engine \n",
      "SELECT * FROM delicious_stocks\n",
      "\n",
      "2023-02-10 01:40:55,368 INFO sqlalchemy.engine.Engine [raw sql] ()\n"
     ]
    },
    {
     "data": {
      "text/plain": [
       "[(10, 30), (20, 40)]"
      ]
     },
     "execution_count": 31,
     "metadata": {},
     "output_type": "execute_result"
    }
   ],
   "source": [
    "read_all_data = \"\"\"\n",
    "SELECT * FROM delicious_stocks\n",
    "\"\"\"\n",
    "\n",
    "results = engine.execute(\n",
    "    read_all_data\n",
    ")\n",
    "\n",
    "list(results)"
   ]
  },
  {
   "cell_type": "code",
   "execution_count": null,
   "id": "9e99e5f4-3ba0-4967-b59f-076265778c27",
   "metadata": {},
   "outputs": [],
   "source": []
  }
 ],
 "metadata": {
  "kernelspec": {
   "display_name": "Python (dev)",
   "language": "python",
   "name": "dev"
  },
  "language_info": {
   "codemirror_mode": {
    "name": "ipython",
    "version": 3
   },
   "file_extension": ".py",
   "mimetype": "text/x-python",
   "name": "python",
   "nbconvert_exporter": "python",
   "pygments_lexer": "ipython3",
   "version": "3.9.15"
  }
 },
 "nbformat": 4,
 "nbformat_minor": 5
}
