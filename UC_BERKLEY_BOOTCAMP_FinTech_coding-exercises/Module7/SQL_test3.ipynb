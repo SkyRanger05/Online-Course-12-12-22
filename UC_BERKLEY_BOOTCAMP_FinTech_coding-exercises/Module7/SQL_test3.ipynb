{
 "cells": [
  {
   "cell_type": "code",
   "execution_count": 1,
   "id": "553cbb80-0e73-4950-8d70-ec49af4a2c50",
   "metadata": {},
   "outputs": [],
   "source": [
    "import pandas as pd\n",
    "import sqlalchemy as sql"
   ]
  },
  {
   "cell_type": "code",
   "execution_count": 2,
   "id": "ffe59352-e4d1-475f-b168-4e459c577b8c",
   "metadata": {},
   "outputs": [],
   "source": [
    "database_connection_string = 'sqlite:///'"
   ]
  },
  {
   "cell_type": "code",
   "execution_count": 3,
   "id": "3aa1f7ad-6895-4a4a-a706-1cc116a9ce49",
   "metadata": {},
   "outputs": [
    {
     "data": {
      "text/plain": [
       "Engine(sqlite:///)"
      ]
     },
     "execution_count": 3,
     "metadata": {},
     "output_type": "execute_result"
    }
   ],
   "source": [
    "engine = sql.create_engine(\n",
    "    database_connection_string\n",
    ")\n",
    "\n",
    "engine"
   ]
  },
  {
   "cell_type": "code",
   "execution_count": 4,
   "id": "cd56e27d-04d6-4010-b78e-fe590dd0210c",
   "metadata": {},
   "outputs": [
    {
     "name": "stderr",
     "output_type": "stream",
     "text": [
      "C:\\Users\\admin\\AppData\\Local\\Temp\\ipykernel_17920\\4162273999.py:1: SADeprecationWarning: The Engine.table_names() method is deprecated and will be removed in a future release.  Please refer to Inspector.get_table_names(). (deprecated since: 1.4)\n",
      "  engine.table_names()\n"
     ]
    },
    {
     "data": {
      "text/plain": [
       "[]"
      ]
     },
     "execution_count": 4,
     "metadata": {},
     "output_type": "execute_result"
    }
   ],
   "source": [
    "engine.table_names()"
   ]
  },
  {
   "cell_type": "code",
   "execution_count": 5,
   "id": "77be20d3-642d-4037-b749-cdd4f61a8856",
   "metadata": {},
   "outputs": [
    {
     "data": {
      "text/html": [
       "<div>\n",
       "<style scoped>\n",
       "    .dataframe tbody tr th:only-of-type {\n",
       "        vertical-align: middle;\n",
       "    }\n",
       "\n",
       "    .dataframe tbody tr th {\n",
       "        vertical-align: top;\n",
       "    }\n",
       "\n",
       "    .dataframe thead th {\n",
       "        text-align: right;\n",
       "    }\n",
       "</style>\n",
       "<table border=\"1\" class=\"dataframe\">\n",
       "  <thead>\n",
       "    <tr style=\"text-align: right;\">\n",
       "      <th></th>\n",
       "      <th>AAPL</th>\n",
       "      <th>GOOG</th>\n",
       "    </tr>\n",
       "  </thead>\n",
       "  <tbody>\n",
       "    <tr>\n",
       "      <th>0</th>\n",
       "      <td>1</td>\n",
       "      <td>3</td>\n",
       "    </tr>\n",
       "    <tr>\n",
       "      <th>1</th>\n",
       "      <td>2</td>\n",
       "      <td>4</td>\n",
       "    </tr>\n",
       "  </tbody>\n",
       "</table>\n",
       "</div>"
      ],
      "text/plain": [
       "   AAPL  GOOG\n",
       "0     1     3\n",
       "1     2     4"
      ]
     },
     "execution_count": 5,
     "metadata": {},
     "output_type": "execute_result"
    }
   ],
   "source": [
    "stocks_dataframe = pd.DataFrame(\n",
    "    {\n",
    "        'AAPL': [\n",
    "            1,\n",
    "            2\n",
    "        ]\n",
    "        ,\n",
    "        'GOOG': [\n",
    "            3,\n",
    "            4\n",
    "        ]\n",
    "    }\n",
    ")\n",
    "\n",
    "stocks_dataframe"
   ]
  },
  {
   "cell_type": "code",
   "execution_count": 6,
   "id": "a03e6ef1-7e8a-466c-864d-9df097bfc52e",
   "metadata": {},
   "outputs": [
    {
     "data": {
      "text/plain": [
       "2"
      ]
     },
     "execution_count": 6,
     "metadata": {},
     "output_type": "execute_result"
    }
   ],
   "source": [
    "stocks_dataframe.to_sql(\n",
    "    'stocks',\n",
    "    engine\n",
    ")"
   ]
  },
  {
   "cell_type": "code",
   "execution_count": 7,
   "id": "6ac58756-4e77-4897-b92e-84844a6eaaf1",
   "metadata": {},
   "outputs": [
    {
     "name": "stderr",
     "output_type": "stream",
     "text": [
      "C:\\Users\\admin\\AppData\\Local\\Temp\\ipykernel_17920\\4162273999.py:1: SADeprecationWarning: The Engine.table_names() method is deprecated and will be removed in a future release.  Please refer to Inspector.get_table_names(). (deprecated since: 1.4)\n",
      "  engine.table_names()\n"
     ]
    },
    {
     "data": {
      "text/plain": [
       "['stocks']"
      ]
     },
     "execution_count": 7,
     "metadata": {},
     "output_type": "execute_result"
    }
   ],
   "source": [
    "engine.table_names()"
   ]
  },
  {
   "cell_type": "code",
   "execution_count": 8,
   "id": "fb07b842-3411-4882-90d2-899b68733635",
   "metadata": {
    "tags": []
   },
   "outputs": [
    {
     "data": {
      "text/html": [
       "<div>\n",
       "<style scoped>\n",
       "    .dataframe tbody tr th:only-of-type {\n",
       "        vertical-align: middle;\n",
       "    }\n",
       "\n",
       "    .dataframe tbody tr th {\n",
       "        vertical-align: top;\n",
       "    }\n",
       "\n",
       "    .dataframe thead th {\n",
       "        text-align: right;\n",
       "    }\n",
       "</style>\n",
       "<table border=\"1\" class=\"dataframe\">\n",
       "  <thead>\n",
       "    <tr style=\"text-align: right;\">\n",
       "      <th></th>\n",
       "      <th>index</th>\n",
       "      <th>AAPL</th>\n",
       "      <th>GOOG</th>\n",
       "    </tr>\n",
       "  </thead>\n",
       "  <tbody>\n",
       "    <tr>\n",
       "      <th>0</th>\n",
       "      <td>0</td>\n",
       "      <td>1</td>\n",
       "      <td>3</td>\n",
       "    </tr>\n",
       "    <tr>\n",
       "      <th>1</th>\n",
       "      <td>1</td>\n",
       "      <td>2</td>\n",
       "      <td>4</td>\n",
       "    </tr>\n",
       "  </tbody>\n",
       "</table>\n",
       "</div>"
      ],
      "text/plain": [
       "   index  AAPL  GOOG\n",
       "0      0     1     3\n",
       "1      1     2     4"
      ]
     },
     "execution_count": 8,
     "metadata": {},
     "output_type": "execute_result"
    }
   ],
   "source": [
    "sql_stocks_df = pd.read_sql_table(\n",
    "    'stocks',\n",
    "    con= engine\n",
    ")\n",
    "\n",
    "sql_stocks_df"
   ]
  },
  {
   "cell_type": "code",
   "execution_count": 9,
   "id": "952805f8-7407-40cc-aaf6-7215ddbd69b0",
   "metadata": {},
   "outputs": [
    {
     "data": {
      "text/plain": [
       "2"
      ]
     },
     "execution_count": 9,
     "metadata": {},
     "output_type": "execute_result"
    }
   ],
   "source": [
    "stocks_dataframe.to_sql(\n",
    "    'stocks',\n",
    "    engine,\n",
    "    index= False,\n",
    "    if_exists= 'replace'\n",
    ")"
   ]
  },
  {
   "cell_type": "code",
   "execution_count": 10,
   "id": "570e2e7b-be49-4b99-82e2-e445037315ee",
   "metadata": {},
   "outputs": [
    {
     "data": {
      "text/html": [
       "<div>\n",
       "<style scoped>\n",
       "    .dataframe tbody tr th:only-of-type {\n",
       "        vertical-align: middle;\n",
       "    }\n",
       "\n",
       "    .dataframe tbody tr th {\n",
       "        vertical-align: top;\n",
       "    }\n",
       "\n",
       "    .dataframe thead th {\n",
       "        text-align: right;\n",
       "    }\n",
       "</style>\n",
       "<table border=\"1\" class=\"dataframe\">\n",
       "  <thead>\n",
       "    <tr style=\"text-align: right;\">\n",
       "      <th></th>\n",
       "      <th>AAPL</th>\n",
       "      <th>GOOG</th>\n",
       "    </tr>\n",
       "  </thead>\n",
       "  <tbody>\n",
       "    <tr>\n",
       "      <th>0</th>\n",
       "      <td>1</td>\n",
       "      <td>3</td>\n",
       "    </tr>\n",
       "    <tr>\n",
       "      <th>1</th>\n",
       "      <td>2</td>\n",
       "      <td>4</td>\n",
       "    </tr>\n",
       "  </tbody>\n",
       "</table>\n",
       "</div>"
      ],
      "text/plain": [
       "   AAPL  GOOG\n",
       "0     1     3\n",
       "1     2     4"
      ]
     },
     "execution_count": 10,
     "metadata": {},
     "output_type": "execute_result"
    }
   ],
   "source": [
    "sql_stocks_df = pd.read_sql_table(\n",
    "    'stocks',\n",
    "    con= engine\n",
    ")\n",
    "\n",
    "sql_stocks_df"
   ]
  },
  {
   "cell_type": "markdown",
   "id": "badf2061-9c9e-497f-b5df-a772f0cea24d",
   "metadata": {},
   "source": [
    "___"
   ]
  },
  {
   "cell_type": "markdown",
   "id": "0aaa98fa-0356-4d74-ac26-0cca04c4acb8",
   "metadata": {},
   "source": [
    "# Skill Drill"
   ]
  },
  {
   "cell_type": "code",
   "execution_count": 11,
   "id": "fc41671e-b2d2-4da5-9afa-bddcad2d9a44",
   "metadata": {},
   "outputs": [
    {
     "data": {
      "text/plain": [
       "Engine(sqlite:///)"
      ]
     },
     "execution_count": 11,
     "metadata": {},
     "output_type": "execute_result"
    }
   ],
   "source": [
    "database_connection_string = 'sqlite:///'\n",
    "\n",
    "engine = sql.create_engine(\n",
    "    database_connection_string\n",
    ")\n",
    "\n",
    "engine"
   ]
  },
  {
   "cell_type": "code",
   "execution_count": 12,
   "id": "22141e31-39d5-4319-b985-205fd10a8df9",
   "metadata": {},
   "outputs": [
    {
     "data": {
      "text/html": [
       "<div>\n",
       "<style scoped>\n",
       "    .dataframe tbody tr th:only-of-type {\n",
       "        vertical-align: middle;\n",
       "    }\n",
       "\n",
       "    .dataframe tbody tr th {\n",
       "        vertical-align: top;\n",
       "    }\n",
       "\n",
       "    .dataframe thead th {\n",
       "        text-align: right;\n",
       "    }\n",
       "</style>\n",
       "<table border=\"1\" class=\"dataframe\">\n",
       "  <thead>\n",
       "    <tr style=\"text-align: right;\">\n",
       "      <th></th>\n",
       "      <th>MSFT</th>\n",
       "      <th>TSLA</th>\n",
       "    </tr>\n",
       "  </thead>\n",
       "  <tbody>\n",
       "    <tr>\n",
       "      <th>0</th>\n",
       "      <td>5</td>\n",
       "      <td>7</td>\n",
       "    </tr>\n",
       "    <tr>\n",
       "      <th>1</th>\n",
       "      <td>6</td>\n",
       "      <td>8</td>\n",
       "    </tr>\n",
       "  </tbody>\n",
       "</table>\n",
       "</div>"
      ],
      "text/plain": [
       "   MSFT  TSLA\n",
       "0     5     7\n",
       "1     6     8"
      ]
     },
     "execution_count": 12,
     "metadata": {},
     "output_type": "execute_result"
    }
   ],
   "source": [
    "stocks_df = pd.DataFrame(\n",
    "    {\n",
    "        'MSFT': [\n",
    "            5,\n",
    "            6\n",
    "        ]\n",
    "        ,\n",
    "        'TSLA': [\n",
    "            7,\n",
    "            8\n",
    "        ]\n",
    "    }\n",
    ")\n",
    "\n",
    "stocks_df"
   ]
  },
  {
   "cell_type": "code",
   "execution_count": 13,
   "id": "4fae365c-a917-4fee-b7ef-c20bc51ed9f9",
   "metadata": {},
   "outputs": [
    {
     "data": {
      "text/plain": [
       "2"
      ]
     },
     "execution_count": 13,
     "metadata": {},
     "output_type": "execute_result"
    }
   ],
   "source": [
    "stocks_df.to_sql(\n",
    "    'stocks',\n",
    "    engine\n",
    ")"
   ]
  },
  {
   "cell_type": "code",
   "execution_count": 14,
   "id": "11a3e6c3-07fd-4456-84cb-b1ac5283c0ec",
   "metadata": {},
   "outputs": [
    {
     "name": "stderr",
     "output_type": "stream",
     "text": [
      "C:\\Users\\admin\\AppData\\Local\\Temp\\ipykernel_17920\\4162273999.py:1: SADeprecationWarning: The Engine.table_names() method is deprecated and will be removed in a future release.  Please refer to Inspector.get_table_names(). (deprecated since: 1.4)\n",
      "  engine.table_names()\n"
     ]
    },
    {
     "data": {
      "text/plain": [
       "['stocks']"
      ]
     },
     "execution_count": 14,
     "metadata": {},
     "output_type": "execute_result"
    }
   ],
   "source": [
    "engine.table_names()"
   ]
  },
  {
   "cell_type": "code",
   "execution_count": 15,
   "id": "53b83c8e-2dff-49b3-9d0e-5df3a0b3c2f3",
   "metadata": {},
   "outputs": [
    {
     "data": {
      "text/html": [
       "<div>\n",
       "<style scoped>\n",
       "    .dataframe tbody tr th:only-of-type {\n",
       "        vertical-align: middle;\n",
       "    }\n",
       "\n",
       "    .dataframe tbody tr th {\n",
       "        vertical-align: top;\n",
       "    }\n",
       "\n",
       "    .dataframe thead th {\n",
       "        text-align: right;\n",
       "    }\n",
       "</style>\n",
       "<table border=\"1\" class=\"dataframe\">\n",
       "  <thead>\n",
       "    <tr style=\"text-align: right;\">\n",
       "      <th></th>\n",
       "      <th>index</th>\n",
       "      <th>MSFT</th>\n",
       "      <th>TSLA</th>\n",
       "    </tr>\n",
       "  </thead>\n",
       "  <tbody>\n",
       "    <tr>\n",
       "      <th>0</th>\n",
       "      <td>0</td>\n",
       "      <td>5</td>\n",
       "      <td>7</td>\n",
       "    </tr>\n",
       "    <tr>\n",
       "      <th>1</th>\n",
       "      <td>1</td>\n",
       "      <td>6</td>\n",
       "      <td>8</td>\n",
       "    </tr>\n",
       "  </tbody>\n",
       "</table>\n",
       "</div>"
      ],
      "text/plain": [
       "   index  MSFT  TSLA\n",
       "0      0     5     7\n",
       "1      1     6     8"
      ]
     },
     "execution_count": 15,
     "metadata": {},
     "output_type": "execute_result"
    }
   ],
   "source": [
    "sql_stocks_df = pd.read_sql_table(\n",
    "    'stocks',\n",
    "    con = engine\n",
    ")\n",
    "\n",
    "sql_stocks_df"
   ]
  },
  {
   "cell_type": "markdown",
   "id": "5c234ee8-252e-4046-acf4-d49cf694e2af",
   "metadata": {},
   "source": [
    "___"
   ]
  },
  {
   "cell_type": "code",
   "execution_count": 16,
   "id": "3b15da33-2df9-48de-a502-64bbdd2a1bf3",
   "metadata": {},
   "outputs": [
    {
     "data": {
      "text/plain": [
       "Engine(sqlite:///)"
      ]
     },
     "execution_count": 16,
     "metadata": {},
     "output_type": "execute_result"
    }
   ],
   "source": [
    "database_connection_string = 'sqlite:///'\n",
    "\n",
    "engine = sql.create_engine(\n",
    "    database_connection_string,\n",
    "    echo = True\n",
    ")\n",
    "\n",
    "engine"
   ]
  },
  {
   "cell_type": "code",
   "execution_count": 17,
   "id": "d70cbab5-0d14-4fc9-a61e-164c5e9e97ba",
   "metadata": {},
   "outputs": [
    {
     "data": {
      "text/html": [
       "<div>\n",
       "<style scoped>\n",
       "    .dataframe tbody tr th:only-of-type {\n",
       "        vertical-align: middle;\n",
       "    }\n",
       "\n",
       "    .dataframe tbody tr th {\n",
       "        vertical-align: top;\n",
       "    }\n",
       "\n",
       "    .dataframe thead th {\n",
       "        text-align: right;\n",
       "    }\n",
       "</style>\n",
       "<table border=\"1\" class=\"dataframe\">\n",
       "  <thead>\n",
       "    <tr style=\"text-align: right;\">\n",
       "      <th></th>\n",
       "      <th>AAPL</th>\n",
       "      <th>GOOG</th>\n",
       "    </tr>\n",
       "  </thead>\n",
       "  <tbody>\n",
       "    <tr>\n",
       "      <th>0</th>\n",
       "      <td>1</td>\n",
       "      <td>3</td>\n",
       "    </tr>\n",
       "    <tr>\n",
       "      <th>1</th>\n",
       "      <td>2</td>\n",
       "      <td>4</td>\n",
       "    </tr>\n",
       "  </tbody>\n",
       "</table>\n",
       "</div>"
      ],
      "text/plain": [
       "   AAPL  GOOG\n",
       "0     1     3\n",
       "1     2     4"
      ]
     },
     "execution_count": 17,
     "metadata": {},
     "output_type": "execute_result"
    }
   ],
   "source": [
    "stocks_dataframe"
   ]
  },
  {
   "cell_type": "code",
   "execution_count": 18,
   "id": "f08c66ad-9199-46b0-87a1-9b025549607b",
   "metadata": {},
   "outputs": [
    {
     "name": "stdout",
     "output_type": "stream",
     "text": [
      "2023-02-10 08:25:47,579 INFO sqlalchemy.engine.Engine PRAGMA main.table_info(\"stocks\")\n",
      "2023-02-10 08:25:47,583 INFO sqlalchemy.engine.Engine [raw sql] ()\n",
      "2023-02-10 08:25:47,586 INFO sqlalchemy.engine.Engine PRAGMA temp.table_info(\"stocks\")\n",
      "2023-02-10 08:25:47,587 INFO sqlalchemy.engine.Engine [raw sql] ()\n",
      "2023-02-10 08:25:47,589 INFO sqlalchemy.engine.Engine BEGIN (implicit)\n",
      "2023-02-10 08:25:47,593 INFO sqlalchemy.engine.Engine \n",
      "CREATE TABLE stocks (\n",
      "\t\"AAPL\" BIGINT, \n",
      "\t\"GOOG\" BIGINT\n",
      ")\n",
      "\n",
      "\n",
      "2023-02-10 08:25:47,593 INFO sqlalchemy.engine.Engine [no key 0.00207s] ()\n",
      "2023-02-10 08:25:47,593 INFO sqlalchemy.engine.Engine COMMIT\n",
      "2023-02-10 08:25:47,593 INFO sqlalchemy.engine.Engine BEGIN (implicit)\n",
      "2023-02-10 08:25:47,593 INFO sqlalchemy.engine.Engine INSERT INTO stocks (\"AAPL\", \"GOOG\") VALUES (?, ?)\n",
      "2023-02-10 08:25:47,601 INFO sqlalchemy.engine.Engine [generated in 0.00163s] ((1, 3), (2, 4))\n",
      "2023-02-10 08:25:47,601 INFO sqlalchemy.engine.Engine COMMIT\n"
     ]
    },
    {
     "data": {
      "text/plain": [
       "2"
      ]
     },
     "execution_count": 18,
     "metadata": {},
     "output_type": "execute_result"
    }
   ],
   "source": [
    "stocks_dataframe.to_sql(\n",
    "    'stocks',\n",
    "    engine,\n",
    "    index=False,\n",
    "    if_exists='replace'\n",
    ")"
   ]
  },
  {
   "cell_type": "code",
   "execution_count": 19,
   "id": "0a25b879-8838-4e87-8b79-e16a7d79a908",
   "metadata": {},
   "outputs": [
    {
     "data": {
      "text/plain": [
       "\"\\nCREATE TABLE stocks (\\n    'AAPL' BIGINT,\\n    'GOOG' BIGINT\\n)\\n\\n\""
      ]
     },
     "execution_count": 19,
     "metadata": {},
     "output_type": "execute_result"
    }
   ],
   "source": [
    "create_table = \"\"\"\n",
    "CREATE TABLE stocks (\n",
    "    'AAPL' BIGINT,\n",
    "    'GOOG' BIGINT\n",
    ")\n",
    "\n",
    "\"\"\"\n",
    "\n",
    "create_table"
   ]
  },
  {
   "cell_type": "markdown",
   "id": "3b64f97d-4c44-48dc-8321-95b9db328114",
   "metadata": {},
   "source": [
    "___"
   ]
  },
  {
   "cell_type": "code",
   "execution_count": 20,
   "id": "e0977550-a067-452e-b05e-2b15a12484db",
   "metadata": {},
   "outputs": [
    {
     "data": {
      "text/plain": [
       "\"\\n\\nCREATE TABLE delicious_stocks (\\n    'EAT' BIGINT,\\n    'CAKE' BIGINT\\n)\\n\\n\""
      ]
     },
     "execution_count": 20,
     "metadata": {},
     "output_type": "execute_result"
    }
   ],
   "source": [
    "create_table = \"\"\"\n",
    "\n",
    "CREATE TABLE delicious_stocks (\n",
    "    'EAT' BIGINT,\n",
    "    'CAKE' BIGINT\n",
    ")\n",
    "\n",
    "\"\"\"\n",
    "\n",
    "create_table"
   ]
  },
  {
   "cell_type": "code",
   "execution_count": 21,
   "id": "cf0d464a-34ec-492a-b3be-d7cb1edf24fe",
   "metadata": {},
   "outputs": [
    {
     "name": "stdout",
     "output_type": "stream",
     "text": [
      "2023-02-10 08:25:47,674 INFO sqlalchemy.engine.Engine \n",
      "\n",
      "CREATE TABLE delicious_stocks (\n",
      "    'EAT' BIGINT,\n",
      "    'CAKE' BIGINT\n",
      ")\n",
      "\n",
      "\n",
      "2023-02-10 08:25:47,674 INFO sqlalchemy.engine.Engine [raw sql] ()\n",
      "2023-02-10 08:25:47,674 INFO sqlalchemy.engine.Engine COMMIT\n"
     ]
    },
    {
     "data": {
      "text/plain": [
       "<sqlalchemy.engine.cursor.LegacyCursorResult at 0x144f2916b80>"
      ]
     },
     "execution_count": 21,
     "metadata": {},
     "output_type": "execute_result"
    }
   ],
   "source": [
    "engine.execute(\n",
    "    create_table\n",
    ")"
   ]
  },
  {
   "cell_type": "code",
   "execution_count": 22,
   "id": "6042ff9b-4a0e-4776-88f8-9597b0db3768",
   "metadata": {},
   "outputs": [
    {
     "name": "stdout",
     "output_type": "stream",
     "text": [
      "2023-02-10 08:25:47,706 INFO sqlalchemy.engine.Engine SELECT name FROM sqlite_master WHERE type='table' ORDER BY name\n",
      "2023-02-10 08:25:47,706 INFO sqlalchemy.engine.Engine [raw sql] ()\n"
     ]
    },
    {
     "name": "stderr",
     "output_type": "stream",
     "text": [
      "C:\\Users\\admin\\AppData\\Local\\Temp\\ipykernel_17920\\4162273999.py:1: SADeprecationWarning: The Engine.table_names() method is deprecated and will be removed in a future release.  Please refer to Inspector.get_table_names(). (deprecated since: 1.4)\n",
      "  engine.table_names()\n"
     ]
    },
    {
     "data": {
      "text/plain": [
       "['delicious_stocks', 'stocks']"
      ]
     },
     "execution_count": 22,
     "metadata": {},
     "output_type": "execute_result"
    }
   ],
   "source": [
    "engine.table_names()"
   ]
  },
  {
   "cell_type": "code",
   "execution_count": 23,
   "id": "a39f88d5-b987-46a7-b929-9e08ff6f7ac4",
   "metadata": {},
   "outputs": [
    {
     "name": "stdout",
     "output_type": "stream",
     "text": [
      "2023-02-10 08:25:47,723 INFO sqlalchemy.engine.Engine PRAGMA main.table_info(\"delicious_stocks\")\n",
      "2023-02-10 08:25:47,731 INFO sqlalchemy.engine.Engine [raw sql] ()\n",
      "2023-02-10 08:25:47,734 INFO sqlalchemy.engine.Engine PRAGMA main.table_xinfo(\"delicious_stocks\")\n",
      "2023-02-10 08:25:47,735 INFO sqlalchemy.engine.Engine [raw sql] ()\n",
      "2023-02-10 08:25:47,736 INFO sqlalchemy.engine.Engine SELECT sql FROM  (SELECT * FROM sqlite_master UNION ALL   SELECT * FROM sqlite_temp_master) WHERE name = ? AND type = 'table'\n",
      "2023-02-10 08:25:47,739 INFO sqlalchemy.engine.Engine [raw sql] ('delicious_stocks',)\n",
      "2023-02-10 08:25:47,743 INFO sqlalchemy.engine.Engine PRAGMA main.foreign_key_list(\"delicious_stocks\")\n",
      "2023-02-10 08:25:47,743 INFO sqlalchemy.engine.Engine [raw sql] ()\n",
      "2023-02-10 08:25:47,743 INFO sqlalchemy.engine.Engine PRAGMA temp.foreign_key_list(\"delicious_stocks\")\n",
      "2023-02-10 08:25:47,743 INFO sqlalchemy.engine.Engine [raw sql] ()\n",
      "2023-02-10 08:25:47,747 INFO sqlalchemy.engine.Engine SELECT sql FROM  (SELECT * FROM sqlite_master UNION ALL   SELECT * FROM sqlite_temp_master) WHERE name = ? AND type = 'table'\n",
      "2023-02-10 08:25:47,747 INFO sqlalchemy.engine.Engine [raw sql] ('delicious_stocks',)\n",
      "2023-02-10 08:25:47,752 INFO sqlalchemy.engine.Engine PRAGMA main.index_list(\"delicious_stocks\")\n",
      "2023-02-10 08:25:47,754 INFO sqlalchemy.engine.Engine [raw sql] ()\n",
      "2023-02-10 08:25:47,757 INFO sqlalchemy.engine.Engine PRAGMA temp.index_list(\"delicious_stocks\")\n",
      "2023-02-10 08:25:47,758 INFO sqlalchemy.engine.Engine [raw sql] ()\n",
      "2023-02-10 08:25:47,760 INFO sqlalchemy.engine.Engine PRAGMA main.index_list(\"delicious_stocks\")\n",
      "2023-02-10 08:25:47,760 INFO sqlalchemy.engine.Engine [raw sql] ()\n",
      "2023-02-10 08:25:47,764 INFO sqlalchemy.engine.Engine PRAGMA temp.index_list(\"delicious_stocks\")\n",
      "2023-02-10 08:25:47,764 INFO sqlalchemy.engine.Engine [raw sql] ()\n",
      "2023-02-10 08:25:47,764 INFO sqlalchemy.engine.Engine SELECT sql FROM  (SELECT * FROM sqlite_master UNION ALL   SELECT * FROM sqlite_temp_master) WHERE name = ? AND type = 'table'\n",
      "2023-02-10 08:25:47,768 INFO sqlalchemy.engine.Engine [raw sql] ('delicious_stocks',)\n",
      "2023-02-10 08:25:47,773 INFO sqlalchemy.engine.Engine SELECT delicious_stocks.\"EAT\", delicious_stocks.\"CAKE\" \n",
      "FROM delicious_stocks\n",
      "2023-02-10 08:25:47,773 INFO sqlalchemy.engine.Engine [generated in 0.00177s] ()\n"
     ]
    },
    {
     "data": {
      "text/html": [
       "<div>\n",
       "<style scoped>\n",
       "    .dataframe tbody tr th:only-of-type {\n",
       "        vertical-align: middle;\n",
       "    }\n",
       "\n",
       "    .dataframe tbody tr th {\n",
       "        vertical-align: top;\n",
       "    }\n",
       "\n",
       "    .dataframe thead th {\n",
       "        text-align: right;\n",
       "    }\n",
       "</style>\n",
       "<table border=\"1\" class=\"dataframe\">\n",
       "  <thead>\n",
       "    <tr style=\"text-align: right;\">\n",
       "      <th></th>\n",
       "      <th>EAT</th>\n",
       "      <th>CAKE</th>\n",
       "    </tr>\n",
       "  </thead>\n",
       "  <tbody>\n",
       "  </tbody>\n",
       "</table>\n",
       "</div>"
      ],
      "text/plain": [
       "Empty DataFrame\n",
       "Columns: [EAT, CAKE]\n",
       "Index: []"
      ]
     },
     "execution_count": 23,
     "metadata": {},
     "output_type": "execute_result"
    }
   ],
   "source": [
    "pd.read_sql_table(\n",
    "    'delicious_stocks',\n",
    "    con=engine\n",
    ")"
   ]
  },
  {
   "cell_type": "code",
   "execution_count": 24,
   "id": "f7c413e4-36d5-45b8-94b8-b74ef25e197e",
   "metadata": {},
   "outputs": [],
   "source": [
    "insert_data = \"\"\"\n",
    "\n",
    "INSERT INTO delicious_stocks (\n",
    "    'EAT',\n",
    "    'CAKE'\n",
    ")\n",
    "\n",
    "VALUES (\n",
    "    ?,\n",
    "    ?\n",
    ")\n",
    "\n",
    "\"\"\""
   ]
  },
  {
   "cell_type": "code",
   "execution_count": 25,
   "id": "0ba01cd1-34be-4cc7-b756-0d10d9125a97",
   "metadata": {},
   "outputs": [
    {
     "name": "stdout",
     "output_type": "stream",
     "text": [
      "2023-02-10 08:25:47,830 INFO sqlalchemy.engine.Engine \n",
      "\n",
      "INSERT INTO delicious_stocks (\n",
      "    'EAT',\n",
      "    'CAKE'\n",
      ")\n",
      "\n",
      "VALUES (\n",
      "    ?,\n",
      "    ?\n",
      ")\n",
      "\n",
      "\n",
      "2023-02-10 08:25:47,832 INFO sqlalchemy.engine.Engine [raw sql] ((10, 30), (20, 40))\n",
      "2023-02-10 08:25:47,832 INFO sqlalchemy.engine.Engine COMMIT\n"
     ]
    },
    {
     "data": {
      "text/plain": [
       "<sqlalchemy.engine.cursor.LegacyCursorResult at 0x144f53a2760>"
      ]
     },
     "execution_count": 25,
     "metadata": {},
     "output_type": "execute_result"
    }
   ],
   "source": [
    "engine.execute(\n",
    "    insert_data,\n",
    "    (\n",
    "        (\n",
    "            10,\n",
    "            30\n",
    "        )\n",
    "        ,\n",
    "        (\n",
    "            20,\n",
    "            40\n",
    "        )\n",
    "    )\n",
    ")"
   ]
  },
  {
   "cell_type": "code",
   "execution_count": 26,
   "id": "f00de0c3-72d6-47bf-81df-cbb00b0fd05c",
   "metadata": {},
   "outputs": [
    {
     "name": "stdout",
     "output_type": "stream",
     "text": [
      "2023-02-10 08:25:47,850 INFO sqlalchemy.engine.Engine PRAGMA main.table_info(\"delicious_stocks\")\n",
      "2023-02-10 08:25:47,855 INFO sqlalchemy.engine.Engine [raw sql] ()\n",
      "2023-02-10 08:25:47,858 INFO sqlalchemy.engine.Engine PRAGMA main.table_xinfo(\"delicious_stocks\")\n",
      "2023-02-10 08:25:47,858 INFO sqlalchemy.engine.Engine [raw sql] ()\n",
      "2023-02-10 08:25:47,862 INFO sqlalchemy.engine.Engine SELECT sql FROM  (SELECT * FROM sqlite_master UNION ALL   SELECT * FROM sqlite_temp_master) WHERE name = ? AND type = 'table'\n",
      "2023-02-10 08:25:47,864 INFO sqlalchemy.engine.Engine [raw sql] ('delicious_stocks',)\n",
      "2023-02-10 08:25:47,864 INFO sqlalchemy.engine.Engine PRAGMA main.foreign_key_list(\"delicious_stocks\")\n",
      "2023-02-10 08:25:47,864 INFO sqlalchemy.engine.Engine [raw sql] ()\n",
      "2023-02-10 08:25:47,864 INFO sqlalchemy.engine.Engine PRAGMA temp.foreign_key_list(\"delicious_stocks\")\n",
      "2023-02-10 08:25:47,869 INFO sqlalchemy.engine.Engine [raw sql] ()\n",
      "2023-02-10 08:25:47,871 INFO sqlalchemy.engine.Engine SELECT sql FROM  (SELECT * FROM sqlite_master UNION ALL   SELECT * FROM sqlite_temp_master) WHERE name = ? AND type = 'table'\n",
      "2023-02-10 08:25:47,871 INFO sqlalchemy.engine.Engine [raw sql] ('delicious_stocks',)\n",
      "2023-02-10 08:25:47,875 INFO sqlalchemy.engine.Engine PRAGMA main.index_list(\"delicious_stocks\")\n",
      "2023-02-10 08:25:47,877 INFO sqlalchemy.engine.Engine [raw sql] ()\n",
      "2023-02-10 08:25:47,877 INFO sqlalchemy.engine.Engine PRAGMA temp.index_list(\"delicious_stocks\")\n",
      "2023-02-10 08:25:47,879 INFO sqlalchemy.engine.Engine [raw sql] ()\n",
      "2023-02-10 08:25:47,879 INFO sqlalchemy.engine.Engine PRAGMA main.index_list(\"delicious_stocks\")\n",
      "2023-02-10 08:25:47,879 INFO sqlalchemy.engine.Engine [raw sql] ()\n",
      "2023-02-10 08:25:47,879 INFO sqlalchemy.engine.Engine PRAGMA temp.index_list(\"delicious_stocks\")\n",
      "2023-02-10 08:25:47,879 INFO sqlalchemy.engine.Engine [raw sql] ()\n",
      "2023-02-10 08:25:47,888 INFO sqlalchemy.engine.Engine SELECT sql FROM  (SELECT * FROM sqlite_master UNION ALL   SELECT * FROM sqlite_temp_master) WHERE name = ? AND type = 'table'\n",
      "2023-02-10 08:25:47,889 INFO sqlalchemy.engine.Engine [raw sql] ('delicious_stocks',)\n",
      "2023-02-10 08:25:47,889 INFO sqlalchemy.engine.Engine SELECT delicious_stocks.\"EAT\", delicious_stocks.\"CAKE\" \n",
      "FROM delicious_stocks\n",
      "2023-02-10 08:25:47,895 INFO sqlalchemy.engine.Engine [generated in 0.00124s] ()\n"
     ]
    },
    {
     "data": {
      "text/html": [
       "<div>\n",
       "<style scoped>\n",
       "    .dataframe tbody tr th:only-of-type {\n",
       "        vertical-align: middle;\n",
       "    }\n",
       "\n",
       "    .dataframe tbody tr th {\n",
       "        vertical-align: top;\n",
       "    }\n",
       "\n",
       "    .dataframe thead th {\n",
       "        text-align: right;\n",
       "    }\n",
       "</style>\n",
       "<table border=\"1\" class=\"dataframe\">\n",
       "  <thead>\n",
       "    <tr style=\"text-align: right;\">\n",
       "      <th></th>\n",
       "      <th>EAT</th>\n",
       "      <th>CAKE</th>\n",
       "    </tr>\n",
       "  </thead>\n",
       "  <tbody>\n",
       "    <tr>\n",
       "      <th>0</th>\n",
       "      <td>10</td>\n",
       "      <td>30</td>\n",
       "    </tr>\n",
       "    <tr>\n",
       "      <th>1</th>\n",
       "      <td>20</td>\n",
       "      <td>40</td>\n",
       "    </tr>\n",
       "  </tbody>\n",
       "</table>\n",
       "</div>"
      ],
      "text/plain": [
       "   EAT  CAKE\n",
       "0   10    30\n",
       "1   20    40"
      ]
     },
     "execution_count": 26,
     "metadata": {},
     "output_type": "execute_result"
    }
   ],
   "source": [
    "pd.read_sql_table(\n",
    "    'delicious_stocks',\n",
    "    con=engine\n",
    ")"
   ]
  },
  {
   "cell_type": "code",
   "execution_count": 27,
   "id": "8d10ecbb-4e93-441b-b5ac-e884bcd3233d",
   "metadata": {},
   "outputs": [
    {
     "name": "stdout",
     "output_type": "stream",
     "text": [
      "2023-02-10 08:25:47,922 INFO sqlalchemy.engine.Engine \n",
      "SELECT 'EAT', 'CAKE' FROM delicious_stocks\n",
      "\n",
      "2023-02-10 08:25:47,924 INFO sqlalchemy.engine.Engine [raw sql] ()\n"
     ]
    },
    {
     "data": {
      "text/plain": [
       "<sqlalchemy.engine.cursor.LegacyCursorResult at 0x144f53a2f10>"
      ]
     },
     "execution_count": 27,
     "metadata": {},
     "output_type": "execute_result"
    }
   ],
   "source": [
    "read_all_data = \"\"\"\n",
    "SELECT 'EAT', 'CAKE' FROM delicious_stocks\n",
    "\"\"\"\n",
    "\n",
    "engine.execute(\n",
    "    read_all_data\n",
    ")"
   ]
  },
  {
   "cell_type": "code",
   "execution_count": 28,
   "id": "20cb9ced-849e-4bda-98e9-3bdc7b7821d4",
   "metadata": {},
   "outputs": [
    {
     "name": "stdout",
     "output_type": "stream",
     "text": [
      "2023-02-10 08:25:47,944 INFO sqlalchemy.engine.Engine \n",
      "SELECT \"EAT\", \"CAKE\"\n",
      "FROM delicious_stocks\n",
      "\n",
      "2023-02-10 08:25:47,946 INFO sqlalchemy.engine.Engine [raw sql] ()\n",
      "(10, 30)\n",
      "(20, 40)\n"
     ]
    }
   ],
   "source": [
    "read_all_data = \"\"\"\n",
    "SELECT \"EAT\", \"CAKE\"\n",
    "FROM delicious_stocks\n",
    "\"\"\"\n",
    "\n",
    "results = engine.execute(\n",
    "    read_all_data\n",
    ")\n",
    "\n",
    "for row in results:\n",
    "    print(row)"
   ]
  },
  {
   "cell_type": "code",
   "execution_count": 29,
   "id": "b2f54aaf-65ff-4cbf-8372-22ff4f2752a9",
   "metadata": {},
   "outputs": [
    {
     "name": "stdout",
     "output_type": "stream",
     "text": [
      "2023-02-10 08:25:47,968 INFO sqlalchemy.engine.Engine \n",
      "SELECT \"EAT\", \"CAKE\"\n",
      "FROM delicious_stocks\n",
      "\n",
      "2023-02-10 08:25:47,968 INFO sqlalchemy.engine.Engine [raw sql] ()\n"
     ]
    },
    {
     "data": {
      "text/plain": [
       "[(10, 30), (20, 40)]"
      ]
     },
     "execution_count": 29,
     "metadata": {},
     "output_type": "execute_result"
    }
   ],
   "source": [
    "results = engine.execute(\n",
    "    read_all_data\n",
    ")\n",
    "list(results)"
   ]
  },
  {
   "cell_type": "code",
   "execution_count": 30,
   "id": "867a067a-e228-4a4e-a72b-ed9cb24eae05",
   "metadata": {},
   "outputs": [
    {
     "name": "stdout",
     "output_type": "stream",
     "text": [
      "2023-02-10 08:25:47,997 INFO sqlalchemy.engine.Engine \n",
      "SELECT * FROM delicious_stocks\n",
      "\n",
      "2023-02-10 08:25:47,999 INFO sqlalchemy.engine.Engine [raw sql] ()\n"
     ]
    },
    {
     "data": {
      "text/plain": [
       "[(10, 30), (20, 40)]"
      ]
     },
     "execution_count": 30,
     "metadata": {},
     "output_type": "execute_result"
    }
   ],
   "source": [
    "read_all_data = \"\"\"\n",
    "SELECT * FROM delicious_stocks\n",
    "\"\"\"\n",
    "\n",
    "results = engine.execute(\n",
    "    read_all_data\n",
    ")\n",
    "\n",
    "list(results)"
   ]
  },
  {
   "cell_type": "code",
   "execution_count": 36,
   "id": "a2026a35-d7be-43b4-997f-0e886868da57",
   "metadata": {},
   "outputs": [
    {
     "name": "stdout",
     "output_type": "stream",
     "text": [
      "2023-02-10 08:49:14,242 INFO sqlalchemy.engine.Engine  \n",
      "UPDATE delicious_stocks\n",
      "\n",
      "SET CAKE = 100\n",
      "\n",
      "WHERE CAKE = 40\n",
      "\n",
      "2023-02-10 08:49:14,242 INFO sqlalchemy.engine.Engine [raw sql] ()\n",
      "2023-02-10 08:49:14,242 INFO sqlalchemy.engine.Engine COMMIT\n"
     ]
    },
    {
     "data": {
      "text/plain": [
       "<sqlalchemy.engine.cursor.LegacyCursorResult at 0x144f6221220>"
      ]
     },
     "execution_count": 36,
     "metadata": {},
     "output_type": "execute_result"
    }
   ],
   "source": [
    "update_cake = \"\"\" \n",
    "UPDATE delicious_stocks\n",
    "\n",
    "SET CAKE = 100\n",
    "\n",
    "WHERE CAKE = 40\n",
    "\"\"\"\n",
    "\n",
    "engine.execute(\n",
    "    update_cake\n",
    ")"
   ]
  },
  {
   "cell_type": "code",
   "execution_count": 37,
   "id": "07948418-0a38-4664-9e13-455bec15bafc",
   "metadata": {},
   "outputs": [
    {
     "name": "stdout",
     "output_type": "stream",
     "text": [
      "2023-02-10 08:57:54,305 INFO sqlalchemy.engine.Engine \n",
      "SELECT * FROM delicious_stocks\n",
      "\n",
      "2023-02-10 08:57:54,305 INFO sqlalchemy.engine.Engine [raw sql] ()\n"
     ]
    },
    {
     "data": {
      "text/plain": [
       "[(10, 30), (20, 100)]"
      ]
     },
     "execution_count": 37,
     "metadata": {},
     "output_type": "execute_result"
    }
   ],
   "source": [
    "read_all_data = \"\"\"\n",
    "SELECT * FROM delicious_stocks\n",
    "\"\"\"\n",
    "\n",
    "results = engine.execute(\n",
    "    read_all_data\n",
    ")\n",
    "\n",
    "list(results)"
   ]
  },
  {
   "cell_type": "code",
   "execution_count": 38,
   "id": "73370c45-59e4-48e3-a229-4f1509260a11",
   "metadata": {},
   "outputs": [
    {
     "name": "stdout",
     "output_type": "stream",
     "text": [
      "2023-02-10 09:18:19,952 INFO sqlalchemy.engine.Engine \n",
      "\n",
      "DELETE FROM\n",
      "\n",
      "delicious_stocks\n",
      "\n",
      "WHERE\n",
      "\n",
      "EAT = 20\n",
      "\n",
      "\n",
      "2023-02-10 09:18:19,957 INFO sqlalchemy.engine.Engine [raw sql] ()\n",
      "2023-02-10 09:18:19,960 INFO sqlalchemy.engine.Engine COMMIT\n"
     ]
    },
    {
     "data": {
      "text/plain": [
       "<sqlalchemy.engine.cursor.LegacyCursorResult at 0x144f74cfcd0>"
      ]
     },
     "execution_count": 38,
     "metadata": {},
     "output_type": "execute_result"
    }
   ],
   "source": [
    "delete_eat = \"\"\"\n",
    "\n",
    "DELETE FROM\n",
    "\n",
    "delicious_stocks\n",
    "\n",
    "WHERE\n",
    "\n",
    "EAT = 20\n",
    "\n",
    "\"\"\"\n",
    "\n",
    "engine.execute(\n",
    "    delete_eat\n",
    ")"
   ]
  },
  {
   "cell_type": "code",
   "execution_count": 40,
   "id": "d9febfcf-0d62-45c9-a6e0-06e185bc8e71",
   "metadata": {},
   "outputs": [
    {
     "name": "stdout",
     "output_type": "stream",
     "text": [
      "2023-02-10 09:22:16,870 INFO sqlalchemy.engine.Engine \n",
      "\n",
      "SELECT\n",
      "\n",
      "*\n",
      "\n",
      "FROM\n",
      "\n",
      "delicious_stocks\n",
      "\n",
      "\n",
      "2023-02-10 09:22:16,873 INFO sqlalchemy.engine.Engine [raw sql] ()\n"
     ]
    },
    {
     "data": {
      "text/plain": [
       "[(10, 30)]"
      ]
     },
     "execution_count": 40,
     "metadata": {},
     "output_type": "execute_result"
    }
   ],
   "source": [
    "read_all_data = \"\"\"\n",
    "\n",
    "SELECT\n",
    "\n",
    "*\n",
    "\n",
    "FROM\n",
    "\n",
    "delicious_stocks\n",
    "\n",
    "\"\"\"\n",
    "\n",
    "results = engine.execute(\n",
    "    read_all_data\n",
    ")\n",
    "\n",
    "list(results)"
   ]
  },
  {
   "cell_type": "code",
   "execution_count": null,
   "id": "46c64f1f-9571-47d4-88a5-b760c9f31dfc",
   "metadata": {},
   "outputs": [],
   "source": []
  }
 ],
 "metadata": {
  "kernelspec": {
   "display_name": "Python (dev)",
   "language": "python",
   "name": "dev"
  },
  "language_info": {
   "codemirror_mode": {
    "name": "ipython",
    "version": 3
   },
   "file_extension": ".py",
   "mimetype": "text/x-python",
   "name": "python",
   "nbconvert_exporter": "python",
   "pygments_lexer": "ipython3",
   "version": "3.9.15"
  }
 },
 "nbformat": 4,
 "nbformat_minor": 5
}
