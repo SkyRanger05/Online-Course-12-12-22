{
 "cells": [
  {
   "cell_type": "code",
   "execution_count": 1,
   "metadata": {},
   "outputs": [],
   "source": [
    "# Import modules\n",
    "import pandas as pd\n",
    "import sqlalchemy as sql"
   ]
  },
  {
   "cell_type": "markdown",
   "metadata": {},
   "source": [
    "## Create the SQLite database and engine"
   ]
  },
  {
   "cell_type": "code",
   "execution_count": 2,
   "metadata": {},
   "outputs": [],
   "source": [
    "# Create a temporary sqlite database\n",
    "database_connection_string = 'sqlite:///'"
   ]
  },
  {
   "cell_type": "code",
   "execution_count": 3,
   "metadata": {},
   "outputs": [
    {
     "data": {
      "text/plain": [
       "Engine(sqlite:///)"
      ]
     },
     "execution_count": 3,
     "metadata": {},
     "output_type": "execute_result"
    }
   ],
   "source": [
    "# Database connection object\n",
    "engine = sql.create_engine(database_connection_string)\n",
    "engine"
   ]
  },
  {
   "cell_type": "code",
   "execution_count": 4,
   "metadata": {},
   "outputs": [
    {
     "name": "stderr",
     "output_type": "stream",
     "text": [
      "C:\\Users\\admin\\AppData\\Local\\Temp\\ipykernel_12608\\2337618584.py:2: SADeprecationWarning: The Engine.table_names() method is deprecated and will be removed in a future release.  Please refer to Inspector.get_table_names(). (deprecated since: 1.4)\n",
      "  engine.table_names()\n"
     ]
    },
    {
     "data": {
      "text/plain": [
       "[]"
      ]
     },
     "execution_count": 4,
     "metadata": {},
     "output_type": "execute_result"
    }
   ],
   "source": [
    "# Get table names from the database\n",
    "engine.table_names()"
   ]
  },
  {
   "cell_type": "markdown",
   "metadata": {},
   "source": [
    "## Create a Table From a Pandas DataFrame"
   ]
  },
  {
   "cell_type": "code",
   "execution_count": 5,
   "metadata": {},
   "outputs": [],
   "source": [
    "# pd.DataFrame(\n",
    "#     Series1 = [1,2,3,..nth],\n",
    "#     Series2 = {'a': 'b', 'c': 'd', 'e': 'f', ... },\n",
    "#     Series3 = [1,2,3,..nth]\n",
    "#     Series..nth = [...nth...]\n",
    "# )"
   ]
  },
  {
   "cell_type": "code",
   "execution_count": 6,
   "metadata": {},
   "outputs": [
    {
     "data": {
      "text/html": [
       "<div>\n",
       "<style scoped>\n",
       "    .dataframe tbody tr th:only-of-type {\n",
       "        vertical-align: middle;\n",
       "    }\n",
       "\n",
       "    .dataframe tbody tr th {\n",
       "        vertical-align: top;\n",
       "    }\n",
       "\n",
       "    .dataframe thead th {\n",
       "        text-align: right;\n",
       "    }\n",
       "</style>\n",
       "<table border=\"1\" class=\"dataframe\">\n",
       "  <thead>\n",
       "    <tr style=\"text-align: right;\">\n",
       "      <th></th>\n",
       "      <th>HTCH</th>\n",
       "      <th>EMPS</th>\n",
       "      <th>BUMP</th>\n",
       "    </tr>\n",
       "  </thead>\n",
       "  <tbody>\n",
       "    <tr>\n",
       "      <th>0</th>\n",
       "      <td>8.90</td>\n",
       "      <td>102.34</td>\n",
       "      <td>48.01</td>\n",
       "    </tr>\n",
       "    <tr>\n",
       "      <th>1</th>\n",
       "      <td>8.64</td>\n",
       "      <td>102.89</td>\n",
       "      <td>48.88</td>\n",
       "    </tr>\n",
       "  </tbody>\n",
       "</table>\n",
       "</div>"
      ],
      "text/plain": [
       "   HTCH    EMPS   BUMP\n",
       "0  8.90  102.34  48.01\n",
       "1  8.64  102.89  48.88"
      ]
     },
     "execution_count": 6,
     "metadata": {},
     "output_type": "execute_result"
    }
   ],
   "source": [
    "number1_portfolio_df = pd.DataFrame(\n",
    "    {\n",
    "        'HTCH': [8.90, 8.64],\n",
    "        'EMPS': [102.34, 102.89],\n",
    "        'BUMP': [48.01, 48.88]\n",
    "    }\n",
    ")\n",
    "\n",
    "number1_portfolio_df"
   ]
  },
  {
   "cell_type": "code",
   "execution_count": 7,
   "metadata": {},
   "outputs": [
    {
     "name": "stderr",
     "output_type": "stream",
     "text": [
      "C:\\Users\\admin\\AppData\\Local\\Temp\\ipykernel_12608\\329689167.py:11: SADeprecationWarning: The Engine.table_names() method is deprecated and will be removed in a future release.  Please refer to Inspector.get_table_names(). (deprecated since: 1.4)\n",
      "  engine.table_names()\n"
     ]
    },
    {
     "data": {
      "text/plain": [
       "['mortgage']"
      ]
     },
     "execution_count": 7,
     "metadata": {},
     "output_type": "execute_result"
    }
   ],
   "source": [
    "# Create the DataFrame\n",
    "mortgage_dataframe = number1_portfolio_df\n",
    "\n",
    "# Convert the DataFrame to a SQL table\n",
    "mortgage_dataframe.to_sql(\n",
    "    'mortgage',\n",
    "    engine\n",
    ")\n",
    "\n",
    "# Confirm table creation\n",
    "engine.table_names()"
   ]
  },
  {
   "cell_type": "markdown",
   "metadata": {},
   "source": [
    "## Read in a Database File"
   ]
  },
  {
   "cell_type": "code",
   "execution_count": 12,
   "metadata": {},
   "outputs": [],
   "source": [
    "# Database filepath\n",
    "database_connection_string = 'sqlite:///../../../../FinTech/FinTech2022_Module7_Financial Database with SQL/Git_lab_activities/1/Activities/01-Ins-SqlAlchemy/Resources/mortgage.db'"
   ]
  },
  {
   "cell_type": "code",
   "execution_count": 13,
   "metadata": {},
   "outputs": [
    {
     "data": {
      "text/plain": [
       "Engine(sqlite:///../../../../FinTech/FinTech2022_Module7_Financial Database with SQL/Git_lab_activities/1/Activities/01-Ins-SqlAlchemy/Resources/mortgage.db)"
      ]
     },
     "execution_count": 13,
     "metadata": {},
     "output_type": "execute_result"
    }
   ],
   "source": [
    "# Database connection object\n",
    "engine = sql.create_engine(\n",
    "    database_connection_string\n",
    ")\n",
    "engine"
   ]
  },
  {
   "cell_type": "code",
   "execution_count": 14,
   "metadata": {},
   "outputs": [
    {
     "name": "stderr",
     "output_type": "stream",
     "text": [
      "C:\\Users\\admin\\AppData\\Local\\Temp\\ipykernel_12608\\2337618584.py:2: SADeprecationWarning: The Engine.table_names() method is deprecated and will be removed in a future release.  Please refer to Inspector.get_table_names(). (deprecated since: 1.4)\n",
      "  engine.table_names()\n"
     ]
    },
    {
     "data": {
      "text/plain": [
       "['customers', 'mortgages', 'payments']"
      ]
     },
     "execution_count": 14,
     "metadata": {},
     "output_type": "execute_result"
    }
   ],
   "source": [
    "# Get table names from the database\n",
    "engine.table_names()"
   ]
  },
  {
   "cell_type": "markdown",
   "metadata": {},
   "source": [
    "# Review a table as a Pandas DataFrame"
   ]
  },
  {
   "cell_type": "code",
   "execution_count": 16,
   "metadata": {},
   "outputs": [
    {
     "data": {
      "text/html": [
       "<div>\n",
       "<style scoped>\n",
       "    .dataframe tbody tr th:only-of-type {\n",
       "        vertical-align: middle;\n",
       "    }\n",
       "\n",
       "    .dataframe tbody tr th {\n",
       "        vertical-align: top;\n",
       "    }\n",
       "\n",
       "    .dataframe thead th {\n",
       "        text-align: right;\n",
       "    }\n",
       "</style>\n",
       "<table border=\"1\" class=\"dataframe\">\n",
       "  <thead>\n",
       "    <tr style=\"text-align: right;\">\n",
       "      <th></th>\n",
       "      <th>customer_id</th>\n",
       "      <th>first_name</th>\n",
       "      <th>last_name</th>\n",
       "      <th>age</th>\n",
       "      <th>zip_code</th>\n",
       "      <th>mortgage_id</th>\n",
       "    </tr>\n",
       "  </thead>\n",
       "  <tbody>\n",
       "    <tr>\n",
       "      <th>0</th>\n",
       "      <td>0</td>\n",
       "      <td>David</td>\n",
       "      <td>Scott</td>\n",
       "      <td>74</td>\n",
       "      <td>31370</td>\n",
       "      <td>530180</td>\n",
       "    </tr>\n",
       "    <tr>\n",
       "      <th>1</th>\n",
       "      <td>1</td>\n",
       "      <td>Roy</td>\n",
       "      <td>Middleton</td>\n",
       "      <td>73</td>\n",
       "      <td>92023</td>\n",
       "      <td>625617</td>\n",
       "    </tr>\n",
       "    <tr>\n",
       "      <th>2</th>\n",
       "      <td>2</td>\n",
       "      <td>Shirley</td>\n",
       "      <td>Nelson</td>\n",
       "      <td>57</td>\n",
       "      <td>28670</td>\n",
       "      <td>588605</td>\n",
       "    </tr>\n",
       "    <tr>\n",
       "      <th>3</th>\n",
       "      <td>3</td>\n",
       "      <td>Rae</td>\n",
       "      <td>Bailey</td>\n",
       "      <td>29</td>\n",
       "      <td>74233</td>\n",
       "      <td>761909</td>\n",
       "    </tr>\n",
       "    <tr>\n",
       "      <th>4</th>\n",
       "      <td>4</td>\n",
       "      <td>Catherine</td>\n",
       "      <td>Carroll</td>\n",
       "      <td>50</td>\n",
       "      <td>90451</td>\n",
       "      <td>613158</td>\n",
       "    </tr>\n",
       "  </tbody>\n",
       "</table>\n",
       "</div>"
      ],
      "text/plain": [
       "  customer_id first_name  last_name  age  zip_code  mortgage_id\n",
       "0           0      David      Scott   74     31370       530180\n",
       "1           1        Roy  Middleton   73     92023       625617\n",
       "2           2    Shirley     Nelson   57     28670       588605\n",
       "3           3        Rae     Bailey   29     74233       761909\n",
       "4           4  Catherine    Carroll   50     90451       613158"
      ]
     },
     "execution_count": 16,
     "metadata": {},
     "output_type": "execute_result"
    }
   ],
   "source": [
    "# Create the Pandas DataFrame from a database table\n",
    "mortgage_customer_df = pd.read_sql_table(\n",
    "    'customers',\n",
    "    con=engine\n",
    ")\n",
    "\n",
    "# Review the DataFrame\n",
    "mortgage_customer_df.head()"
   ]
  },
  {
   "cell_type": "code",
   "execution_count": null,
   "metadata": {},
   "outputs": [],
   "source": []
  }
 ],
 "metadata": {
  "kernelspec": {
   "display_name": "Python (bingo)",
   "language": "python",
   "name": "bingo"
  },
  "language_info": {
   "codemirror_mode": {
    "name": "ipython",
    "version": 3
   },
   "file_extension": ".py",
   "mimetype": "text/x-python",
   "name": "python",
   "nbconvert_exporter": "python",
   "pygments_lexer": "ipython3",
   "version": "3.9.13"
  }
 },
 "nbformat": 4,
 "nbformat_minor": 4
}
